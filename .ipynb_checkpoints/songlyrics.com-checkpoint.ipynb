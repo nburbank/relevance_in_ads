{
 "cells": [
  {
   "cell_type": "code",
   "execution_count": 1,
   "metadata": {
    "collapsed": true
   },
   "outputs": [],
   "source": [
    "# database packages\n",
    "from sqlalchemy import create_engine\n",
    "from sqlalchemy_utils import database_exists, create_database\n",
    "import psycopg2\n",
    "\n",
    "# math\n",
    "import pandas as pd\n",
    "import numpy as np\n",
    "%matplotlib inline\n",
    "\n",
    "# nlp\n",
    "from sklearn.feature_extraction.text import TfidfVectorizer\n",
    "from nltk.stem.snowball import SnowballStemmer\n",
    "import re\n",
    "import nltk"
   ]
  },
  {
   "cell_type": "code",
   "execution_count": 2,
   "metadata": {
    "collapsed": true
   },
   "outputs": [],
   "source": [
    "# input from the webpage db\n",
    "dbname = 'urx'\n",
    "username = 'noahburbank'\n",
    "engine = create_engine('postgres://%s@localhost/%s'%(username,dbname))"
   ]
  },
  {
   "cell_type": "code",
   "execution_count": 3,
   "metadata": {
    "collapsed": false
   },
   "outputs": [
    {
     "data": {
      "text/plain": [
       "Index([u'index', u'starturl', u'start_domain', u'start_titles',\n",
       "       u'start_description', u'start_extracted_content',\n",
       "       u'start_stemmed_word_list', u'_unit_it', u'endurl', u'end_domain',\n",
       "       u'end_titles', u'end_decription', u'end_extracted_content',\n",
       "       u'end_stemmed_word_list'],\n",
       "      dtype='object')"
      ]
     },
     "execution_count": 3,
     "metadata": {},
     "output_type": "execute_result"
    }
   ],
   "source": [
    "# connect:\n",
    "con = None\n",
    "con = psycopg2.connect(database = dbname, user = username)\n",
    "\n",
    "# query:\n",
    "sql_query = \"\"\"\n",
    "SELECT * FROM webpage_data_table_exp2;\n",
    "\"\"\"\n",
    "webpage_data = pd.read_sql_query(sql_query,con)\n",
    "webpage_data.columns"
   ]
  },
  {
   "cell_type": "code",
   "execution_count": 27,
   "metadata": {
    "collapsed": false
   },
   "outputs": [
    {
     "data": {
      "text/plain": [
       "<matplotlib.axes._subplots.AxesSubplot at 0x10e7bfd90>"
      ]
     },
     "execution_count": 27,
     "metadata": {},
     "output_type": "execute_result"
    },
    {
     "data": {
      "image/png": "[encoded data removed]",
      "text/plain": [
       "<matplotlib.figure.Figure at 0x10f82da10>"
      ]
     },
     "metadata": {},
     "output_type": "display_data"
    }
   ],
   "source": [
    "webpage_data['songlyrics'] = webpage_data['start_domain'].apply(lambda x : x == 'songlyrics')\n",
    "webpage_data[webpage_data.songlyrics != 1]['start_description'].apply(lambda x: len(x)).hist(bins = 100)"
   ]
  },
  {
   "cell_type": "code",
   "execution_count": 26,
   "metadata": {
    "collapsed": false
   },
   "outputs": [
    {
     "data": {
      "text/plain": [
       "<matplotlib.axes._subplots.AxesSubplot at 0x10fd88050>"
      ]
     },
     "execution_count": 26,
     "metadata": {},
     "output_type": "execute_result"
    },
    {
     "data": {
      "image/png": "[encoded data removed]",
      "text/plain": [
       "<matplotlib.figure.Figure at 0x10e41fd90>"
      ]
     },
     "metadata": {},
     "output_type": "display_data"
    }
   ],
   "source": [
    "webpage_data[webpage_data.songlyrics == 1]['start_description'].apply(lambda x: len(x)).hist(bins = 10)\n"
   ]
  },
  {
   "cell_type": "code",
   "execution_count": 43,
   "metadata": {
    "collapsed": false,
    "scrolled": false
   },
   "outputs": [],
   "source": [
    "# list of words from worst performing set\n",
    "songlyrics_words = []\n",
    "for wordlist in webpage_data[webpage_data.start_domain == 'songlyrics']['start_stemmed_word_list']:\n",
    "    as_list = wordlist.replace('{', '').replace('}', '').split(',')\n",
    "    songlyrics_words += as_list\n",
    "songlyrics_words_set = set(songlyrics_words)"
   ]
  },
  {
   "cell_type": "code",
   "execution_count": 44,
   "metadata": {
    "collapsed": false,
    "scrolled": false
   },
   "outputs": [],
   "source": [
    "# list of all words that are not from song lyrics.com\n",
    "all_other_words = []\n",
    "for wordlist in webpage_data[webpage_data.start_domain != 'songlyrics']['start_stemmed_word_list']:\n",
    "    as_list = wordlist.replace('{', '').replace('}', '').split(',')\n",
    "    all_other_words += as_list\n",
    "all_other_words_set = set(all_other_words)"
   ]
  },
  {
   "cell_type": "code",
   "execution_count": 49,
   "metadata": {
    "collapsed": false,
    "scrolled": false
   },
   "outputs": [],
   "source": [
    "# list of words from best performing set \n",
    "zap2it_words = []\n",
    "for wordlist in webpage_data[webpage_data.start_domain == 'zap2it']['start_stemmed_word_list']:\n",
    "    as_list = wordlist.replace('{', '').replace('}', '').split(',')\n",
    "    zap2it_words += as_list\n",
    "zap2it_words_set = set(zap2it_words)"
   ]
  },
  {
   "cell_type": "code",
   "execution_count": 50,
   "metadata": {
    "collapsed": false
   },
   "outputs": [
    {
     "name": "stdout",
     "output_type": "stream",
     "text": [
      "95\n",
      "493\n"
     ]
    }
   ],
   "source": [
    "print len(songlyrics_words_set.difference(all_other_words_set))\n",
    "print len(songlyrics_words_set)"
   ]
  },
  {
   "cell_type": "code",
   "execution_count": 51,
   "metadata": {
    "collapsed": false
   },
   "outputs": [
    {
     "name": "stdout",
     "output_type": "stream",
     "text": [
      "95\n",
      "2272\n"
     ]
    }
   ],
   "source": [
    "print len(songlyrics_words_set.difference(all_other_words_set))\n",
    "print len(zap2it_words_set)"
   ]
  },
  {
   "cell_type": "code",
   "execution_count": 53,
   "metadata": {
    "collapsed": false
   },
   "outputs": [
    {
     "name": "stdout",
     "output_type": "stream",
     "text": [
      "stlyrics\n",
      "lyricsbox\n",
      "rap-up\n",
      "cinemablend\n",
      "factmag\n",
      "guitaretab\n",
      "oldielyrics\n",
      "songlyrics\n",
      "lyricsmania\n",
      "hotnewhiphop\n",
      "dancingastronaut\n",
      "lyricsdepot\n",
      "cowboylyrics\n",
      "blabbermouth\n",
      "lyricsondemand\n",
      "onlylyrics\n",
      "lyrster\n",
      "directlyrics\n",
      "dicelacancion\n",
      "zap2it\n",
      "metalinjection\n",
      "rollingout\n",
      "lyrics\n",
      "allhiphop\n",
      "artists.letssingit\n",
      "contactmusic\n"
     ]
    }
   ],
   "source": [
    "for domain in webpage_data.start_domain.unique():\n",
    "    list_of_word_lists = []\n",
    "    for wordlist in webpage_data[webpage_data.start_domain == domian]['start_stemmed_word_list']:\n",
    "        as_list = wordlist.replace('{', '').replace('}', '').split(',')\n",
    "        list_of_word_lists += as_list\n",
    "        "
   ]
  },
  {
   "cell_type": "code",
   "execution_count": null,
   "metadata": {
    "collapsed": true
   },
   "outputs": [],
   "source": []
  },
  {
   "cell_type": "code",
   "execution_count": null,
   "metadata": {
    "collapsed": true
   },
   "outputs": [],
   "source": []
  },
  {
   "cell_type": "code",
   "execution_count": null,
   "metadata": {
    "collapsed": true
   },
   "outputs": [],
   "source": []
  },
  {
   "cell_type": "code",
   "execution_count": null,
   "metadata": {
    "collapsed": true
   },
   "outputs": [],
   "source": []
  },
  {
   "cell_type": "code",
   "execution_count": null,
   "metadata": {
    "collapsed": true
   },
   "outputs": [],
   "source": []
  },
  {
   "cell_type": "code",
   "execution_count": null,
   "metadata": {
    "collapsed": true
   },
   "outputs": [],
   "source": []
  },
  {
   "cell_type": "code",
   "execution_count": null,
   "metadata": {
    "collapsed": true
   },
   "outputs": [],
   "source": []
  },
  {
   "cell_type": "code",
   "execution_count": null,
   "metadata": {
    "collapsed": true
   },
   "outputs": [],
   "source": []
  },
  {
   "cell_type": "code",
   "execution_count": null,
   "metadata": {
    "collapsed": true
   },
   "outputs": [],
   "source": []
  },
  {
   "cell_type": "code",
   "execution_count": null,
   "metadata": {
    "collapsed": true
   },
   "outputs": [],
   "source": []
  }
 ],
 "metadata": {
  "kernelspec": {
   "display_name": "Python 2",
   "language": "python",
   "name": "python2"
  },
  "language_info": {
   "codemirror_mode": {
    "name": "ipython",
    "version": 2
   },
   "file_extension": ".py",
   "mimetype": "text/x-python",
   "name": "python",
   "nbconvert_exporter": "python",
   "pygments_lexer": "ipython2",
   "version": "2.7.11"
  }
 },
 "nbformat": 4,
 "nbformat_minor": 0
}
