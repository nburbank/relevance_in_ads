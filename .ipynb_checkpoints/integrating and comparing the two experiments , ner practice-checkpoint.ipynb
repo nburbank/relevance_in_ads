{
 "cells": [
  {
   "cell_type": "code",
   "execution_count": 1,
   "metadata": {
    "collapsed": true
   },
   "outputs": [],
   "source": [
    "## import pertinent libraries\n",
    "import pandas as pd"
   ]
  },
  {
   "cell_type": "code",
   "execution_count": 3,
   "metadata": {
    "collapsed": false
   },
   "outputs": [
    {
     "name": "stdout",
     "output_type": "stream",
     "text": [
      "Index([u'Unnamed: 0', u'_unit_id', u'_created_at', u'_golden', u'_id',\n",
      "       u'_missed', u'_started_at', u'_tainted', u'_channel', u'_trust',\n",
      "       u'_worker_id', u'_country', u'_region', u'_city', u'_ip',\n",
      "       u'please_make_your_relevancy_judgment', u'orig__created_at',\n",
      "       u'orig__golden', u'orig__unit_id', u'_updated_at', u'endurl', u'nil',\n",
      "       u'please_make_your_relevancy_judgment_gold',\n",
      "       u'please_make_your_relevancy_judgment_gold_reason', u'query',\n",
      "       u'starturl', u'type'],\n",
      "      dtype='object')\n",
      "\n",
      "Index([u'Unnamed: 0', u'_unit_id', u'_created_at', u'_golden', u'_id',\n",
      "       u'_missed', u'_started_at', u'_tainted', u'_channel', u'_trust',\n",
      "       u'_worker_id', u'_country', u'_region', u'_city', u'_ip',\n",
      "       u'please_make_your_relevancy_judgment', u'orig__created_at',\n",
      "       u'orig__golden', u'orig__unit_id', u'_updated_at', u'endurl', u'nil',\n",
      "       u'please_make_your_relevancy_judgment_gold',\n",
      "       u'please_make_your_relevancy_judgment_gold_reason', u'starturl',\n",
      "       u'type'],\n",
      "      dtype='object')\n"
     ]
    }
   ],
   "source": [
    "# import the datasets (cleaned of golden rows and nan's)\n",
    "exp1 = pd.read_csv('experiment1_data.csv')\n",
    "exp2 = pd.read_csv('experiment2_data.csv')\n",
    "\n",
    "# print column names\n",
    "print exp1.columns\n",
    "print\n",
    "print exp2.columns"
   ]
  },
  {
   "cell_type": "code",
   "execution_count": 22,
   "metadata": {
    "collapsed": false
   },
   "outputs": [
    {
     "name": "stdout",
     "output_type": "stream",
     "text": [
      "492\n",
      "0\n"
     ]
    }
   ],
   "source": [
    "# double check that we're stll working with the same set of experiments \n",
    "starturl1 = set(exp1.starturl)\n",
    "starturl2 = set(exp2.starturl)\n",
    "print len(starturl1.intersection(starturl2))\n",
    "print len(starturl1.difference(starturl2))\n",
    "\n",
    "# they are the same"
   ]
  },
  {
   "cell_type": "code",
   "execution_count": 23,
   "metadata": {
    "collapsed": false
   },
   "outputs": [
    {
     "name": "stdout",
     "output_type": "stream",
     "text": [
      "0\n",
      "950\n"
     ]
    }
   ],
   "source": [
    "# see if the unit_id is actually consistent, or if that's recreated through crowd flower \n",
    "unitid1 = set(exp1._unit_id)\n",
    "unitid2 = set(exp2._unit_id)\n",
    "print len(unitid1.intersection(unitid2))\n",
    "print len(unitid1.difference(unitid2))\n",
    "\n",
    "# the unitid coding is created independently each time by the crowdflower people"
   ]
  },
  {
   "cell_type": "code",
   "execution_count": 144,
   "metadata": {
    "collapsed": false,
    "scrolled": false
   },
   "outputs": [],
   "source": [
    "# concatonate the objects \n",
    "# exp1 has a query column, which i do not want or need, so let's drop that to be same\n",
    "exp1 = exp1.drop('query',1)\n",
    "both_exps = pd.concat([exp1, exp2])"
   ]
  },
  {
   "cell_type": "code",
   "execution_count": 145,
   "metadata": {
    "collapsed": true
   },
   "outputs": [],
   "source": [
    "# export for analysis \n",
    "both_exps.to_csv('both_exps.csv')"
   ]
  },
  {
   "cell_type": "code",
   "execution_count": 156,
   "metadata": {
    "collapsed": false
   },
   "outputs": [
    {
     "name": "stdout",
     "output_type": "stream",
     "text": [
      "No Java runtime present, requesting install.\n",
      "\n"
     ]
    },
    {
     "ename": "OSError",
     "evalue": "Java command failed : [u'/usr/bin/java', '-mx1000m', '-cp', '/Users/noahburbank/Python/stanford-ner/stanford-ner-2014-06-16/stanford-ner-3.4.jar', 'edu.stanford.nlp.ie.crf.CRFClassifier', '-loadClassifier', '/Users/noahburbank/Python/stanford-ner/stanford-ner-2014-06-16/classifiers/english.all.3class.distsim.crf.ser.gz', '-textFile', '/var/folders/1y/mtbpr_vs46bdgjdbppyfn7480000gn/T/tmpVW_Z2a', '-outputFormat', 'slashTags', '-tokenizerFactory', 'edu.stanford.nlp.process.WhitespaceTokenizer', '-tokenizerOptions', '\"tokenizeNLs=false\"', '-encoding', 'utf8']",
     "output_type": "error",
     "traceback": [
      "\u001b[0;31m---------------------------------------------------------------------------\u001b[0m",
      "\u001b[0;31mOSError\u001b[0m                                   Traceback (most recent call last)",
      "\u001b[0;32m<ipython-input-156-8cc3445b9ada>\u001b[0m in \u001b[0;36m<module>\u001b[0;34m()\u001b[0m\n\u001b[1;32m      4\u001b[0m \u001b[0msent\u001b[0m \u001b[0;34m=\u001b[0m \u001b[0;34m'Rami Eid is studying at Stony Brook University in NY'\u001b[0m\u001b[0;34m\u001b[0m\u001b[0m\n\u001b[1;32m      5\u001b[0m \u001b[0;34m\u001b[0m\u001b[0m\n\u001b[0;32m----> 6\u001b[0;31m \u001b[0mst\u001b[0m\u001b[0;34m.\u001b[0m\u001b[0mtag\u001b[0m\u001b[0;34m(\u001b[0m\u001b[0msent\u001b[0m\u001b[0;34m.\u001b[0m\u001b[0msplit\u001b[0m\u001b[0;34m(\u001b[0m\u001b[0;34m)\u001b[0m\u001b[0;34m)\u001b[0m\u001b[0;34m\u001b[0m\u001b[0m\n\u001b[0m",
      "\u001b[0;32m/Users/noahburbank/anaconda/envs/py2/lib/python2.7/site-packages/nltk/tag/stanford.pyc\u001b[0m in \u001b[0;36mtag\u001b[0;34m(self, tokens)\u001b[0m\n\u001b[1;32m     64\u001b[0m     \u001b[0;32mdef\u001b[0m \u001b[0mtag\u001b[0m\u001b[0;34m(\u001b[0m\u001b[0mself\u001b[0m\u001b[0;34m,\u001b[0m \u001b[0mtokens\u001b[0m\u001b[0;34m)\u001b[0m\u001b[0;34m:\u001b[0m\u001b[0;34m\u001b[0m\u001b[0m\n\u001b[1;32m     65\u001b[0m         \u001b[0;31m# This function should return list of tuple rather than list of list\u001b[0m\u001b[0;34m\u001b[0m\u001b[0;34m\u001b[0m\u001b[0m\n\u001b[0;32m---> 66\u001b[0;31m         \u001b[0;32mreturn\u001b[0m \u001b[0msum\u001b[0m\u001b[0;34m(\u001b[0m\u001b[0mself\u001b[0m\u001b[0;34m.\u001b[0m\u001b[0mtag_sents\u001b[0m\u001b[0;34m(\u001b[0m\u001b[0;34m[\u001b[0m\u001b[0mtokens\u001b[0m\u001b[0;34m]\u001b[0m\u001b[0;34m)\u001b[0m\u001b[0;34m,\u001b[0m \u001b[0;34m[\u001b[0m\u001b[0;34m]\u001b[0m\u001b[0;34m)\u001b[0m\u001b[0;34m\u001b[0m\u001b[0m\n\u001b[0m\u001b[1;32m     67\u001b[0m \u001b[0;34m\u001b[0m\u001b[0m\n\u001b[1;32m     68\u001b[0m     \u001b[0;32mdef\u001b[0m \u001b[0mtag_sents\u001b[0m\u001b[0;34m(\u001b[0m\u001b[0mself\u001b[0m\u001b[0;34m,\u001b[0m \u001b[0msentences\u001b[0m\u001b[0;34m)\u001b[0m\u001b[0;34m:\u001b[0m\u001b[0;34m\u001b[0m\u001b[0m\n",
      "\u001b[0;32m/Users/noahburbank/anaconda/envs/py2/lib/python2.7/site-packages/nltk/tag/stanford.pyc\u001b[0m in \u001b[0;36mtag_sents\u001b[0;34m(self, sentences)\u001b[0m\n\u001b[1;32m     87\u001b[0m         \u001b[0;31m# Run the tagger and get the output\u001b[0m\u001b[0;34m\u001b[0m\u001b[0;34m\u001b[0m\u001b[0m\n\u001b[1;32m     88\u001b[0m         stanpos_output, _stderr = java(cmd, classpath=self._stanford_jar,\n\u001b[0;32m---> 89\u001b[0;31m                                                        stdout=PIPE, stderr=PIPE)\n\u001b[0m\u001b[1;32m     90\u001b[0m         \u001b[0mstanpos_output\u001b[0m \u001b[0;34m=\u001b[0m \u001b[0mstanpos_output\u001b[0m\u001b[0;34m.\u001b[0m\u001b[0mdecode\u001b[0m\u001b[0;34m(\u001b[0m\u001b[0mencoding\u001b[0m\u001b[0;34m)\u001b[0m\u001b[0;34m\u001b[0m\u001b[0m\n\u001b[1;32m     91\u001b[0m \u001b[0;34m\u001b[0m\u001b[0m\n",
      "\u001b[0;32m/Users/noahburbank/anaconda/envs/py2/lib/python2.7/site-packages/nltk/__init__.pyc\u001b[0m in \u001b[0;36mjava\u001b[0;34m(cmd, classpath, stdin, stdout, stderr, blocking)\u001b[0m\n\u001b[1;32m    132\u001b[0m     \u001b[0;32mif\u001b[0m \u001b[0mp\u001b[0m\u001b[0;34m.\u001b[0m\u001b[0mreturncode\u001b[0m \u001b[0;34m!=\u001b[0m \u001b[0;36m0\u001b[0m\u001b[0;34m:\u001b[0m\u001b[0;34m\u001b[0m\u001b[0m\n\u001b[1;32m    133\u001b[0m         \u001b[0;32mprint\u001b[0m\u001b[0;34m(\u001b[0m\u001b[0m_decode_stdoutdata\u001b[0m\u001b[0;34m(\u001b[0m\u001b[0mstderr\u001b[0m\u001b[0;34m)\u001b[0m\u001b[0;34m)\u001b[0m\u001b[0;34m\u001b[0m\u001b[0m\n\u001b[0;32m--> 134\u001b[0;31m         \u001b[0;32mraise\u001b[0m \u001b[0mOSError\u001b[0m\u001b[0;34m(\u001b[0m\u001b[0;34m'Java command failed : '\u001b[0m \u001b[0;34m+\u001b[0m \u001b[0mstr\u001b[0m\u001b[0;34m(\u001b[0m\u001b[0mcmd\u001b[0m\u001b[0;34m)\u001b[0m\u001b[0;34m)\u001b[0m\u001b[0;34m\u001b[0m\u001b[0m\n\u001b[0m\u001b[1;32m    135\u001b[0m \u001b[0;34m\u001b[0m\u001b[0m\n\u001b[1;32m    136\u001b[0m     \u001b[0;32mreturn\u001b[0m \u001b[0;34m(\u001b[0m\u001b[0mstdout\u001b[0m\u001b[0;34m,\u001b[0m \u001b[0mstderr\u001b[0m\u001b[0;34m)\u001b[0m\u001b[0;34m\u001b[0m\u001b[0m\n",
      "\u001b[0;31mOSError\u001b[0m: Java command failed : [u'/usr/bin/java', '-mx1000m', '-cp', '/Users/noahburbank/Python/stanford-ner/stanford-ner-2014-06-16/stanford-ner-3.4.jar', 'edu.stanford.nlp.ie.crf.CRFClassifier', '-loadClassifier', '/Users/noahburbank/Python/stanford-ner/stanford-ner-2014-06-16/classifiers/english.all.3class.distsim.crf.ser.gz', '-textFile', '/var/folders/1y/mtbpr_vs46bdgjdbppyfn7480000gn/T/tmpVW_Z2a', '-outputFormat', 'slashTags', '-tokenizerFactory', 'edu.stanford.nlp.process.WhitespaceTokenizer', '-tokenizerOptions', '\"tokenizeNLs=false\"', '-encoding', 'utf8']"
     ]
    }
   ],
   "source": [
    "from nltk.tag.stanford import StanfordNERTagger\n",
    "st = StanfordNERTagger('/Users/noahburbank/Python/stanford-ner/stanford-ner-2014-06-16/classifiers/english.all.3class.distsim.crf.ser.gz', '/Users/noahburbank/Python/stanford-ner/stanford-ner-2014-06-16/stanford-ner-3.4.jar')\n",
    "\n",
    "sent = 'Rami Eid is studying at Stony Brook University in NY'\n",
    "\n",
    "st.tag(sent.split())\n"
   ]
  },
  {
   "cell_type": "code",
   "execution_count": null,
   "metadata": {
    "collapsed": true
   },
   "outputs": [],
   "source": []
  }
 ],
 "metadata": {
  "kernelspec": {
   "display_name": "Python 2",
   "language": "python",
   "name": "python2"
  },
  "language_info": {
   "codemirror_mode": {
    "name": "ipython",
    "version": 2
   },
   "file_extension": ".py",
   "mimetype": "text/x-python",
   "name": "python",
   "nbconvert_exporter": "python",
   "pygments_lexer": "ipython2",
   "version": "2.7.11"
  }
 },
 "nbformat": 4,
 "nbformat_minor": 0
}
