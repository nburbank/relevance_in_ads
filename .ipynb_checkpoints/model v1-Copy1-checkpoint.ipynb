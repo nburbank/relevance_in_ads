{
 "cells": [
  {
   "cell_type": "code",
   "execution_count": 1,
   "metadata": {
    "collapsed": true
   },
   "outputs": [],
   "source": [
    "#Outline for the project\n",
    "# import libraries\n",
    "\n",
    "import pandas as pd \n",
    "%matplotlib inline\n",
    "import numpy as np\n"
   ]
  },
  {
   "cell_type": "code",
   "execution_count": 37,
   "metadata": {
    "collapsed": true
   },
   "outputs": [],
   "source": [
    "# import the data \n",
    "raw_df = pd.read_csv('f835051.csv')\n",
    "\n",
    "# cut out the parts that are for training the reviewers \n",
    "df = raw_df[raw_df['_golden'] == False]"
   ]
  },
  {
   "cell_type": "code",
   "execution_count": 8,
   "metadata": {
    "collapsed": false
   },
   "outputs": [],
   "source": [
    "# get the unique publisher/advertiser pair along with the unit id for that pair\n",
    "\n",
    "x = zip(df['starturl'], df['endurl']) # pair each of the publisher/advertisers \n",
    "z = dict(zip(x, df['_unit_id'])) # make a dictionary with each pair as key to the pair id \n",
    "set_x = set(x) # select unique pairs \n",
    "\n",
    "start_urls = list()\n",
    "end_urls = list()\n",
    "ids = list()\n",
    "\n",
    "# iterate through unique pairs to produce lists with just id, start, end url for each unique pair  \n",
    "for unique_pair in set_x:\n",
    "    start_urls.append(unique_pair[0])\n",
    "    end_urls.append(unique_pair[1])\n",
    "    ids.append(z[unique_pair])\n",
    "    \n",
    "### should z be backwards? "
   ]
  },
  {
   "cell_type": "code",
   "execution_count": 54,
   "metadata": {
    "collapsed": false
   },
   "outputs": [],
   "source": [
    "# aggregate reviewers for authoritative relevance metric \n",
    "\n",
    "#store as a dictionary, keyed to the pair unit_id\n",
    "mean_scores = dict()\n",
    "\n",
    "# make the simple score \n",
    "for unit_id in ids: \n",
    "    temp_df = experimental_df[experimental_df['_unit_id'] == unit_id] # pandas series for each pair\n",
    "    temp_mean = temp_df['please_make_your_relevancy_judgment'].mean() # take the mean\n",
    "    mean_scores[unit_id] = temp_mean   "
   ]
  },
  {
   "cell_type": "code",
   "execution_count": 56,
   "metadata": {
    "collapsed": false
   },
   "outputs": [],
   "source": [
    "# put all together into a dataframe \n",
    "all_df = pd.DataFrame()\n",
    "all_df['unit_id'] = ids\n",
    "all_df['starturl'] = start_urls\n",
    "all_df['endurl'] = end_urls\n",
    "all_df['relevance'] = mean_scores.values()"
   ]
  },
  {
   "cell_type": "code",
   "execution_count": 58,
   "metadata": {
    "collapsed": false
   },
   "outputs": [],
   "source": [
    "# modification of scores (within the pandas frame becuase i made the mean_scores with a dict)\n",
    "\n",
    "#normalize relevance to be a probability \n",
    "all_df['relevance'] = (all_df['relevance'] - all_df['relevance'].min())\n",
    "all_df['relevance'] = all_df['relevance']/all_df['relevance'].max()\n",
    "\n",
    "#kind of janky to round up or down \n",
    "all_df['relevance'] = (all_df['relevance']>.5) + 0"
   ]
  },
  {
   "cell_type": "code",
   "execution_count": 26,
   "metadata": {
    "collapsed": false
   },
   "outputs": [],
   "source": [
    "features = pd.read_csv('features.csv')\n",
    "scores = pd.read_csv('aggregated_scores.csv')"
   ]
  },
  {
   "cell_type": "code",
   "execution_count": null,
   "metadata": {
    "collapsed": false,
    "scrolled": false
   },
   "outputs": [],
   "source": []
  },
  {
   "cell_type": "code",
   "execution_count": 47,
   "metadata": {
    "collapsed": false
   },
   "outputs": [],
   "source": [
    "all_df = pd.DataFrame()\n",
    "all_df['unit_id'] = features['cosine_value']\n",
    "all_df['relevance'] = scores['score']"
   ]
  },
  {
   "cell_type": "code",
   "execution_count": 48,
   "metadata": {
    "collapsed": true
   },
   "outputs": [],
   "source": [
    "# split into training and testing sets \n",
    "np.random.seed(5)\n",
    "msk = np.random.rand(len(scores)) < 0.8\n",
    "\n",
    "train = all_df[msk]\n",
    "test = all_df[~msk]"
   ]
  },
  {
   "cell_type": "code",
   "execution_count": null,
   "metadata": {
    "collapsed": false
   },
   "outputs": [],
   "source": []
  },
  {
   "cell_type": "code",
   "execution_count": 49,
   "metadata": {
    "collapsed": true
   },
   "outputs": [],
   "source": [
    "# split into training and testing sets \n",
    "np.random.seed(5)\n",
    "msk = np.random.rand(len(scores)) < 0.8\n",
    "\n",
    "train = all_df[msk]\n",
    "test = all_df[~msk]\n",
    "\n"
   ]
  },
  {
   "cell_type": "code",
   "execution_count": 50,
   "metadata": {
    "collapsed": false
   },
   "outputs": [],
   "source": [
    "X = train.ix[:, train.columns == 'unit_id']\n",
    "Y = train['relevance']"
   ]
  },
  {
   "cell_type": "code",
   "execution_count": 55,
   "metadata": {
    "collapsed": false
   },
   "outputs": [],
   "source": [
    "# stick with the logistic regression!! \n",
    "# initialize and train the model \n",
    "\n",
    "from sklearn.linear_model import LogisticRegression\n",
    "clf = LogisticRegression()\n",
    "clf = clf.fit(X,Y)\n",
    "\n",
    "predicted = clf.predict(test[''])"
   ]
  },
  {
   "cell_type": "code",
   "execution_count": 52,
   "metadata": {
    "collapsed": false
   },
   "outputs": [
    {
     "ename": "NameError",
     "evalue": "name 'predicted' is not defined",
     "output_type": "error",
     "traceback": [
      "\u001b[0;31m---------------------------------------------------------------------------\u001b[0m",
      "\u001b[0;31mNameError\u001b[0m                                 Traceback (most recent call last)",
      "\u001b[0;32m<ipython-input-52-609d20ad350b>\u001b[0m in \u001b[0;36m<module>\u001b[0;34m()\u001b[0m\n\u001b[1;32m      1\u001b[0m \u001b[0;32mfrom\u001b[0m \u001b[0msklearn\u001b[0m\u001b[0;34m.\u001b[0m\u001b[0mmetrics\u001b[0m \u001b[0;32mimport\u001b[0m \u001b[0mconfusion_matrix\u001b[0m\u001b[0;34m\u001b[0m\u001b[0m\n\u001b[1;32m      2\u001b[0m \u001b[0;31m# cm (true, predicted)\u001b[0m\u001b[0;34m\u001b[0m\u001b[0;34m\u001b[0m\u001b[0m\n\u001b[0;32m----> 3\u001b[0;31m \u001b[0mcm\u001b[0m \u001b[0;34m=\u001b[0m \u001b[0mconfusion_matrix\u001b[0m\u001b[0;34m(\u001b[0m\u001b[0mtest\u001b[0m\u001b[0;34m[\u001b[0m\u001b[0;34m'relevance'\u001b[0m\u001b[0;34m]\u001b[0m\u001b[0;34m,\u001b[0m \u001b[0mpredicted\u001b[0m\u001b[0;34m)\u001b[0m\u001b[0;34m\u001b[0m\u001b[0m\n\u001b[0m\u001b[1;32m      4\u001b[0m \u001b[0;34m\u001b[0m\u001b[0m\n\u001b[1;32m      5\u001b[0m \u001b[0ma\u001b[0m \u001b[0;34m=\u001b[0m \u001b[0mfloat\u001b[0m\u001b[0;34m(\u001b[0m\u001b[0mcm\u001b[0m\u001b[0;34m[\u001b[0m\u001b[0;36m0\u001b[0m\u001b[0;34m,\u001b[0m\u001b[0;36m0\u001b[0m\u001b[0;34m]\u001b[0m\u001b[0;34m)\u001b[0m\u001b[0;34m\u001b[0m\u001b[0m\n",
      "\u001b[0;31mNameError\u001b[0m: name 'predicted' is not defined"
     ]
    }
   ],
   "source": [
    "from sklearn.metrics import confusion_matrix\n",
    "# cm (true, predicted)\n",
    "cm = confusion_matrix(test['relevance'], predicted)\n",
    "\n",
    "a = float(cm[0,0])\n",
    "b = float(cm[0,1])\n",
    "c = float(cm[1,0])\n",
    "d = float(cm[1,1])\n",
    "\n",
    "\n",
    "try: \n",
    "    precision = d / (d + b)\n",
    "except ZeroDivisionError:\n",
    "    precision = \"not an answerable question\"\n",
    "    \n",
    "                \n",
    "recall =  c / (c + d)\n",
    "accuracy = (a + d)/ (a + b + c + d)\n",
    "\n",
    "print \n",
    "print 'accuracy is ' + str(accuracy)\n",
    "print \"precision is \" + str(precision)\n",
    "print \"recall is \" + str(recall)"
   ]
  },
  {
   "cell_type": "code",
   "execution_count": null,
   "metadata": {
    "collapsed": true
   },
   "outputs": [],
   "source": []
  }
 ],
 "metadata": {
  "kernelspec": {
   "display_name": "Python 2",
   "language": "python",
   "name": "python2"
  },
  "language_info": {
   "codemirror_mode": {
    "name": "ipython",
    "version": 2
   },
   "file_extension": ".py",
   "mimetype": "text/x-python",
   "name": "python",
   "nbconvert_exporter": "python",
   "pygments_lexer": "ipython2",
   "version": "2.7.11"
  }
 },
 "nbformat": 4,
 "nbformat_minor": 0
}
