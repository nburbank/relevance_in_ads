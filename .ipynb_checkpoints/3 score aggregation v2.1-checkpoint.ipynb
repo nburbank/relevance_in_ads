{
 "cells": [
  {
   "cell_type": "markdown",
   "metadata": {},
   "source": [
    "# remove  fraudulent workers, and aggregate scores of` remaining workers"
   ]
  },
  {
   "cell_type": "code",
   "execution_count": 1,
   "metadata": {
    "collapsed": true
   },
   "outputs": [],
   "source": [
    "import pandas as pd\n",
    "%matplotlib inline\n",
    "import numpy as np\n",
    "import matplotlib as mpl\n",
    "from scipy.stats import mode"
   ]
  },
  {
   "cell_type": "code",
   "execution_count": 2,
   "metadata": {
    "collapsed": true
   },
   "outputs": [],
   "source": [
    "from sqlalchemy import create_engine\n",
    "from sqlalchemy_utils import database_exists, create_database\n",
    "import psycopg2\n",
    "\n",
    "dbname = 'urx'\n",
    "username = 'noahburbank'\n",
    "\n",
    "engine = create_engine('postgres://%s@localhost/%s'%(username,dbname))"
   ]
  },
  {
   "cell_type": "code",
   "execution_count": 3,
   "metadata": {
    "collapsed": false
   },
   "outputs": [
    {
     "name": "stdout",
     "output_type": "stream",
     "text": [
      "Index([u'index', u'_worker_id', u'job_count', u'variance', u'mean',\n",
      "       u'diversity_score', u'minority_percentage', u'is_bad',\n",
      "       u'is_bad_cluster'],\n",
      "      dtype='object')\n"
     ]
    }
   ],
   "source": [
    "# import worker data \n",
    "# connect:\n",
    "con = None\n",
    "con = psycopg2.connect(database = dbname, user = username)\n",
    "\n",
    "#adjust for experiment \n",
    "# query:\n",
    "sql_query = \"\"\"\n",
    "SELECT * FROM worker_table_exp1;\n",
    "\"\"\"\n",
    "workers = pd.read_sql_query(sql_query,con)\n",
    "\n",
    "print workers.columns"
   ]
  },
  {
   "cell_type": "code",
   "execution_count": 20,
   "metadata": {
    "collapsed": false
   },
   "outputs": [],
   "source": [
    "# import score data\n",
    "# choose the data from the relevant experiment \n",
    "raw_df = pd.read_csv('experiment1_data.csv')\n",
    "#raw_df = pd.read_csv('experiment2_data.csv')"
   ]
  },
  {
   "cell_type": "markdown",
   "metadata": {
    "collapsed": true
   },
   "source": [
    "## First get rid of the fraudsters"
   ]
  },
  {
   "cell_type": "code",
   "execution_count": 21,
   "metadata": {
    "collapsed": false
   },
   "outputs": [
    {
     "name": "stdout",
     "output_type": "stream",
     "text": [
      "you are only losing :\n",
      "0.706557739015\n",
      "percent of your data!!!\n"
     ]
    }
   ],
   "source": [
    "old_length = len(raw_df)\n",
    "\n",
    "# create set of bad worker ids\n",
    "for group in workers.groupby('is_bad'):\n",
    "    if group[0] == 1:\n",
    "        bad_id_list = list(group[1]['_worker_id'])\n",
    "        bad_id_set = set(bad_id_list)\n",
    "\n",
    "# identify the rows from bad workers\n",
    "raw_df['bad_worker'] = raw_df['_worker_id'].apply(lambda x: x in bad_id_set)\n",
    "\n",
    "# remove those rows \n",
    "raw_df = raw_df[raw_df['bad_worker'] == 0]\n",
    "\n",
    "new_length = len(raw_df)\n",
    "\n",
    "print 'you are only losing :'\n",
    "print (1 - float(new_length)/old_length) * 100\n",
    "print 'percent of your data!!!'"
   ]
  },
  {
   "cell_type": "markdown",
   "metadata": {},
   "source": [
    "# score the individual pub/ad pairs"
   ]
  },
  {
   "cell_type": "code",
   "execution_count": 6,
   "metadata": {
    "collapsed": false
   },
   "outputs": [],
   "source": [
    "## detect majority judgments (and how much of a majority)\n",
    "# score each unit id base\n",
    "plurality_judgment = dict()\n",
    "job_count = {}\n",
    "\n",
    "for line in raw_df.groupby('_unit_id'):\n",
    "    unit_id = line[0]\n",
    "    judgments = line[1]['please_make_your_relevancy_judgment']\n",
    "    mode = judgments.mode()\n",
    "    mode = int(mode[0])\n",
    "    mode_count = 0\n",
    "    judgment_count = 0\n",
    "    for judgment in judgments:\n",
    "        judgment_count += 1\n",
    "        if judgment == mode:\n",
    "            mode_count += 1\n",
    "    plurality_percentage = (mode_count +0.0)/judgment_count\n",
    "    job_count[line[0]] = judgment_count\n",
    "    plurality_judgment[line[0]] = mode, plurality_percentage"
   ]
  },
  {
   "cell_type": "code",
   "execution_count": 24,
   "metadata": {
    "collapsed": false
   },
   "outputs": [
    {
     "data": {
      "text/html": [
       "<div>\n",
       "<table border=\"1\" class=\"dataframe\">\n",
       "  <thead>\n",
       "    <tr style=\"text-align: right;\">\n",
       "      <th></th>\n",
       "      <th>_unit_id</th>\n",
       "      <th>majority</th>\n",
       "      <th>score</th>\n",
       "      <th>judgments</th>\n",
       "    </tr>\n",
       "  </thead>\n",
       "  <tbody>\n",
       "    <tr>\n",
       "      <th>366</th>\n",
       "      <td>834020254</td>\n",
       "      <td>0.4</td>\n",
       "      <td>2</td>\n",
       "      <td>10</td>\n",
       "    </tr>\n",
       "    <tr>\n",
       "      <th>777</th>\n",
       "      <td>834020690</td>\n",
       "      <td>0.5</td>\n",
       "      <td>2</td>\n",
       "      <td>10</td>\n",
       "    </tr>\n",
       "  </tbody>\n",
       "</table>\n",
       "</div>"
      ],
      "text/plain": [
       "      _unit_id  majority  score  judgments\n",
       "366  834020254       0.4      2         10\n",
       "777  834020690       0.5      2         10"
      ]
     },
     "execution_count": 24,
     "metadata": {},
     "output_type": "execute_result"
    }
   ],
   "source": [
    "# aggregate scores into a dataframe \n",
    "unit_id_scores = pd.DataFrame()\n",
    "unit_id_scores['_unit_id'] = plurality_judgment.keys()\n",
    "unit_id_scores['majority'] = zip(*plurality_judgment.values())[1]\n",
    "unit_id_scores['score'] = zip(*plurality_judgment.values())[0]\n",
    "unit_id_scores['judgments'] = job_count.values()\n",
    "\n",
    "# sometimes 2 is the majority/plurality, but the .6 threshold eliminates them\n",
    "unit_id_scores[unit_id_scores.score == 2]"
   ]
  },
  {
   "cell_type": "markdown",
   "metadata": {},
   "source": [
    "# filter out those without a 60% majority"
   ]
  },
  {
   "cell_type": "code",
   "execution_count": 26,
   "metadata": {
    "collapsed": false
   },
   "outputs": [
    {
     "data": {
      "text/plain": [
       "0       True\n",
       "1       True\n",
       "2       True\n",
       "3       True\n",
       "4       True\n",
       "5       True\n",
       "6       True\n",
       "7       True\n",
       "8       True\n",
       "9       True\n",
       "10      True\n",
       "11      True\n",
       "12      True\n",
       "13      True\n",
       "14      True\n",
       "15      True\n",
       "16      True\n",
       "17      True\n",
       "18      True\n",
       "19      True\n",
       "20      True\n",
       "21      True\n",
       "22      True\n",
       "23      True\n",
       "24      True\n",
       "25      True\n",
       "26      True\n",
       "27      True\n",
       "28      True\n",
       "29      True\n",
       "       ...  \n",
       "920     True\n",
       "921     True\n",
       "922    False\n",
       "923     True\n",
       "924     True\n",
       "925     True\n",
       "926     True\n",
       "927     True\n",
       "928     True\n",
       "929     True\n",
       "930     True\n",
       "931     True\n",
       "932    False\n",
       "933     True\n",
       "934    False\n",
       "935    False\n",
       "936     True\n",
       "937     True\n",
       "938     True\n",
       "939    False\n",
       "940     True\n",
       "941     True\n",
       "942     True\n",
       "943     True\n",
       "944     True\n",
       "945     True\n",
       "946     True\n",
       "947     True\n",
       "948     True\n",
       "949    False\n",
       "Name: majority, dtype: bool"
      ]
     },
     "execution_count": 26,
     "metadata": {},
     "output_type": "execute_result"
    }
   ],
   "source": [
    "unit_id_scores[''] = unit_id_scores['majority'].apply(lambda x: x >= .6) == 1\n"
   ]
  },
  {
   "cell_type": "code",
   "execution_count": 22,
   "metadata": {
    "collapsed": false
   },
   "outputs": [
    {
     "name": "stdout",
     "output_type": "stream",
     "text": [
      "and you lose 104 pub/ad pairs\n",
      "you now have 846 pub/ad pairs\n",
      "you lose 0 more observations\n",
      "you now have 846 total observations\n"
     ]
    }
   ],
   "source": [
    "# remove ad/pub pairs\n",
    "old_pair_count = len(unit_id_scores._unit_id.unique())\n",
    "\n",
    "\n",
    "unit_id_scores = unit_id_scores[unit_id_scores['majority'].apply(lambda x: x >= .6) == 1]\n",
    "new_pair_count = len(unit_id_scores._unit_id.unique())\n",
    "\n",
    "print 'and you lose ' + str(lost_pairs) + ' pub/ad pairs'\n",
    "print 'you now have ' + str(len(unit_id_scores)) + ' pub/ad pairs'\n",
    "\n",
    "# hist\n",
    "unit_id_scores['judgments'].apply(lambda x: x if (x>5) else False).hist()\n",
    "\n",
    "\n",
    "\n",
    "# remove observations \n",
    "no_majority_unit_ids = set(unit_id_scores[unit_id_scores['majority']])\n",
    "\n",
    "lost_observations = new_length - len(raw_df)\n",
    "lost_pairs = old_pair_count - new_pair_count\n",
    "\n",
    "print 'you lose ' + str(lost_observations) + ' more observations'\n",
    "print 'you now have ' + str(len(unit_id_scores)) + ' total observations'"
   ]
  },
  {
   "cell_type": "code",
   "execution_count": 23,
   "metadata": {
    "collapsed": false
   },
   "outputs": [
    {
     "name": "stdout",
     "output_type": "stream",
     "text": [
      "(846, 5)\n",
      "(846, 5)\n",
      "no loss\n"
     ]
    },
    {
     "data": {
      "image/png": "[encoded data removed]",
      "text/plain": [
       "<matplotlib.figure.Figure at 0x109e3c7d0>"
      ]
     },
     "metadata": {},
     "output_type": "display_data"
    }
   ],
   "source": [
    "# remove the underscored elements \n",
    "unit_id_scores['min_job_req'] = unit_id_scores['judgments'].apply(lambda x: 1 if (x>4) else 0)\n",
    "new_df = unit_id_scores[unit_id_scores['min_job_req'] == True]\n",
    "print new_df.shape\n",
    "print unit_id_scores.shape\n",
    "if len(new_df) == len(unit_id_scores):\n",
    "    print \"no loss\" "
   ]
  },
  {
   "cell_type": "markdown",
   "metadata": {
    "collapsed": false,
    "scrolled": false
   },
   "source": [
    "### output to database"
   ]
  },
  {
   "cell_type": "code",
   "execution_count": 11,
   "metadata": {
    "collapsed": true
   },
   "outputs": [],
   "source": [
    "# output to unit pair scores table\n",
    "\n",
    "# put this into the database, so that i don't need to process it each time, \n",
    "#becuase it is very slow\n",
    "from sqlalchemy import create_engine\n",
    "from sqlalchemy_utils import database_exists, create_database\n",
    "import psycopg2\n",
    "\n",
    "dbname = 'urx'\n",
    "username = 'noahburbank'\n",
    "\n",
    "engine = create_engine('postgres://%s@localhost/%s'%(username,dbname))"
   ]
  },
  {
   "cell_type": "code",
   "execution_count": 12,
   "metadata": {
    "collapsed": false,
    "scrolled": true
   },
   "outputs": [],
   "source": [
    "# adjust to make sure you have the right experiment for the database \n",
    "unit_id_scores.to_sql('scores_exp1', engine, if_exists = 'replace')\n",
    "\n",
    "# output as csv as well for conveineience needs \n",
    "unit_id_scores.to_csv('scores_exp2.csv')"
   ]
  },
  {
   "cell_type": "code",
   "execution_count": null,
   "metadata": {
    "collapsed": true
   },
   "outputs": [],
   "source": []
  }
 ],
 "metadata": {
  "kernelspec": {
   "display_name": "Python 2",
   "language": "python",
   "name": "python2"
  },
  "language_info": {
   "codemirror_mode": {
    "name": "ipython",
    "version": 2
   },
   "file_extension": ".py",
   "mimetype": "text/x-python",
   "name": "python",
   "nbconvert_exporter": "python",
   "pygments_lexer": "ipython2",
   "version": "2.7.11"
  }
 },
 "nbformat": 4,
 "nbformat_minor": 0
}
