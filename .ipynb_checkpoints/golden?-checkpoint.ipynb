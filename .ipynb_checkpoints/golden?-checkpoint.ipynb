{
 "cells": [
  {
   "cell_type": "code",
   "execution_count": 84,
   "metadata": {
    "collapsed": true
   },
   "outputs": [],
   "source": [
    "import pandas as pd\n",
    "import numpy as np\n",
    "%matplotlib inline"
   ]
  },
  {
   "cell_type": "code",
   "execution_count": 69,
   "metadata": {
    "collapsed": true
   },
   "outputs": [],
   "source": [
    "# import original csv\n",
    "raw_df = pd.read_csv('f835051.csv')\n",
    "\n",
    "# remove the golden ones which are for training\n",
    "raw_df = raw_df[raw_df['_golden'] == True]\n",
    "\n",
    "# remove lines with NaN for the endurl value\n",
    "nan_list = []\n",
    "\n",
    "for endurl in raw_df['please_make_your_relevancy_judgment_gold_reason']:\n",
    "     nan_list.append(type(endurl) != type(float()))\n",
    "\n",
    "raw_df = raw_df[nan_list]      "
   ]
  },
  {
   "cell_type": "code",
   "execution_count": null,
   "metadata": {
    "collapsed": false
   },
   "outputs": [],
   "source": []
  },
  {
   "cell_type": "code",
   "execution_count": 70,
   "metadata": {
    "collapsed": false,
    "scrolled": false
   },
   "outputs": [
    {
     "data": {
      "text/plain": [
       "No connection between origin and destination.                                                     55\n",
       "Tool appears in both origin and destination but not the right tool!!                              52\n",
       "Scar the Martyr is in both origin and destination.                                                52\n",
       "The destination has Heidi Klum.                                                                   52\n",
       "Both are about Switched At Birth                                                                  52\n",
       "There is no mention of the named entities from the first page on the second page.                 51\n",
       "There are no shared named entities and its unclear if there is any link between the two sites.    50\n",
       "Both reference Danny Pintauro                                                                     49\n",
       "Both mention Downton Abbey Season.                                                                49\n",
       "both pages reference  Caleb Logan                                                                 48\n",
       "Wrong Corey Taylor!!                                                                              48\n",
       "Right TV Show.                                                                                    47\n",
       "Both reference Lamar Odom                                                                         47\n",
       "Name: please_make_your_relevancy_judgment_gold_reason, dtype: int64"
      ]
     },
     "execution_count": 70,
     "metadata": {},
     "output_type": "execute_result"
    }
   ],
   "source": [
    "raw_df['please_make_your_relevancy_judgment_gold_reason'].value_counts()"
   ]
  },
  {
   "cell_type": "code",
   "execution_count": 71,
   "metadata": {
    "collapsed": false
   },
   "outputs": [],
   "source": [
    "zero_set = ['No connection between origin and destination.',\n",
    "           'Tool appears in both origin and destination but not the right tool!!',\n",
    "           'There is no mention of the named entities from the first page on the second page.',\n",
    "           'There are no shared named entities and its unclear if there is any link between the two sites.',\n",
    "           'Wrong Corey Taylor!!']\n",
    "zero_set = set(zero_set)\n",
    "\n",
    "relevant = []\n",
    "\n",
    "for line in raw_df.iterrows():\n",
    "    reason = line[1]['please_make_your_relevancy_judgment_gold_reason']\n",
    "#    if type(reason) == float:\n",
    "#        relevant.append(-1)\n",
    "#        continue\n",
    "    reason = reason.strip()\n",
    "    if reason in zero_set:\n",
    "        relevant.append(0)\n",
    "    else:\n",
    "        relevant.append(1)"
   ]
  },
  {
   "cell_type": "code",
   "execution_count": null,
   "metadata": {
    "collapsed": true
   },
   "outputs": [],
   "source": [
    "raw_df['relevant'] = relevant"
   ]
  },
  {
   "cell_type": "code",
   "execution_count": 86,
   "metadata": {
    "collapsed": false,
    "scrolled": false
   },
   "outputs": [],
   "source": [
    "worker_relevant_dict = dict()\n",
    "worker_true_counts = dict()\n",
    "for line in raw_df.groupby('_worker_id')['relevant']:\n",
    "    worker_relevant_dict[line[0]] = line[1].mean()\n",
    "    worker_true_counts[line[0]] = line[1].count()"
   ]
  },
  {
   "cell_type": "code",
   "execution_count": 87,
   "metadata": {
    "collapsed": false
   },
   "outputs": [],
   "source": [
    "from sqlalchemy import create_engine\n",
    "from sqlalchemy_utils import database_exists, create_database\n",
    "import psycopg2\n",
    "\n",
    "dbname = 'urx'\n",
    "username = 'noahburbank'\n",
    "\n",
    "engine = create_engine('postgres://%s@localhost/%s'%(username,dbname))"
   ]
  },
  {
   "cell_type": "code",
   "execution_count": 88,
   "metadata": {
    "collapsed": false
   },
   "outputs": [
    {
     "name": "stdout",
     "output_type": "stream",
     "text": [
      "Index([u'index', u'_worker_id', u'too_many_jobs', u'too_little_variance',\n",
      "       u'unreasonable_mean', u'suspicious_timestamps', u'_trust',\n",
      "       u'agg_score'],\n",
      "      dtype='object')\n",
      "\n",
      "Index([u'index', u'_country', u'jobs_count', u'mean_trust', u'median_trust',\n",
      "       u'percent_minority_judgments', u'is_bad'],\n",
      "      dtype='object')\n"
     ]
    }
   ],
   "source": [
    "# import worker data \n",
    "# connect:\n",
    "con = None\n",
    "con = psycopg2.connect(database = dbname, user = username)\n",
    "\n",
    "# query:\n",
    "sql_query = \"\"\"\n",
    "SELECT * FROM worker_table;\n",
    "\"\"\"\n",
    "workers = pd.read_sql_query(sql_query,con)\n",
    "\n",
    "# query2:\n",
    "sql_query2 = \"\"\"\n",
    "SELECT * FROM country_table;\n",
    "\"\"\"\n",
    "country_df = pd.read_sql_query(sql_query2,con)\n",
    "\n",
    "print workers.columns\n",
    "print \n",
    "print country_df.columns"
   ]
  },
  {
   "cell_type": "code",
   "execution_count": 91,
   "metadata": {
    "collapsed": true
   },
   "outputs": [],
   "source": [
    "true_scores = []\n",
    "true_count = []\n",
    "for worker in workers['_worker_id']:\n",
    "    true_scores.append(worker_relevant_dict[worker])\n",
    "    true_count.append(worker_true_counts[worker])"
   ]
  },
  {
   "cell_type": "code",
   "execution_count": 95,
   "metadata": {
    "collapsed": false
   },
   "outputs": [
    {
     "data": {
      "text/plain": [
       "<matplotlib.axes._subplots.AxesSubplot at 0x10fb76210>"
      ]
     },
     "execution_count": 95,
     "metadata": {},
     "output_type": "execute_result"
    },
    {
     "data": {
      "image/png": "[encoded data removed]",
      "text/plain": [
       "<matplotlib.figure.Figure at 0x10fb76450>"
      ]
     },
     "metadata": {},
     "output_type": "display_data"
    }
   ],
   "source": [
    "pd.Series(data=true_scores).hist(bins = 30)"
   ]
  },
  {
   "cell_type": "code",
   "execution_count": 96,
   "metadata": {
    "collapsed": false
   },
   "outputs": [
    {
     "data": {
      "text/plain": [
       "<matplotlib.axes._subplots.AxesSubplot at 0x10fdab750>"
      ]
     },
     "execution_count": 96,
     "metadata": {},
     "output_type": "execute_result"
    },
    {
     "data": {
      "image/png": "[encoded data removed]",
      "text/plain": [
       "<matplotlib.figure.Figure at 0x10ff107d0>"
      ]
     },
     "metadata": {},
     "output_type": "display_data"
    }
   ],
   "source": [
    "pd.Series(data=true_count).hist(bins = 30)"
   ]
  },
  {
   "cell_type": "code",
   "execution_count": null,
   "metadata": {
    "collapsed": false
   },
   "outputs": [],
   "source": []
  },
  {
   "cell_type": "code",
   "execution_count": null,
   "metadata": {
    "collapsed": true
   },
   "outputs": [],
   "source": []
  }
 ],
 "metadata": {
  "kernelspec": {
   "display_name": "Python 2",
   "language": "python",
   "name": "python2"
  },
  "language_info": {
   "codemirror_mode": {
    "name": "ipython",
    "version": 2
   },
   "file_extension": ".py",
   "mimetype": "text/x-python",
   "name": "python",
   "nbconvert_exporter": "python",
   "pygments_lexer": "ipython2",
   "version": "2.7.11"
  }
 },
 "nbformat": 4,
 "nbformat_minor": 0
}
