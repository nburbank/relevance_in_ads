{
 "cells": [
  {
   "cell_type": "markdown",
   "metadata": {},
   "source": [
    "# train and validate the model!"
   ]
  },
  {
   "cell_type": "code",
   "execution_count": 266,
   "metadata": {
    "collapsed": false
   },
   "outputs": [],
   "source": [
    "# import libraries\n",
    "import pandas as pd \n",
    "%matplotlib inline\n",
    "import numpy as np\n",
    "import matplotlib.pyplot as plt"
   ]
  },
  {
   "cell_type": "code",
   "execution_count": 270,
   "metadata": {
    "collapsed": true
   },
   "outputs": [],
   "source": [
    "# import data from scores table\n",
    "# import data from signal table\n",
    "#\n",
    "#\n",
    "#\n",
    "#\n",
    "#\n",
    "#\n",
    "#\n",
    "\n",
    "from sqlalchemy import create_engine\n",
    "from sqlalchemy_utils import database_exists, create_database\n",
    "import psycopg2\n",
    "\n",
    "dbname = 'urx'\n",
    "username = 'noahburbank'\n",
    "\n",
    "engine = create_engine('postgres://%s@localhost/%s'%(username,dbname))\n",
    "\n",
    "features = pd.read_csv('features.csv')\n",
    "scores = pd.read_csv('aggregated_scores.csv')"
   ]
  },
  {
   "cell_type": "code",
   "execution_count": 271,
   "metadata": {
    "collapsed": false
   },
   "outputs": [
    {
     "name": "stdout",
     "output_type": "stream",
     "text": [
      "score columns are: \n",
      "Index([u'index', u'_unit_id', u'majority', u'score', u'judgments',\n",
      "       u'min_job_req'],\n",
      "      dtype='object')\n",
      "\n",
      "signal columns are: \n",
      "Index([u'index', u'_unit_id', u'title_sim', u'body_sim', u'meta_sim',\n",
      "       u'one_grams', u'two_grams', u'three_grams', u'meta_one_gram',\n",
      "       u'meta_two_gram', u'meta_three_gram', u'starturl', u'endurl',\n",
      "       u'body_lcf_score', u'title_lcf_score', u'desc_lcf_score',\n",
      "       u'body_ner_cosine', u'title_ner_cosine', u'desc_ner_cosine',\n",
      "       u'body_ner_intersection', u'title_ner_intersection',\n",
      "       u'desc_ner_intersectipon', u'score', u'majority'],\n",
      "      dtype='object')\n"
     ]
    }
   ],
   "source": [
    "# import worker data \n",
    "# connect:\n",
    "con = None\n",
    "con = psycopg2.connect(database = dbname, user = username)\n",
    "\n",
    "# query:\n",
    "sql_query = \"\"\"\n",
    "SELECT * FROM signals_exp2;\n",
    "\"\"\"\n",
    "signals = pd.read_sql_query(sql_query,con)\n",
    "\n",
    "# query:\n",
    "sql_query2 = \"\"\"\n",
    "SELECT * FROM scores_exp2;\n",
    "\"\"\"\n",
    "scores = pd.read_sql_query(sql_query2,con)\n",
    "\n",
    "print \"score columns are: \" \n",
    "print scores.columns\n",
    "print\n",
    "print \"signal columns are: \"\n",
    "print signals.columns"
   ]
  },
  {
   "cell_type": "markdown",
   "metadata": {
    "collapsed": false
   },
   "source": [
    "### import all data, put into df, manipulate for modeling"
   ]
  },
  {
   "cell_type": "code",
   "execution_count": 349,
   "metadata": {
    "collapsed": false
   },
   "outputs": [],
   "source": [
    "# make into single dataframe\n",
    "model_df = pd.DataFrame()\n",
    "model_df['score'] = signals['majority']\n",
    "                           \n",
    "#tfidf information\n",
    "model_df['title_sim'] = signals['title_sim']\n",
    "model_df['meta_sim'] = signals['meta_sim']\n",
    "model_df['body_sim'] = signals['body_sim']\n",
    "\n",
    "# ngram inforation on titles\n",
    "model_df['one_gram'] = signals['one_grams']#\n",
    "model_df['two_gram'] = signals['two_grams']\n",
    "model_df['three_gram'] = signals['three_grams']\n",
    "\n",
    "# lcf scores\n",
    "model_df['body_lcf_score'] = signals['body_lcf_score']\n",
    "model_df['title_lcf_score'] = signals['title_lcf_score']\n",
    "model_df['desc_lcf_score'] = signals['desc_lcf_score']\n",
    "\n",
    "# ngram for description\n",
    "model_df['meta_one_gram'] = signals['meta_one_gram']\n",
    "model_df['meta_two_gram'] = signals['meta_two_gram']\n",
    "model_df['meta_three_gram'] = signals['meta_three_gram']\n",
    "\n",
    "# ner cosine scores\n",
    "model_df['body_ner_cosine'] = signals['body_ner_cosine']\n",
    "model_df['title_ner_cosine'] = signals['title_ner_cosine']\n",
    "model_df['desc_ner_cosine'] = signals['desc_ner_cosine']\n",
    "\n",
    "# ner cosine scores\n",
    "model_df['body_ner_intersection'] = signals['body_ner_intersection']\n",
    "model_df['title_ner_intersection'] = signals['title_ner_intersection']\n",
    "model_df['desc_ner_intersection'] = signals['desc_ner_intersectipon']\n",
    "\n"
   ]
  },
  {
   "cell_type": "code",
   "execution_count": 350,
   "metadata": {
    "collapsed": false
   },
   "outputs": [],
   "source": [
    "# split into training and testing sets \n",
    "np.random.seed(1)\n",
    "msk = np.random.rand(len(signals)) < 0.8\n",
    "\n",
    "train = model_df[msk]\n",
    "test = model_df[~msk]"
   ]
  },
  {
   "cell_type": "code",
   "execution_count": 351,
   "metadata": {
    "collapsed": false,
    "scrolled": true
   },
   "outputs": [],
   "source": [
    "X = train.ix[:, train.columns != 'score']\n",
    "Y = train.ix[:, train.columns == 'score']"
   ]
  },
  {
   "cell_type": "markdown",
   "metadata": {},
   "source": [
    "### select and train a model "
   ]
  },
  {
   "cell_type": "code",
   "execution_count": 402,
   "metadata": {
    "collapsed": false
   },
   "outputs": [
    {
     "name": "stderr",
     "output_type": "stream",
     "text": [
      "/Users/noahburbank/anaconda/envs/py2/lib/python2.7/site-packages/ipykernel/__main__.py:12: DataConversionWarning: A column-vector y was passed when a 1d array was expected. Please change the shape of y to (n_samples,), for example using ravel().\n"
     ]
    }
   ],
   "source": [
    "weights = dict()\n",
    "weights[1] = 1\n",
    "weights[3] = 1\n",
    "\n",
    "from sklearn.ensemble import RandomForestClassifier\n",
    "clf = RandomForestClassifier(n_estimators=100, random_state = 5, class_weight = weights,\n",
    "                            max_features = 5)\n",
    "\n",
    "from sklearn.linear_model import LogisticRegression\n",
    "#clf = LogisticRegression()\n",
    "\n",
    "clf = clf.fit(X,Y)"
   ]
  },
  {
   "cell_type": "markdown",
   "metadata": {},
   "source": [
    "### evaluate the performance of the model"
   ]
  },
  {
   "cell_type": "code",
   "execution_count": 403,
   "metadata": {
    "collapsed": true
   },
   "outputs": [],
   "source": [
    "# get predicted values\n",
    "predicted = clf.predict(test.ix[:, train.columns != 'score'])\n",
    "predicted_proba = clf.predict_proba(test.ix[:, train.columns != 'score'])\n",
    "\n",
    "actual = test['score']\n",
    "residuals = predicted - actual"
   ]
  },
  {
   "cell_type": "code",
   "execution_count": 404,
   "metadata": {
    "collapsed": false
   },
   "outputs": [
    {
     "name": "stdout",
     "output_type": "stream",
     "text": [
      "-2\n",
      "64\n"
     ]
    }
   ],
   "source": [
    "# calculate rms, graph residuals\n",
    "#pd.Series(data = residuals).hist(bins=30)\n",
    "print np.sum(residuals)\n",
    "print rms\n",
    "rms = pd.Series(data = residuals).apply(lambda x: x**2).sum()"
   ]
  },
  {
   "cell_type": "markdown",
   "metadata": {},
   "source": [
    "#### confusion matrix, accuracy, precision, recall, and f1"
   ]
  },
  {
   "cell_type": "code",
   "execution_count": 405,
   "metadata": {
    "collapsed": false
   },
   "outputs": [
    {
     "name": "stdout",
     "output_type": "stream",
     "text": [
      "\n",
      "accuracy is 0.904494382022\n",
      "precision is 0.836734693878 (how many called relevant links are actually relevant)\n",
      "recall is 0.82 (how many relevant links it actually called relevant)\n",
      "f1 is 0.828282828283\n",
      "\n",
      "[[120   8]\n",
      " [  9  41]]\n"
     ]
    }
   ],
   "source": [
    "from sklearn.metrics import confusion_matrix\n",
    "\n",
    "predicted_class = predicted\n",
    "actual_class = actual\n",
    "\n",
    "cm = confusion_matrix(actual_class, predicted_class)\n",
    "\n",
    "a = float(cm[0,0])\n",
    "b = float(cm[0,1])\n",
    "c = float(cm[1,0])\n",
    "d = float(cm[1,1])\n",
    "\n",
    "try: \n",
    "    precision = d / (d + b)\n",
    "except ZeroDivisionError:\n",
    "    precision = \"not an answerable question\"\n",
    "                    \n",
    "recall =  d / (c + d)\n",
    "accuracy = (a + d)/ (a + b + c + d)\n",
    "f1 = 2*(precision * recall)/ (precision+recall)\n",
    "\n",
    "print \n",
    "print 'accuracy is ' + str(accuracy)\n",
    "print \"precision is \" + str(precision) + \" (how many called relevant links are actually relevant)\"\n",
    "print \"recall is \" + str(recall) + \" (how many relevant links it actually called relevant)\"\n",
    "print \"f1 is \" + str(f1)\n",
    "print \n",
    "print cm"
   ]
  },
  {
   "cell_type": "markdown",
   "metadata": {},
   "source": [
    "#### cross validation "
   ]
  },
  {
   "cell_type": "code",
   "execution_count": 406,
   "metadata": {
    "collapsed": false
   },
   "outputs": [
    {
     "name": "stdout",
     "output_type": "stream",
     "text": [
      "[ 0.83561644  0.8630137   0.78082192  0.94520548  0.76712329  0.79166667\n",
      "  0.80555556  0.83333333  0.84507042  0.92957746]\n",
      "\n",
      "Average accuracy on cross-validated training set: 0.840 ± 0.057\n"
     ]
    }
   ],
   "source": [
    "from sklearn import cross_validation, metrics\n",
    "\n",
    "# this requires me to change the shape of Y so that it's (len,) instead of (len,1)\n",
    "Y1 = np.asarray(Y).ravel()\n",
    "\n",
    "# cv = 'cross-validations' = 'no. of k-foldings to do' in the language I used above\n",
    "scores_train = cross_validation.cross_val_score(clf, X, Y1, cv=10)\n",
    "print scores_train\n",
    "# With 68% CLs on the accuracy\n",
    "print \n",
    "print 'Average accuracy on cross-validated training set: %0.3f ± %0.3f' % (scores_train.mean(),scores_train.std())"
   ]
  },
  {
   "cell_type": "markdown",
   "metadata": {},
   "source": [
    "#### roc curve"
   ]
  },
  {
   "cell_type": "code",
   "execution_count": 407,
   "metadata": {
    "collapsed": false
   },
   "outputs": [
    {
     "data": {
      "text/plain": [
       "<matplotlib.legend.Legend at 0x113f66610>"
      ]
     },
     "execution_count": 407,
     "metadata": {},
     "output_type": "execute_result"
    },
    {
     "data": {
      "image/png": "[encoded data removed]",
      "text/plain": [
       "<matplotlib.figure.Figure at 0x112075810>"
      ]
     },
     "metadata": {},
     "output_type": "display_data"
    }
   ],
   "source": [
    "fpr_rf, tpr_rf, thresholds = metrics.roc_curve(actual, (1-predicted_proba[:,1]), pos_label = 1)\n",
    "\n",
    "roc_auc_rf = metrics.auc(fpr_rf,tpr_rf)\n",
    "\n",
    "f, a = plt.subplots()\n",
    "f.set_size_inches(10,7)\n",
    "\n",
    "a.plot(fpr_rf, tpr_rf, label='ROC curve for Logistic Regression (area under curve = %0.3f)' % roc_auc_rf)\n",
    "# The 50/50 fpr/tpr line\n",
    "a.plot([0,1],[0,1],'k--', label='Random chance predictor')\n",
    "a.set_xlim(0.0,1.0)\n",
    "a.set_ylim(0.0,1.05)\n",
    "a.set_xlabel('False positive rate')\n",
    "a.set_ylabel('True positive rate')\n",
    "a.legend(loc='lower right')"
   ]
  },
  {
   "cell_type": "markdown",
   "metadata": {},
   "source": [
    "#### show the importance of different features"
   ]
  },
  {
   "cell_type": "code",
   "execution_count": 361,
   "metadata": {
    "collapsed": false
   },
   "outputs": [
    {
     "name": "stdout",
     "output_type": "stream",
     "text": [
      "Feature ranking:\n",
      "1. feature 0 (0.320630) title_sim\n",
      "2. feature 2 (0.202472) meta_sim\n",
      "3. feature 5 (0.134616) body_sim\n",
      "4. feature 4 (0.051886) one_gram\n",
      "5. feature 3 (0.049979) two_gram\n",
      "6. feature 7 (0.036849) three_gram\n",
      "7. feature 10 (0.036028) body_lcf_score\n",
      "8. feature 1 (0.034319) title_lcf_score\n",
      "9. feature 9 (0.031474) desc_lcf_score\n",
      "10. feature 12 (0.031345) meta_one_gram\n",
      "11. feature 15 (0.023585) meta_two_gram\n",
      "12. feature 11 (0.023236) meta_three_gram\n",
      "13. feature 6 (0.011205) body_ner_cosine\n",
      "14. feature 8 (0.007148) title_ner_cosine\n",
      "15. feature 13 (0.003563) desc_ner_cosine\n",
      "16. feature 16 (0.001664) body_ner_intersection\n",
      "17. feature 14 (0.000000) title_ner_intersection\n",
      "18. feature 17 (0.000000) desc_ner_intersection\n"
     ]
    }
   ],
   "source": [
    "importances = clf.feature_importances_\n",
    "indices = np.argsort(importances)[::-1]\n",
    "\n",
    "# Print the feature ranking\n",
    "print(\"Feature ranking:\")\n",
    "\n",
    "for f in range(X.shape[1]):\n",
    "    print(\"%d. feature %d (%f)\" % (f + 1, indices[f], importances[indices[f]])), model_df.columns[f+1]\n",
    "    "
   ]
  },
  {
   "cell_type": "code",
   "execution_count": null,
   "metadata": {
    "collapsed": true
   },
   "outputs": [],
   "source": []
  },
  {
   "cell_type": "code",
   "execution_count": null,
   "metadata": {
    "collapsed": true
   },
   "outputs": [],
   "source": []
  },
  {
   "cell_type": "code",
   "execution_count": null,
   "metadata": {
    "collapsed": true
   },
   "outputs": [],
   "source": []
  },
  {
   "cell_type": "code",
   "execution_count": null,
   "metadata": {
    "collapsed": true
   },
   "outputs": [],
   "source": []
  },
  {
   "cell_type": "code",
   "execution_count": 45,
   "metadata": {
    "collapsed": true
   },
   "outputs": [],
   "source": [
    "## how does this compare against just pulling numbers out of the original distribution? \n",
    "##"
   ]
  },
  {
   "cell_type": "code",
   "execution_count": 158,
   "metadata": {
    "collapsed": false,
    "scrolled": true
   },
   "outputs": [],
   "source": [
    "##\n",
    "actual_array = np.array(list(actual))\n",
    "num_runs = 1000000\n",
    "i = 0\n",
    "sq_residuals_list = []\n",
    "\n",
    "while i < num_runs: \n",
    "    x = np.random.choice(scores['normalized_mean_score'], replace = True)    \n",
    "    sq_resid =  np.sum((x - actual_array)**2)\n",
    "    sq_residuals_list.append(sq_resid)\n",
    "    i += 1"
   ]
  },
  {
   "cell_type": "code",
   "execution_count": 159,
   "metadata": {
    "collapsed": false,
    "scrolled": false
   },
   "outputs": [
    {
     "data": {
      "text/plain": [
       "<matplotlib.axes._subplots.AxesSubplot at 0x111e5f290>"
      ]
     },
     "execution_count": 159,
     "metadata": {},
     "output_type": "execute_result"
    },
    {
     "data": {
      "image/png": "[encoded data removed]",
      "text/plain": [
       "<matplotlib.figure.Figure at 0x1102e6d10>"
      ]
     },
     "metadata": {},
     "output_type": "display_data"
    }
   ],
   "source": [
    "# make a little plot\n",
    "pd.Series(data=sq_residuals_list).hist(bins = 100)"
   ]
  },
  {
   "cell_type": "code",
   "execution_count": 160,
   "metadata": {
    "collapsed": false,
    "scrolled": true
   },
   "outputs": [
    {
     "name": "stdout",
     "output_type": "stream",
     "text": [
      "424.882675148 144.9562552 0    536\n",
      "dtype: float64\n",
      "just guess zero and your mean is 536\n"
     ]
    }
   ],
   "source": [
    "mu = np.mean(sq_residuals_list)\n",
    "sigma = np.std(sq_residuals_list)\n",
    "mode = pd.Series(data=sq_residuals_list).mode()\n",
    "print mu, sigma, mode\n",
    "\n",
    "#in fact, it is mostly just guessing zero \n",
    "just_guessting_zero = np.sum(actual**2) \n",
    "print \"just guess zero and your mean is \" + str(just_guessting_zero)"
   ]
  },
  {
   "cell_type": "code",
   "execution_count": 63,
   "metadata": {
    "collapsed": false
   },
   "outputs": [],
   "source": [
    "##\n",
    "## THIS IS ALL ABOUT MONEY\n",
    "##\n",
    "\n",
    "def sigmoid(z):\n",
    "    s = 1.0 / (1.0 + np.exp(-1.0 * z))\n",
    "    return s"
   ]
  },
  {
   "cell_type": "code",
   "execution_count": 66,
   "metadata": {
    "collapsed": false
   },
   "outputs": [
    {
     "name": "stdout",
     "output_type": "stream",
     "text": [
      "5793.65079365\n",
      "0\n",
      "17775.5952381\n"
     ]
    }
   ],
   "source": [
    "# costs \n",
    "serve_cost = .1\n",
    "\n",
    "def served_profit(predicted_values, actual_values, serve_rule):\n",
    "    profit_list = []\n",
    "    actual_values = list(actual_values)\n",
    "    predicted_values = list(predicted_values)\n",
    "    \n",
    "    indexer = range(0,len(predicted_values))\n",
    "    for index in indexer:    \n",
    "        if predicted_values[index] > serve_rule:\n",
    "            profit_list.append((actual_values[index] - serve_cost))\n",
    "        else:\n",
    "            profit_list.append(0)\n",
    "    profit = sum(profit_list)\n",
    "    profit = profit * 1000\n",
    "    return profit \n",
    "\n",
    "# calculate costs\n",
    "my_value = served_profit(predicted, actual, .2)\n",
    "nothing_relevant = served_profit([0]*len(actual), actual, .2)\n",
    "all_relevant = served_profit([1]*len(actual), actual, .2)\n",
    "\n",
    "# print them\n",
    "print my_value\n",
    "print nothing_relevant\n",
    "print all_relevant"
   ]
  },
  {
   "cell_type": "code",
   "execution_count": null,
   "metadata": {
    "collapsed": false
   },
   "outputs": [],
   "source": []
  },
  {
   "cell_type": "code",
   "execution_count": null,
   "metadata": {
    "collapsed": true
   },
   "outputs": [],
   "source": []
  },
  {
   "cell_type": "code",
   "execution_count": null,
   "metadata": {
    "collapsed": true
   },
   "outputs": [],
   "source": []
  },
  {
   "cell_type": "code",
   "execution_count": null,
   "metadata": {
    "collapsed": true
   },
   "outputs": [],
   "source": []
  },
  {
   "cell_type": "code",
   "execution_count": null,
   "metadata": {
    "collapsed": true
   },
   "outputs": [],
   "source": []
  },
  {
   "cell_type": "code",
   "execution_count": 49,
   "metadata": {
    "collapsed": false
   },
   "outputs": [],
   "source": [
    "## Let's try it out using the pairwise version \n",
    "\n",
    "#make a dictionary out of this \n",
    "start_end_dict = dict()\n",
    "for pair in signals.groupby('starturl'):\n",
    "    start_url = pair[0]\n",
    "    end_urls = pair[1]['endurl'] \n",
    "    if len(end_urls) == 2:\n",
    "        start_end_dict[start_url] = end_urls\n",
    "    else:\n",
    "        start_end_dict[start_url] = ''"
   ]
  },
  {
   "cell_type": "code",
   "execution_count": 50,
   "metadata": {
    "collapsed": false,
    "scrolled": false
   },
   "outputs": [],
   "source": [
    "# select only data with two urls\n",
    "only_paired_values = []\n",
    "for line in signals.iterrows():\n",
    "    if len(start_end_dict[line[1]['starturl']]) >0 :\n",
    "        only_paired_values.append(1)\n",
    "    else:\n",
    "        only_paired_values.append(0)"
   ]
  },
  {
   "cell_type": "code",
   "execution_count": 51,
   "metadata": {
    "collapsed": false
   },
   "outputs": [],
   "source": [
    "# reduce the database to just a \n",
    "scores['pairs'] = only_paired_values \n",
    "pair_scores = scores[scores['pairs'] == 1]\n",
    "\n",
    "signals['pairs']= only_paired_values\n",
    "pair_signals = signals[signals['pairs'] == 1]"
   ]
  },
  {
   "cell_type": "code",
   "execution_count": 52,
   "metadata": {
    "collapsed": false
   },
   "outputs": [
    {
     "data": {
      "text/plain": [
       "0.56332"
      ]
     },
     "execution_count": 52,
     "metadata": {},
     "output_type": "execute_result"
    }
   ],
   "source": [
    "limiter = 0\n",
    "preserved_orders = []\n",
    "\n",
    "for pair in pair_signals.groupby('starturl'):\n",
    "    # id what to skip\n",
    "    unit_id_skip_1 = list(pair[1]['_unit_id'])[1]\n",
    "    unit_id_skip_2 = list(pair[1]['_unit_id'])[0]\n",
    "    unit_id_skip_set = set([unit_id_skip_1, unit_id_skip_2])\n",
    "    \n",
    "    # then actually skip those two \n",
    "    skip_scores = scores[scores['_unit_id'].apply(lambda x: x not in unit_id_skip_set)]\n",
    "    skip_signals = signals[signals['_unit_id'].apply(lambda x: x not in unit_id_skip_set)]\n",
    "\n",
    "    # chose which signals to work with  \n",
    "    Y = skip_signals['title_sim']\n",
    "    X = skip_scores['normalized_mean_score']\n",
    "    test_signals = signals[signals['_unit_id'].apply(lambda x: x in unit_id_skip_set)]\n",
    "    test_signals = test_signals['title_sim']\n",
    "    test_signals = test_signals[:,None]\n",
    "    \n",
    "    test_scores = scores[scores['_unit_id'].apply(lambda x: x in unit_id_skip_set)]\n",
    "    \n",
    "    # reshape for sklearn so that is (x,) -> (x,1)\n",
    "    X = X[:, None]\n",
    "    Y = Y[:,None]\n",
    "    \n",
    "    # train the model \n",
    "    clf = tree.DecisionTreeRegressor()\n",
    "    clf = clf.fit(X,Y)\n",
    "    \n",
    "    # get the predicted values\n",
    "    predicted = clf.predict(test_signals)\n",
    "    actual = test_scores['normalized_mean_score']\n",
    "    \n",
    "    preserved_order = (predicted[0] > predicted[1]) == (list(actual)[0] > list(actual)[1])\n",
    "    preserved_orders.append(preserved_order)\n",
    "    \n",
    "    limiter += 1\n",
    "    if limiter == 100000:\n",
    "        break\n",
    "\n",
    "round((sum(preserved_orders)+0.0)/len(preserved_orders),5)"
   ]
  },
  {
   "cell_type": "code",
   "execution_count": null,
   "metadata": {
    "collapsed": true
   },
   "outputs": [],
   "source": []
  },
  {
   "cell_type": "code",
   "execution_count": null,
   "metadata": {
    "collapsed": true
   },
   "outputs": [],
   "source": []
  },
  {
   "cell_type": "code",
   "execution_count": null,
   "metadata": {
    "collapsed": true
   },
   "outputs": [],
   "source": []
  },
  {
   "cell_type": "code",
   "execution_count": null,
   "metadata": {
    "collapsed": true
   },
   "outputs": [],
   "source": []
  },
  {
   "cell_type": "code",
   "execution_count": null,
   "metadata": {
    "collapsed": true
   },
   "outputs": [],
   "source": []
  },
  {
   "cell_type": "code",
   "execution_count": null,
   "metadata": {
    "collapsed": true
   },
   "outputs": [],
   "source": []
  },
  {
   "cell_type": "code",
   "execution_count": null,
   "metadata": {
    "collapsed": true
   },
   "outputs": [],
   "source": []
  }
 ],
 "metadata": {
  "kernelspec": {
   "display_name": "Python 2",
   "language": "python",
   "name": "python2"
  },
  "language_info": {
   "codemirror_mode": {
    "name": "ipython",
    "version": 2
   },
   "file_extension": ".py",
   "mimetype": "text/x-python",
   "name": "python",
   "nbconvert_exporter": "python",
   "pygments_lexer": "ipython2",
   "version": "2.7.11"
  }
 },
 "nbformat": 4,
 "nbformat_minor": 0
}
