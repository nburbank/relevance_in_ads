{
 "cells": [
  {
   "cell_type": "markdown",
   "metadata": {},
   "source": [
    "# create the evaluation matrix for each of the workers, assess if the worker is fraudulent"
   ]
  },
  {
   "cell_type": "code",
   "execution_count": 162,
   "metadata": {
    "collapsed": true
   },
   "outputs": [],
   "source": [
    "import pandas as pd\n",
    "%matplotlib inline\n",
    "import numpy as np\n",
    "import matplotlib as mpl\n",
    "from datetime import datetime, date, time, timedelta"
   ]
  },
  {
   "cell_type": "code",
   "execution_count": 48,
   "metadata": {
    "collapsed": false
   },
   "outputs": [
    {
     "data": {
      "text/plain": [
       "Index([u'Unnamed: 0', u'_unit_id', u'_created_at', u'_golden', u'_id',\n",
       "       u'_missed', u'_started_at', u'_tainted', u'_channel', u'_trust',\n",
       "       u'_worker_id', u'_country', u'_region', u'_city', u'_ip',\n",
       "       u'please_make_your_relevancy_judgment', u'orig__created_at',\n",
       "       u'orig__golden', u'orig__unit_id', u'_updated_at', u'endurl', u'nil',\n",
       "       u'please_make_your_relevancy_judgment_gold',\n",
       "       u'please_make_your_relevancy_judgment_gold_reason', u'starturl',\n",
       "       u'type'],\n",
       "      dtype='object')"
      ]
     },
     "execution_count": 48,
     "metadata": {},
     "output_type": "execute_result"
    }
   ],
   "source": [
    "# import data\n",
    "\n",
    "# make sure to select which experiments data you want to analyze \n",
    "#raw_df = pd.read_csv('experiment1_data.csv')\n",
    "raw_df = pd.read_csv('experiment2_data.csv')\n",
    "raw_df.columns"
   ]
  },
  {
   "cell_type": "markdown",
   "metadata": {},
   "source": [
    "### gather basic information about each worker\n",
    "using dictionaries to ensure no misalignment in assessing them "
   ]
  },
  {
   "cell_type": "code",
   "execution_count": null,
   "metadata": {
    "collapsed": true
   },
   "outputs": [],
   "source": [
    "# create first pass of lists for easy to gather worker metrics \n",
    "\n",
    "# create the ultimate worker id list\n",
    "worker_ids = []\n",
    "for line in raw_df.groupby('_worker_id'):\n",
    "    worker_ids.append(line[0])\n",
    "    \n",
    "# dict of created times and ids\n",
    "created_at_dict = dict()\n",
    "for line in raw_df.groupby('_worker_id')['_created_at']:\n",
    "    created_at_dict[line[0]] = line[1]\n",
    "    \n",
    "# dict of started times and ids    \n",
    "started_at_dict = dict()\n",
    "for line in raw_df.groupby('_worker_id')['_started_at']:\n",
    "    started_at_dict[line[0]] = line[1]\n",
    "    \n",
    "# dict of scores and ids\n",
    "scores_dict = dict()\n",
    "for line in raw_df.groupby('_worker_id')['please_make_your_relevancy_judgment']:\n",
    "    scores_dict[line[0]] = list(line[1]) #coerce to list bc i hate indexing on the series\n",
    "    \n",
    "# dict of trust and ids\n",
    "trust_dict = dict()\n",
    "for line in raw_df.groupby('_worker_id'):\n",
    "    trust_dict[line[0]] = line[1]['_trust'][line[1]['_trust'].keys()[1]]\n",
    "    \n",
    "# get job counts, variance, and mean for each worker \n",
    "worker_job_count = {}\n",
    "worker_variance = {}\n",
    "worker_mean = {}\n",
    "for worker_id in worker_ids:\n",
    "    scores = scores_dict[worker_id]\n",
    "    worker_job_count[worker_id] = len(scores)\n",
    "    worker_variance[worker_id] = np.var(scores)\n",
    "    worker_mean[worker_id] = np.mean(scores)"
   ]
  },
  {
   "cell_type": "markdown",
   "metadata": {
    "collapsed": true
   },
   "source": [
    "### time stamp difference analysis "
   ]
  },
  {
   "cell_type": "code",
   "execution_count": 118,
   "metadata": {
    "collapsed": false,
    "scrolled": false
   },
   "outputs": [],
   "source": [
    "\n",
    "## identify diversity in job creation, job start time differences  \n",
    "\n",
    "# takes a list of datetime strings and returns a list of datetime objects\n",
    "def make_list_datetime(list_of_time_strings):\n",
    "    date_time_list = []\n",
    "    for time in list_of_time_strings:\n",
    "        date_time_list.append(datetime.strptime(time, \"%m/%d/%Y %H:%M:%S\"))\n",
    "    return date_time_list\n",
    "\n",
    "\n",
    "# take in lists of creation, start datetime strings, output list of differences in seconds \n",
    "def creation_start_dif(creation_list, start_list):\n",
    "    # make all into datetime objects \n",
    "    creation_datetimes = make_list_datetime(creation_list)\n",
    "    start_datetimes = make_list_datetime(start_list)\n",
    "    \n",
    "    # iterate through to calculate each difference \n",
    "    creation_start_diffs = []\n",
    "    \n",
    "    indexer = range(0,len(creation_list))\n",
    "    for index in indexer:\n",
    "        diff = creation_datetimes[index] - start_datetimes[index]\n",
    "        creation_start_diffs.append(diff.total_seconds())    \n",
    "    return creation_start_diffs\n",
    "\n",
    "\n",
    "def get_diversity_score(created_dict, started_dict ):\n",
    "\n",
    "    # produce the list of differences for each worker \n",
    "    creation_start_diff_dict = {}    \n",
    "    outer_index = range(0, len(created_dict))\n",
    "    \n",
    "    #go through each worker \n",
    "    for outer_index in indexer:       \n",
    "\n",
    "        # select the worker and his creation and start time\n",
    "        worker_id = worker_ids[outer_index]        \n",
    "        creation = created_at_dict[worker_id]\n",
    "        start = started_at_dict[worker_id]\n",
    "        \n",
    "        # go through each pair of times and get the difference         \n",
    "        index = range(0,len(start))\n",
    "        for index in indexer:\n",
    "            diff_list = creation_start_dif(creation, start)\n",
    "            creation_start_diff_dict[worker_id] = diff_list\n",
    "        \n",
    "    \n",
    "    # calculate the diversity measure\n",
    "    diversity_dict = {}\n",
    "    \n",
    "    for worker_id in worker_ids:\n",
    "        uniques = len(set(creation_start_diff_dict[worker_id])) + 0.0\n",
    "        diversity = uniques/len(creation_start_diff_dict[worker_id])\n",
    "        diversity_dict[worker_id] = diversity\n",
    "        \n",
    "    \n",
    "    return diversity_dict\n",
    "\n",
    "diversity_score_dict = get_diversity_score(created_at_dict, started_at_dict)"
   ]
  },
  {
   "cell_type": "markdown",
   "metadata": {},
   "source": [
    "### minority judgments "
   ]
  },
  {
   "cell_type": "code",
   "execution_count": 429,
   "metadata": {
    "collapsed": false
   },
   "outputs": [
    {
     "data": {
      "text/plain": [
       "<matplotlib.axes._subplots.AxesSubplot at 0x125f3f910>"
      ]
     },
     "execution_count": 429,
     "metadata": {},
     "output_type": "execute_result"
    },
    {
     "data": {
      "image/png": "[encoded data removed]",
      "text/plain": [
       "<matplotlib.figure.Figure at 0x10b8cc610>"
      ]
     },
     "metadata": {},
     "output_type": "display_data"
    }
   ],
   "source": [
    "# calculate the minority judgments segment \n",
    "## detect majority judgments (and how much of a majority)\n",
    "\n",
    "modes = []\n",
    "mode_counts = []\n",
    "judgment_counts = []\n",
    "plurality_percentages = []\n",
    "plurality_judgment = dict()\n",
    "\n",
    "for line in raw_df.groupby('_unit_id'):\n",
    "    unit_id = line[0]\n",
    "    judgments = line[1]['please_make_your_relevancy_judgment']\n",
    "    mode = judgments.mode()\n",
    "    mode = int(mode[0])\n",
    "    modes.append(mode)\n",
    "    mode_count = 0\n",
    "    for judgment in judgments:\n",
    "        if judgment == mode:\n",
    "            mode_count += 1\n",
    "    mode_counts.append(mode_count)\n",
    "    judgment_count = len(judgments)\n",
    "    judgment_counts.append(judgment_count)\n",
    "    plurality_percentage = (mode_count +0.0)/judgment_count\n",
    "    plurality_percentages.append(plurality_percentage)\n",
    "    plurality_judgment[line[0]] = mode, plurality_percentage\n",
    "    \n",
    "\n",
    "pd.Series(data= plurality_percentages).hist(bins=30)"
   ]
  },
  {
   "cell_type": "code",
   "execution_count": null,
   "metadata": {
    "collapsed": true
   },
   "outputs": [],
   "source": [
    "# detect minority judgments by worker\n",
    "worker_is_in_the_minority = dict(zip(worker_ids, [0]*len(worker_ids)))\n",
    "\n",
    "# go through each row\n",
    "for line in raw_df.iterrows():\n",
    "    worker_id = line[1]['_worker_id']\n",
    "    worker_judgment = line[1]['please_make_your_relevancy_judgment']\n",
    "    unit_id = line[1]['_unit_id']\n",
    "    \n",
    "    majority_judgment = plurality_judgment[unit_id][0]\n",
    "\n",
    "    # in the first pass i don't take into account how much of a majority/plurality it is   \n",
    "    is_minority =  (worker_judgment != majority_judgment)\n",
    "\n",
    "    if is_minority == 1:\n",
    "        worker_is_in_the_minority[worker_id] += 1"
   ]
  },
  {
   "cell_type": "markdown",
   "metadata": {},
   "source": [
    "## combine into a single data frame "
   ]
  },
  {
   "cell_type": "code",
   "execution_count": 127,
   "metadata": {
    "collapsed": true
   },
   "outputs": [],
   "source": [
    "# for no good reason, order isn't being preserved, so now i'm going to be careful and always use a key\n",
    "def insert_dictionary(dictionary, new_value_name, dataframe):\n",
    "    temp_list = []\n",
    "    for key in dictionary:\n",
    "        temp_list.append(dictionary[key])\n",
    "    dataframe[new_value_name] = temp_list    \n",
    "    return dataframe "
   ]
  },
  {
   "cell_type": "code",
   "execution_count": 435,
   "metadata": {
    "collapsed": true
   },
   "outputs": [],
   "source": [
    "# consolidate into a single dataframe \n",
    "worker_assessments = pd.DataFrame()\n",
    "worker_assessments['_worker_id'] = worker_ids\n",
    "worker_assessments = insert_dictionary(worker_job_count,'job_count', worker_assessments)\n",
    "worker_assessments = insert_dictionary(worker_variance,'variance', worker_assessments)\n",
    "worker_assessments = insert_dictionary(worker_mean,'mean', worker_assessments)\n",
    "worker_assessments = insert_dictionary(diversity_score_dict,'diversity_score', worker_assessments)\n",
    "worker_assessments = insert_dictionary(worker_is_in_the_minority,'minority_count', worker_assessments)\n",
    "worker_assessments['minority_percentage'] = worker_assessments['minority_count']/worker_assessments['job_count']\n",
    "del worker_assessments['minority_count']"
   ]
  },
  {
   "cell_type": "markdown",
   "metadata": {},
   "source": [
    "# evaluate each of the metrics and come up with critera to binerize them into good/bad categories (1 is bad)"
   ]
  },
  {
   "cell_type": "code",
   "execution_count": 457,
   "metadata": {
    "collapsed": false
   },
   "outputs": [],
   "source": [
    "# functions to make this work better\n",
    "\n",
    "# normalize a list of numbers so that the scale isn't such an issue (better for clusterin on raw data)\n",
    "def normalize(list_of_numbers):\n",
    "    min_value = min(list_of_numbers)\n",
    "    list_less_min = list_of_numbers - min_value\n",
    "    max_value = max(list_less_min)\n",
    "    normalized_values = list_less_min / max_value\n",
    "    return normalized_values\n",
    "\n",
    "# calculate confidence intervals\n",
    "def confidence_interval(list_of_numbers):\n",
    "    resampled = np.random.choice(list_of_numbers, 1000000)\n",
    "    \n",
    "    mu = np.mean(resampled)\n",
    "    sigma = np.std(resampled)\n",
    "        \n",
    "    ci_low = mu - 2*sigma\n",
    "    ci_high = mu + 2*sigma\n",
    "\n",
    "    return ci_low, ci_high\n",
    "\n",
    "# apply the confidence interval to detect anomalies\n",
    "def apply_ci(list_of_numbers, ci_tuple):\n",
    "    validity_list = []\n",
    "    for number in list_of_numbers:\n",
    "        if number > ci_tuple[1]:\n",
    "            validity_list.append(1)\n",
    "        elif number < ci_tuple[0]:\n",
    "            validity_list.append(1)\n",
    "        else:\n",
    "            validity_list.append(0)\n",
    "    return validity_list"
   ]
  },
  {
   "cell_type": "code",
   "execution_count": 510,
   "metadata": {
    "collapsed": false
   },
   "outputs": [
    {
     "name": "stdout",
     "output_type": "stream",
     "text": [
      "0\n",
      "6\n"
     ]
    }
   ],
   "source": [
    "# fetch the confidence intervals and judge each value as inside/outside of it and add a column to sum up, create df:\n",
    "ci_dict = {}\n",
    "ci_asses_dict = {}\n",
    "binary_worker_assessments = pd.DataFrame()\n",
    "for column in worker_assessments.columns:\n",
    "    # obviously do not apply to the worker id column\n",
    "    if column == '_worker_id':\n",
    "        binary_worker_assessments[column] = worker_assessments[column]\n",
    "        continue\n",
    "    ci_dict[column] = confidence_interval(worker_assessments[column])\n",
    "    ci_asses_dict[column] = apply_ci(worker_assessments[column], ci_dict[column])\n",
    "    binary_worker_assessments[column] = ci_asses_dict[column]\n",
    "binary_worker_assessments['agg_score']  = binary_worker_assessments.ix[:, binary_worker_assessments.columns != '_worker_id'].apply(sum, axis=1)\n",
    "binary_worker_assessments['is_bad'] = binary_worker_assessments['agg_score'].apply(lambda x: x >= 3)\n",
    "\n",
    "# add the is bad to the worker_assessment data frame\n",
    "# double check that the order is the same\n",
    "print sum(worker_assessments['_worker_id'] != binary_worker_assessments['_worker_id'])\n",
    "worker_assessments['is_bad'] = binary_worker_assessments['is_bad']\n",
    "print sum(binary_worker_assessments.is_bad)"
   ]
  },
  {
   "cell_type": "markdown",
   "metadata": {},
   "source": [
    "### cluster on the matrix to identify the fraud vs good workers "
   ]
  },
  {
   "cell_type": "code",
   "execution_count": 511,
   "metadata": {
    "collapsed": false
   },
   "outputs": [
    {
     "name": "stdout",
     "output_type": "stream",
     "text": [
      "2\n",
      "6\n"
     ]
    }
   ],
   "source": [
    "from sklearn.cluster import KMeans\n",
    "\n",
    "#make the pure dataframe for the clustering\n",
    "data_columns = ['job_count', 'variance', 'mean', 'diversity_score', 'minority_percentage']\n",
    "Y = binary_worker_assessments.ix[:, data_columns]\n",
    "\n",
    "# kmeans clustering\n",
    "kmeans2= KMeans(n_clusters = 2, random_state = 27, init= 'random' )\n",
    "cluster_predictions2 = kmeans.fit_predict(Y)\n",
    "cluster_predictions2\n",
    "print sum(cluster_predictions2 != worker_assessments.is_bad)\n",
    "print sum(worker_assessments.is_bad)\n",
    "\n",
    "#add to the data frame\n",
    "worker_assessments['is_bad_cluster'] = cluster_predictions2"
   ]
  },
  {
   "cell_type": "markdown",
   "metadata": {},
   "source": [
    "### visual assessment of the clustering"
   ]
  },
  {
   "cell_type": "code",
   "execution_count": 512,
   "metadata": {
    "collapsed": false
   },
   "outputs": [
    {
     "data": {
      "text/plain": [
       "is_bad\n",
       "False    Axes(0.125,0.125;0.775x0.775)\n",
       "True     Axes(0.125,0.125;0.775x0.775)\n",
       "Name: job_count, dtype: object"
      ]
     },
     "execution_count": 512,
     "metadata": {},
     "output_type": "execute_result"
    },
    {
     "data": {
      "image/png": "[encoded data removed]",
      "text/plain": [
       "<matplotlib.figure.Figure at 0x131b53750>"
      ]
     },
     "metadata": {},
     "output_type": "display_data"
    }
   ],
   "source": [
    "worker_assessments.groupby('is_bad')['job_count'].hist(bins = 20)"
   ]
  },
  {
   "cell_type": "code",
   "execution_count": 513,
   "metadata": {
    "collapsed": false
   },
   "outputs": [
    {
     "data": {
      "text/plain": [
       "is_bad\n",
       "False    Axes(0.125,0.125;0.775x0.775)\n",
       "True     Axes(0.125,0.125;0.775x0.775)\n",
       "Name: variance, dtype: object"
      ]
     },
     "execution_count": 513,
     "metadata": {},
     "output_type": "execute_result"
    },
    {
     "data": {
      "image/png": "[encoded data removed]",
      "text/plain": [
       "<matplotlib.figure.Figure at 0x13254cc90>"
      ]
     },
     "metadata": {},
     "output_type": "display_data"
    }
   ],
   "source": [
    "worker_assessments.groupby('is_bad')['variance'].hist(bins = 20)"
   ]
  },
  {
   "cell_type": "code",
   "execution_count": 514,
   "metadata": {
    "collapsed": false
   },
   "outputs": [
    {
     "data": {
      "text/plain": [
       "is_bad\n",
       "False    Axes(0.125,0.125;0.775x0.775)\n",
       "True     Axes(0.125,0.125;0.775x0.775)\n",
       "Name: mean, dtype: object"
      ]
     },
     "execution_count": 514,
     "metadata": {},
     "output_type": "execute_result"
    },
    {
     "data": {
      "image/png": "[encoded data removed]",
      "text/plain": [
       "<matplotlib.figure.Figure at 0x1328f8250>"
      ]
     },
     "metadata": {},
     "output_type": "display_data"
    }
   ],
   "source": [
    "worker_assessments.groupby('is_bad')['mean'].hist(bins = 20)"
   ]
  },
  {
   "cell_type": "code",
   "execution_count": 515,
   "metadata": {
    "collapsed": false
   },
   "outputs": [
    {
     "data": {
      "text/plain": [
       "is_bad\n",
       "False    Axes(0.125,0.125;0.775x0.775)\n",
       "True     Axes(0.125,0.125;0.775x0.775)\n",
       "Name: diversity_score, dtype: object"
      ]
     },
     "execution_count": 515,
     "metadata": {},
     "output_type": "execute_result"
    },
    {
     "data": {
      "image/png": "[encoded data removed]",
      "text/plain": [
       "<matplotlib.figure.Figure at 0x132c81510>"
      ]
     },
     "metadata": {},
     "output_type": "display_data"
    }
   ],
   "source": [
    "worker_assessments.groupby('is_bad')['diversity_score'].hist(bins = 20)"
   ]
  },
  {
   "cell_type": "code",
   "execution_count": 516,
   "metadata": {
    "collapsed": false
   },
   "outputs": [
    {
     "data": {
      "text/plain": [
       "is_bad\n",
       "False    Axes(0.125,0.125;0.775x0.775)\n",
       "True     Axes(0.125,0.125;0.775x0.775)\n",
       "Name: minority_percentage, dtype: object"
      ]
     },
     "execution_count": 516,
     "metadata": {},
     "output_type": "execute_result"
    },
    {
     "data": {
      "image/png": "[encoded data removed]",
      "text/plain": [
       "<matplotlib.figure.Figure at 0x132e9f490>"
      ]
     },
     "metadata": {},
     "output_type": "display_data"
    }
   ],
   "source": [
    "worker_assessments.groupby('is_bad')['minority_percentage'].hist(bins = 20)"
   ]
  },
  {
   "cell_type": "markdown",
   "metadata": {},
   "source": [
    "### briefly compare with a clustering appraoch"
   ]
  },
  {
   "cell_type": "code",
   "execution_count": 517,
   "metadata": {
    "collapsed": false
   },
   "outputs": [
    {
     "data": {
      "text/plain": [
       "is_bad_cluster\n",
       "0    Axes(0.125,0.125;0.775x0.775)\n",
       "1    Axes(0.125,0.125;0.775x0.775)\n",
       "Name: job_count, dtype: object"
      ]
     },
     "execution_count": 517,
     "metadata": {},
     "output_type": "execute_result"
    },
    {
     "data": {
      "image/png": "[encoded data removed]",
      "text/plain": [
       "<matplotlib.figure.Figure at 0x1339a0e50>"
      ]
     },
     "metadata": {},
     "output_type": "display_data"
    }
   ],
   "source": [
    "worker_assessments.groupby('is_bad_cluster')['job_count'].hist(bins = 20)"
   ]
  },
  {
   "cell_type": "code",
   "execution_count": 518,
   "metadata": {
    "collapsed": false
   },
   "outputs": [
    {
     "data": {
      "text/plain": [
       "is_bad_cluster\n",
       "0    Axes(0.125,0.125;0.775x0.775)\n",
       "1    Axes(0.125,0.125;0.775x0.775)\n",
       "Name: variance, dtype: object"
      ]
     },
     "execution_count": 518,
     "metadata": {},
     "output_type": "execute_result"
    },
    {
     "data": {
      "image/png": "[encoded data removed]",
      "text/plain": [
       "<matplotlib.figure.Figure at 0x133ca0490>"
      ]
     },
     "metadata": {},
     "output_type": "display_data"
    }
   ],
   "source": [
    "worker_assessments.groupby('is_bad_cluster')['variance'].hist(bins = 20)"
   ]
  },
  {
   "cell_type": "code",
   "execution_count": 519,
   "metadata": {
    "collapsed": false
   },
   "outputs": [
    {
     "data": {
      "text/plain": [
       "is_bad_cluster\n",
       "0    Axes(0.125,0.125;0.775x0.775)\n",
       "1    Axes(0.125,0.125;0.775x0.775)\n",
       "Name: mean, dtype: object"
      ]
     },
     "execution_count": 519,
     "metadata": {},
     "output_type": "execute_result"
    },
    {
     "data": {
      "image/png": "[encoded data removed]",
      "text/plain": [
       "<matplotlib.figure.Figure at 0x133e3f550>"
      ]
     },
     "metadata": {},
     "output_type": "display_data"
    }
   ],
   "source": [
    "worker_assessments.groupby('is_bad_cluster')['mean'].hist(bins = 20)"
   ]
  },
  {
   "cell_type": "code",
   "execution_count": 520,
   "metadata": {
    "collapsed": false
   },
   "outputs": [
    {
     "data": {
      "text/plain": [
       "is_bad_cluster\n",
       "0    Axes(0.125,0.125;0.775x0.775)\n",
       "1    Axes(0.125,0.125;0.775x0.775)\n",
       "Name: diversity_score, dtype: object"
      ]
     },
     "execution_count": 520,
     "metadata": {},
     "output_type": "execute_result"
    },
    {
     "data": {
      "image/png": "[encoded data removed]",
      "text/plain": [
       "<matplotlib.figure.Figure at 0x1340cb710>"
      ]
     },
     "metadata": {},
     "output_type": "display_data"
    }
   ],
   "source": [
    "worker_assessments.groupby('is_bad_cluster')['diversity_score'].hist(bins = 20)"
   ]
  },
  {
   "cell_type": "code",
   "execution_count": 526,
   "metadata": {
    "collapsed": false
   },
   "outputs": [
    {
     "data": {
      "text/plain": [
       "is_bad_cluster\n",
       "0    Axes(0.125,0.125;0.775x0.775)\n",
       "1    Axes(0.125,0.125;0.775x0.775)\n",
       "Name: minority_percentage, dtype: object"
      ]
     },
     "execution_count": 526,
     "metadata": {},
     "output_type": "execute_result"
    },
    {
     "data": {
      "image/png": "[encoded data removed]",
      "text/plain": [
       "<matplotlib.figure.Figure at 0x138bfa7d0>"
      ]
     },
     "metadata": {},
     "output_type": "display_data"
    }
   ],
   "source": [
    "worker_assessments.groupby('is_bad_cluster')['minority_percentage'].hist(bins = 20)"
   ]
  },
  {
   "cell_type": "markdown",
   "metadata": {},
   "source": [
    "### by somewhat crude visual inspection, it looks like clustering on the binarized worker values leads to a really good selection of the bad workers. it managed to not punish the workers who did a lot of tasks but were actually performing well, and consistently got the workers with high minority percentages, exceedingly low means, and low variances. it's actually a pretty good way to figure out whether these values matter."
   ]
  },
  {
   "cell_type": "markdown",
   "metadata": {},
   "source": [
    "# output to the database"
   ]
  },
  {
   "cell_type": "code",
   "execution_count": 524,
   "metadata": {
    "collapsed": true
   },
   "outputs": [],
   "source": [
    "# output to the worker table in the db\n",
    "\n",
    "# need libraries for conneting with databse \n",
    "from sqlalchemy import create_engine\n",
    "from sqlalchemy_utils import database_exists, create_database\n",
    "import psycopg2\n",
    "\n",
    "# create sql engine\n",
    "dbname = 'urx'\n",
    "username = 'noahburbank'\n",
    "engine = create_engine('postgres://%s@localhost/%s'%(username,dbname))"
   ]
  },
  {
   "cell_type": "code",
   "execution_count": 525,
   "metadata": {
    "collapsed": true
   },
   "outputs": [],
   "source": [
    "# make sure to adjust the table name so that the two experiments are distinct \n",
    "# upload to the database\n",
    "worker_assessments.to_sql('worker_table_exp2', engine, if_exists = 'replace')"
   ]
  }
 ],
 "metadata": {
  "kernelspec": {
   "display_name": "Python 2",
   "language": "python",
   "name": "python2"
  },
  "language_info": {
   "codemirror_mode": {
    "name": "ipython",
    "version": 2
   },
   "file_extension": ".py",
   "mimetype": "text/x-python",
   "name": "python",
   "nbconvert_exporter": "python",
   "pygments_lexer": "ipython2",
   "version": "2.7.11"
  }
 },
 "nbformat": 4,
 "nbformat_minor": 0
}
