{
 "cells": [
  {
   "cell_type": "markdown",
   "metadata": {},
   "source": [
    "# train and validate the model"
   ]
  },
  {
   "cell_type": "code",
   "execution_count": 602,
   "metadata": {
    "collapsed": false
   },
   "outputs": [],
   "source": [
    "# math\n",
    "import pandas as pd \n",
    "%matplotlib inline\n",
    "import numpy as np\n",
    "import matplotlib.pyplot as plt\n",
    "\n",
    "# models \n",
    "\n",
    "# evaluation of models \n",
    "from sklearn.metrics import confusion_matrix\n",
    "from sklearn import cross_validation, metrics\n",
    "\n"
   ]
  },
  {
   "cell_type": "code",
   "execution_count": 603,
   "metadata": {
    "collapsed": true
   },
   "outputs": [],
   "source": [
    "# import data from scores table\n",
    "# import data from signal table\n",
    "from sqlalchemy import create_engine\n",
    "from sqlalchemy_utils import database_exists, create_database\n",
    "import psycopg2\n",
    "\n",
    "dbname = 'urx'\n",
    "username = 'noahburbank'\n",
    "engine = create_engine('postgres://%s@localhost/%s'%(username,dbname))"
   ]
  },
  {
   "cell_type": "code",
   "execution_count": 604,
   "metadata": {
    "collapsed": false
   },
   "outputs": [
    {
     "name": "stdout",
     "output_type": "stream",
     "text": [
      "signal columns are: \n",
      "Index([u'index', u'_unit_id', u'title_sim', u'body_sim', u'meta_sim',\n",
      "       u'one_grams', u'two_grams', u'three_grams', u'meta_one_gram',\n",
      "       u'meta_two_gram', u'meta_three_gram', u'starturl', u'endurl',\n",
      "       u'start_domain', u'end_domain', u'body_lcf_score', u'title_lcf_score',\n",
      "       u'desc_lcf_score', u'body_ner_cosine', u'title_ner_cosine',\n",
      "       u'desc_ner_cosine', u'body_ner_intersection', u'title_ner_intersection',\n",
      "       u'desc_ner_intersectipon', u'score', u'majority'],\n",
      "      dtype='object')\n"
     ]
    }
   ],
   "source": [
    "# import worker data \n",
    "# connect:\n",
    "con = None\n",
    "con = psycopg2.connect(database = dbname, user = username)\n",
    "\n",
    "# query:\n",
    "sql_query = \"\"\"\n",
    "SELECT * FROM signals_exp2;\n",
    "\"\"\"\n",
    "signals = pd.read_sql_query(sql_query,con)\n",
    "\n",
    "print \"signal columns are: \"\n",
    "print signals.columns"
   ]
  },
  {
   "cell_type": "markdown",
   "metadata": {
    "collapsed": false
   },
   "source": [
    "### import all data, put into df, manipulate for modeling"
   ]
  },
  {
   "cell_type": "code",
   "execution_count": 646,
   "metadata": {
    "collapsed": false
   },
   "outputs": [],
   "source": [
    "# make into single dataframe\n",
    "model_df = pd.DataFrame()\n",
    "model_df['score'] = signals['majority']\n",
    "                           \n",
    "#tfidf information\n",
    "model_df['title_sim'] = signals['title_sim']\n",
    "model_df['meta_sim'] = signals['meta_sim']\n",
    "model_df['body_sim'] = signals['body_sim']\n",
    "\n",
    "# ngram inforation on titles\n",
    "model_df['one_gram'] = signals['one_grams']#\n",
    "model_df['two_gram'] = signals['two_grams']\n",
    "model_df['three_gram'] = signals['three_grams']\n",
    "\n",
    "# lcf scores\n",
    "model_df['body_lcf_score'] = signals['body_lcf_score']\n",
    "model_df['title_lcf_score'] = signals['title_lcf_score']\n",
    "model_df['desc_lcf_score'] = signals['desc_lcf_score']\n",
    "\n",
    "# ngram for description\n",
    "model_df['meta_one_gram'] = signals['meta_one_gram']\n",
    "model_df['meta_two_gram'] = signals['meta_two_gram']\n",
    "model_df['meta_three_gram'] = signals['meta_three_gram']\n",
    "\n",
    "# ner cosine scores\n",
    "model_df['body_ner_cosine'] = signals['body_ner_cosine']\n",
    "model_df['title_ner_cosine'] = signals['title_ner_cosine']\n",
    "model_df['desc_ner_cosine'] = signals['desc_ner_cosine']\n",
    "\n",
    "# ner cosine scores\n",
    "model_df['body_ner_intersection'] = signals['body_ner_intersection']\n",
    "model_df['title_ner_intersection'] = signals['title_ner_intersection']\n",
    "model_df['desc_ner_intersection'] = signals['desc_ner_intersectipon']"
   ]
  },
  {
   "cell_type": "code",
   "execution_count": 647,
   "metadata": {
    "collapsed": false
   },
   "outputs": [],
   "source": [
    "# split into training and testing sets \n",
    "np.random.seed(2)\n",
    "msk = np.random.rand(len(signals)) < 0.6\n",
    "\n",
    "train = model_df[msk]\n",
    "test = model_df[~msk]"
   ]
  },
  {
   "cell_type": "code",
   "execution_count": 648,
   "metadata": {
    "collapsed": false,
    "scrolled": true
   },
   "outputs": [],
   "source": [
    "X = train.ix[:, train.columns != 'score']\n",
    "Y = train.ix[:, train.columns == 'score']"
   ]
  },
  {
   "cell_type": "markdown",
   "metadata": {},
   "source": [
    "### create and train the models"
   ]
  },
  {
   "cell_type": "code",
   "execution_count": 731,
   "metadata": {
    "collapsed": false,
    "scrolled": false
   },
   "outputs": [
    {
     "name": "stderr",
     "output_type": "stream",
     "text": [
      "/Users/noahburbank/anaconda/envs/py2/lib/python2.7/site-packages/sklearn/utils/validation.py:449: DataConversionWarning: A column-vector y was passed when a 1d array was expected. Please change the shape of y to (n_samples, ), for example using ravel().\n",
      "  y = column_or_1d(y, warn=True)\n",
      "/Users/noahburbank/anaconda/envs/py2/lib/python2.7/site-packages/ipykernel/__main__.py:29: DataConversionWarning: A column-vector y was passed when a 1d array was expected. Please change the shape of y to (n_samples,), for example using ravel().\n",
      "/Users/noahburbank/anaconda/envs/py2/lib/python2.7/site-packages/sklearn/utils/validation.py:449: DataConversionWarning: A column-vector y was passed when a 1d array was expected. Please change the shape of y to (n_samples, ), for example using ravel().\n",
      "  y = column_or_1d(y, warn=True)\n",
      "/Users/noahburbank/anaconda/envs/py2/lib/python2.7/site-packages/sklearn/utils/validation.py:449: DataConversionWarning: A column-vector y was passed when a 1d array was expected. Please change the shape of y to (n_samples, ), for example using ravel().\n",
      "  y = column_or_1d(y, warn=True)\n",
      "/Users/noahburbank/anaconda/envs/py2/lib/python2.7/site-packages/sklearn/utils/validation.py:449: DataConversionWarning: A column-vector y was passed when a 1d array was expected. Please change the shape of y to (n_samples, ), for example using ravel().\n",
      "  y = column_or_1d(y, warn=True)\n",
      "/Users/noahburbank/anaconda/envs/py2/lib/python2.7/site-packages/sklearn/svm/base.py:472: DataConversionWarning: A column-vector y was passed when a 1d array was expected. Please change the shape of y to (n_samples, ), for example using ravel().\n",
      "  y_ = column_or_1d(y, warn=True)\n",
      "/Users/noahburbank/anaconda/envs/py2/lib/python2.7/site-packages/sklearn/utils/validation.py:449: DataConversionWarning: A column-vector y was passed when a 1d array was expected. Please change the shape of y to (n_samples, ), for example using ravel().\n",
      "  y = column_or_1d(y, warn=True)\n",
      "/Users/noahburbank/anaconda/envs/py2/lib/python2.7/site-packages/sklearn/utils/validation.py:449: DataConversionWarning: A column-vector y was passed when a 1d array was expected. Please change the shape of y to (n_samples, ), for example using ravel().\n",
      "  y = column_or_1d(y, warn=True)\n"
     ]
    }
   ],
   "source": [
    "# create models \n",
    "from sklearn.ensemble import RandomForestClassifier\n",
    "clf = RandomForestClassifier(n_estimators=100, random_state = 5, max_features = 5)\n",
    "\n",
    "from sklearn.linear_model import LogisticRegression\n",
    "linreg = LogisticRegression()\n",
    "\n",
    "from sklearn import tree\n",
    "tree = tree.DecisionTreeClassifier(max_depth = 4)\n",
    "\n",
    "from sklearn.ensemble import AdaBoostClassifier\n",
    "boost = AdaBoostClassifier()\n",
    "\n",
    "from sklearn.ensemble import GradientBoostingClassifier\n",
    "gradient = GradientBoostingClassifier()\n",
    "\n",
    "from sklearn import svm\n",
    "svm_model = svm.SVC(probability=True)\n",
    "\n",
    "from sklearn.naive_bayes import BernoulliNB\n",
    "bernouli_nb = BernoulliNB()\n",
    "\n",
    "from sklearn.naive_bayes import GaussianNB\n",
    "gnb = GaussianNB().fit(X,Y)\n",
    "\n",
    "\n",
    "# train models\n",
    "\n",
    "clf = clf.fit(X,Y)\n",
    "linreg = linreg.fit(X,Y)\n",
    "tree = tree.fit(X,Y)\n",
    "boost = boost.fit(X,Y)\n",
    "gradient = gradient.fit(X,Y)\n",
    "svm_model = svm_model.fit(X,Y)\n",
    "bernouli_nb = bernouli_nb.fit(X,Y)\n",
    "gnb = gnb.fit(X,Y)\n",
    "\n",
    "\n",
    "\n",
    "# models into a list\n",
    "models = [clf, linreg, tree, boost, gradient, svm_model, bernouli_nb, gnb]"
   ]
  },
  {
   "cell_type": "markdown",
   "metadata": {},
   "source": [
    "### evaluate the performance of the models\n",
    "1. residuals and rms\n",
    "2. confusion matrix, accuracy, precision, recall, and f1\n",
    "3. cross validation\n",
    "4. auc \n",
    "5. auc graph with multiple models "
   ]
  },
  {
   "cell_type": "code",
   "execution_count": 727,
   "metadata": {
    "collapsed": false
   },
   "outputs": [],
   "source": [
    "def evaluate_model(model):\n",
    "#    print \"for \" + str(model)\n",
    "#    print\n",
    "    # get predicted, predicted prob, and actual values\n",
    "    predicted = model.predict(test.ix[:, train.columns != 'score'])\n",
    "    predicted_proba = model.predict_proba(test.ix[:, train.columns != 'score'])\n",
    "    actual = test['score']\n",
    "\n",
    "    # evaluate based on residuals \n",
    "    residuals = predicted - actual\n",
    "#    print 'sum of residuals: ' + str(np.sum(residuals))\n",
    "    rms = pd.Series(data = residuals).apply(lambda x: x**2).sum()\n",
    "#    print 'rms: ' + str(rms)\n",
    "    \n",
    "    # evaluate based on confusion matrix \n",
    "    cm = confusion_matrix(actual, predicted)\n",
    "    a = float(cm[0,0])\n",
    "    b = float(cm[0,1])\n",
    "    c = float(cm[1,0])\n",
    "    d = float(cm[1,1])\n",
    "\n",
    "    # calculate cm measures \n",
    "    try: \n",
    "        precision = d / (d + b)\n",
    "    except ZeroDivisionError:\n",
    "        precision = \"not an answerable question\"\n",
    "\n",
    "    recall =  d / (c + d)\n",
    "    accuracy = (a + d)/ (a + b + c + d)\n",
    "    f1 = 2*(precision * recall)/ (precision+recall)\n",
    "\n",
    "#    print \n",
    "#    print 'accuracy is ' + str(round(accuracy,3))\n",
    "#    print \"precision is \" + str(round(precision,3)) + \" (how many called relevant links are actually relevant)\"\n",
    "#    print \"recall is \" + str(round(recall,3)) + \" (how many relevant links it actually called relevant)\"\n",
    "#    print \"f1 is \" + str(round(f1,3))\n",
    "#    print \n",
    "\n",
    "    # cross validation\n",
    "    \n",
    "    # this requires me to change the shape of Y so that it's (len,) instead of (len,1)\n",
    "    Y1 = np.asarray(Y).ravel()\n",
    "\n",
    "    fold_count = 10\n",
    "    # cv = 'cross-validations' = 'no. of k-foldings to do' in the language I used above\n",
    "    scores_train = cross_validation.cross_val_score(model, X, Y1, cv=fold_count)\n",
    "    # With 68% CLs on the accuracy\n",
    "#    print \"for \" + str(fold_count) + \" folds\"\n",
    "#    print 'Average accuracy on cross-validated training set: %0.3f ± %0.3f' % (scores_train.mean(),scores_train.std())\n",
    "    \n",
    "    \n",
    "    # auc calculation\n",
    "    fpr, tpr, thresholds = metrics.roc_curve(actual, (1-predicted_proba[:,1]), pos_label = 1)\n",
    "    roc_auc = metrics.auc(fpr,tpr)\n",
    "#    print \n",
    "#    print \"the area under the curve is: \" + str(round(roc_auc,3))\n",
    "#    print\n",
    "#    print \n",
    "#    print\n",
    "#    print\n",
    "    return [rms, round(scores_train.mean(),3), round(accuracy,3), round(precision,3), round(recall, 3), round(f1, 3), round(roc_auc,3)]"
   ]
  },
  {
   "cell_type": "code",
   "execution_count": 728,
   "metadata": {
    "collapsed": false
   },
   "outputs": [
    {
     "data": {
      "text/html": [
       "<div>\n",
       "<table border=\"1\" class=\"dataframe\">\n",
       "  <thead>\n",
       "    <tr style=\"text-align: right;\">\n",
       "      <th></th>\n",
       "      <th>RMS</th>\n",
       "      <th>CV Acc</th>\n",
       "      <th>OOB Acc</th>\n",
       "      <th>Precision</th>\n",
       "      <th>Recall</th>\n",
       "      <th>F1</th>\n",
       "      <th>AUC</th>\n",
       "    </tr>\n",
       "  </thead>\n",
       "  <tbody>\n",
       "    <tr>\n",
       "      <th>RandomForestClassifier</th>\n",
       "      <td>88</td>\n",
       "      <td>0.817</td>\n",
       "      <td>0.932</td>\n",
       "      <td>0.893</td>\n",
       "      <td>0.852</td>\n",
       "      <td>0.872</td>\n",
       "      <td>0.973</td>\n",
       "    </tr>\n",
       "    <tr>\n",
       "      <th>LogisticRegression</th>\n",
       "      <td>212</td>\n",
       "      <td>0.830</td>\n",
       "      <td>0.836</td>\n",
       "      <td>0.754</td>\n",
       "      <td>0.591</td>\n",
       "      <td>0.662</td>\n",
       "      <td>0.906</td>\n",
       "    </tr>\n",
       "    <tr>\n",
       "      <th>DecisionTreeClassifier</th>\n",
       "      <td>168</td>\n",
       "      <td>0.784</td>\n",
       "      <td>0.870</td>\n",
       "      <td>0.756</td>\n",
       "      <td>0.773</td>\n",
       "      <td>0.764</td>\n",
       "      <td>0.925</td>\n",
       "    </tr>\n",
       "    <tr>\n",
       "      <th>AdaBoostClassifier</th>\n",
       "      <td>140</td>\n",
       "      <td>0.810</td>\n",
       "      <td>0.892</td>\n",
       "      <td>0.805</td>\n",
       "      <td>0.795</td>\n",
       "      <td>0.800</td>\n",
       "      <td>0.936</td>\n",
       "    </tr>\n",
       "    <tr>\n",
       "      <th>GradientBoostingClassifier</th>\n",
       "      <td>104</td>\n",
       "      <td>0.808</td>\n",
       "      <td>0.920</td>\n",
       "      <td>0.860</td>\n",
       "      <td>0.841</td>\n",
       "      <td>0.851</td>\n",
       "      <td>0.966</td>\n",
       "    </tr>\n",
       "    <tr>\n",
       "      <th>SVC</th>\n",
       "      <td>292</td>\n",
       "      <td>0.804</td>\n",
       "      <td>0.775</td>\n",
       "      <td>0.597</td>\n",
       "      <td>0.523</td>\n",
       "      <td>0.558</td>\n",
       "      <td>0.867</td>\n",
       "    </tr>\n",
       "    <tr>\n",
       "      <th>BernoulliNB</th>\n",
       "      <td>272</td>\n",
       "      <td>0.801</td>\n",
       "      <td>0.790</td>\n",
       "      <td>0.661</td>\n",
       "      <td>0.466</td>\n",
       "      <td>0.547</td>\n",
       "      <td>0.795</td>\n",
       "    </tr>\n",
       "    <tr>\n",
       "      <th>GaussianNB</th>\n",
       "      <td>188</td>\n",
       "      <td>0.816</td>\n",
       "      <td>0.855</td>\n",
       "      <td>0.815</td>\n",
       "      <td>0.602</td>\n",
       "      <td>0.693</td>\n",
       "      <td>0.901</td>\n",
       "    </tr>\n",
       "  </tbody>\n",
       "</table>\n",
       "</div>"
      ],
      "text/plain": [
       "                            RMS  CV Acc  OOB Acc  Precision  Recall     F1  \\\n",
       "RandomForestClassifier       88   0.817    0.932      0.893   0.852  0.872   \n",
       "LogisticRegression          212   0.830    0.836      0.754   0.591  0.662   \n",
       "DecisionTreeClassifier      168   0.784    0.870      0.756   0.773  0.764   \n",
       "AdaBoostClassifier          140   0.810    0.892      0.805   0.795  0.800   \n",
       "GradientBoostingClassifier  104   0.808    0.920      0.860   0.841  0.851   \n",
       "SVC                         292   0.804    0.775      0.597   0.523  0.558   \n",
       "BernoulliNB                 272   0.801    0.790      0.661   0.466  0.547   \n",
       "GaussianNB                  188   0.816    0.855      0.815   0.602  0.693   \n",
       "\n",
       "                              AUC  \n",
       "RandomForestClassifier      0.973  \n",
       "LogisticRegression          0.906  \n",
       "DecisionTreeClassifier      0.925  \n",
       "AdaBoostClassifier          0.936  \n",
       "GradientBoostingClassifier  0.966  \n",
       "SVC                         0.867  \n",
       "BernoulliNB                 0.795  \n",
       "GaussianNB                  0.901  "
      ]
     },
     "execution_count": 728,
     "metadata": {},
     "output_type": "execute_result"
    }
   ],
   "source": [
    "# create data frame for evaluating models \n",
    "column_names = ['RMS', 'CV Acc', 'OOB Acc', 'Precision', 'Recall', 'F1', 'AUC']\n",
    "model_eval_df = pd.DataFrame(columns = ['RMS', 'CV Acc', 'OOB Acc', 'Precision', 'Recall', 'F1', 'AUC'])\n",
    "\n",
    "# put them all in a dataframe \n",
    "for model in models:\n",
    "    temp_df = pd.DataFrame(evaluate_model(model),column_names).T\n",
    "    temp_df.index = [str(type(model)).split('.')[-1].replace('>', '').replace('\\'', '')]\n",
    "    model_eval_df = model_eval_df.append(temp_df)\n",
    "    \n",
    "\n",
    "# output\n",
    "model_eval_df"
   ]
  },
  {
   "cell_type": "markdown",
   "metadata": {},
   "source": [
    "#### roc curve graphs"
   ]
  },
  {
   "cell_type": "code",
   "execution_count": 729,
   "metadata": {
    "collapsed": false
   },
   "outputs": [
    {
     "data": {
      "text/plain": [
       "<matplotlib.legend.Legend at 0x110677f50>"
      ]
     },
     "execution_count": 729,
     "metadata": {},
     "output_type": "execute_result"
    },
    {
     "data": {
      "image/png": "[encoded data removed]",
      "text/plain": [
       "<matplotlib.figure.Figure at 0x110677390>"
      ]
     },
     "metadata": {},
     "output_type": "display_data"
    }
   ],
   "source": [
    "# create the plot\n",
    "f, a = plt.subplots()\n",
    "f.set_size_inches(10,7)\n",
    "\n",
    "# create curve for each model \n",
    "indexer = range(0,len(models))\n",
    "for index in indexer: \n",
    "    name = str(type(models[index])).split('.')[-1].replace('>', '').replace('\\'', '')\n",
    "    \n",
    "    model = models[index]\n",
    "    actual = test['score']\n",
    "    predicted_proba = model.predict_proba(test.ix[:, train.columns != 'score'])\n",
    "    \n",
    "    # generate the names for each model\n",
    "    fpr_name = 'fpr_' + str(index)\n",
    "    tpr_name = 'tpr_' + str(index)\n",
    "    roc_auc_name = 'roc_auc_' + str(index)\n",
    "    \n",
    "    # calculate the roc curve contents, and auc \n",
    "    fpr_name, tpr_name, thresholds = metrics.roc_curve(actual, (1-predicted_proba[:,1]), pos_label = 1)\n",
    "    roc_auc_name = metrics.auc(fpr_name,tpr_name)\n",
    "\n",
    "    # generate the plot object \n",
    "    a.plot(fpr_name, tpr_name, label = name + '  (auc = %0.3f)' % roc_auc_name)\n",
    "\n",
    "\n",
    "# The 50/50 fpr/tpr line\n",
    "a.plot([0,1],[0,1],'k--') #, label='Random chance predictor')\n",
    "a.set_xlim(0.0,1.0)\n",
    "a.set_ylim(0.0,1.05)\n",
    "a.set_xlabel('False positive rate')\n",
    "a.set_ylabel('True positive rate')\n",
    "a.legend(loc='lower right')"
   ]
  },
  {
   "cell_type": "markdown",
   "metadata": {},
   "source": [
    "#### show the importance of different features"
   ]
  },
  {
   "cell_type": "code",
   "execution_count": 653,
   "metadata": {
    "collapsed": false
   },
   "outputs": [
    {
     "name": "stdout",
     "output_type": "stream",
     "text": [
      "Feature ranking:\n",
      "1. feature 0 (0.259214) title_sim\n",
      "2. feature 2 (0.135453) meta_sim\n",
      "3. feature 5 (0.117125) body_sim\n",
      "4. feature 9 (0.067588) one_gram\n",
      "5. feature 10 (0.066359) two_gram\n",
      "6. feature 4 (0.064879) three_gram\n",
      "7. feature 3 (0.064679) body_lcf_score\n",
      "8. feature 7 (0.061136) title_lcf_score\n",
      "9. feature 1 (0.053948) desc_lcf_score\n",
      "10. feature 11 (0.047221) meta_one_gram\n",
      "11. feature 15 (0.018617) meta_two_gram\n",
      "12. feature 8 (0.012810) meta_three_gram\n",
      "13. feature 12 (0.011980) body_ner_cosine\n",
      "14. feature 6 (0.011664) title_ner_cosine\n",
      "15. feature 13 (0.004711) desc_ner_cosine\n",
      "16. feature 16 (0.002616) body_ner_intersection\n",
      "17. feature 14 (0.000000) title_ner_intersection\n",
      "18. feature 17 (0.000000) desc_ner_intersection\n"
     ]
    }
   ],
   "source": [
    "importances = clf.feature_importances_\n",
    "indices = np.argsort(importances)[::-1]\n",
    "\n",
    "# Print the feature ranking\n",
    "print(\"Feature ranking:\")\n",
    "\n",
    "for f in range(X.shape[1]):\n",
    "    print(\"%d. feature %d (%f)\" % (f + 1, indices[f], importances[indices[f]])), model_df.columns[f+1]\n",
    "    "
   ]
  },
  {
   "cell_type": "markdown",
   "metadata": {},
   "source": [
    "# compare the between domain accuracy scores"
   ]
  },
  {
   "cell_type": "code",
   "execution_count": 654,
   "metadata": {
    "collapsed": false,
    "scrolled": false
   },
   "outputs": [],
   "source": [
    "indexer = range(0,100)\n",
    "list_of_f1_scores = []\n",
    "list_of_irrelevant_percent = []\n",
    "nd(domain_validation.testing_ratio)\n",
    "\n",
    "# split into training and testing sets \n",
    "    np.random.seed(2)\n",
    "    msk = np.random.rand(len(signals)) < 0.6\n",
    "\n",
    "    train = model_df[msk]\n",
    "    test = model_df[~msk]\n",
    "\n",
    "    domain_df = model_df\n",
    "    domain_df['start_domain'] = signals.start_domain\n",
    "    domain_df['end_domain'] = signals.end_domain\n",
    "\n",
    "    training_domain_df = domain_df\n",
    "    domain_df = domain_df[~msk]\n",
    "\n",
    "    domain_auc_dict = {}\n",
    "    domain_f1_dict = {}\n",
    "    domain_length_dict = {}\n",
    "    accuracy_dict = {}\n",
    "    precision_dict = {}\n",
    "    recall_dict = {}\n",
    "\n",
    "    for domain in domain_df.groupby('start_domain'):\n",
    "        x,y = domain[1].shape\n",
    "        domain_length_dict[domain[0]] = x\n",
    "        features = domain_df[domain_df['start_domain'] == domain[0]]\n",
    "        actual = features[features['start_domain'] == domain[0]].score\n",
    "        features = features.ix[:, domain_df.columns != 'score']\n",
    "        features = features.ix[:, features.columns != 'start_domain']\n",
    "        features = features.ix[:, features.columns != 'end_domain']\n",
    "        proba_predictions = clf.predict_proba(features)\n",
    "        fpr_rf, tpr_rf, thresholds = metrics.roc_curve(actual, (1-proba_predictions[:,1]), pos_label = 1)\n",
    "        predictions = clf.predict(features)\n",
    "        f1_score = metrics.f1_score(actual,predictions)\n",
    "        domain_f1_dict[domain[0]] = f1_score\n",
    "        roc_auc_rf = metrics.auc(fpr_rf,tpr_rf)\n",
    "        domain_auc_dict[domain[0]] = roc_auc_rf\n",
    "        accuracy = metrics.accuracy_score(actual,predictions)\n",
    "        accuracy_dict[domain[0]] = accuracy\n",
    "        cm = confusion_matrix(actual, clf.predict(features))\n",
    "        precision = metrics.precision_score(actual,predictions)\n",
    "        precision_dict[domain[0]] = precision\n",
    "        recall = metrics.recall_score(actual,predictions)\n",
    "        recall_dict[domain[0]] = recall\n",
    "\n",
    "    # make a df\n",
    "    domain_validation = pd.DataFrame()\n",
    "    domain_validation['domain'] = domain_auc_dict.keys()\n",
    "    domain_validation['auc'] = domain_auc_dict.values()\n",
    "    domain_validation['f1'] = domain_f1_dict.values()\n",
    "    domain_validation['length'] = domain_length_dict.values()\n",
    "    domain_validation['accuracy'] = accuracy_dict.values()\n",
    "    domain_validation['precision'] = precision_dict.values()\n",
    "    domain_validation['recall'] = recall_dict.values()"
   ]
  },
  {
   "cell_type": "code",
   "execution_count": 655,
   "metadata": {
    "collapsed": false
   },
   "outputs": [],
   "source": [
    "# generation addiitonal features from the original data related to the domain, it's coverage in the training set,\n",
    "# and the initial ratio between relevant/irrelevant\n",
    "domain_training_length = {}\n",
    "\n",
    "for domain in  training_domain_df[~msk].groupby('start_domain'):\n",
    "    domain_training_length[domain[0]] = len(domain[1])\n",
    "\n",
    "ordered_training_list = []\n",
    "for domain in domain_validation['domain']:\n",
    "    ordered_training_list.append(domain_training_length[domain])\n",
    "    \n",
    "domain_validation['training_length'] = ordered_training_list\n",
    "\n",
    "full_train_df = model_df[msk]\n",
    "\n",
    "relevance_ratio = {}\n",
    "\n",
    "for domain_scores in full_train_df.groupby('start_domain').score:\n",
    "    name =  domain_scores[0]\n",
    "    ratio = list(domain_scores[1].value_counts())\n",
    "    if len(ratio) == 2:\n",
    "        initial_ratio = (ratio[0] + 0.)/(ratio[0] + ratio[1])\n",
    "    else:\n",
    "        initial_ratio = 1\n",
    "    relevance_ratio[name] = initial_ratio\n",
    "    \n",
    "ordered_list = []\n",
    "for domain in domain_validation.domain:\n",
    "    ordered_list.append(relevance_ratio[domain])\n",
    "    \n",
    "domain_validation['testing_ratio'] = ordered_list"
   ]
  },
  {
   "cell_type": "code",
   "execution_count": 656,
   "metadata": {
    "collapsed": false
   },
   "outputs": [
    {
     "name": "stdout",
     "output_type": "stream",
     "text": [
      "0.964966893042\n",
      "0.0658676588607\n"
     ]
    },
    {
     "data": {
      "image/png": "[encoded data removed]",
      "text/plain": [
       "<matplotlib.figure.Figure at 0x119856e90>"
      ]
     },
     "metadata": {},
     "output_type": "display_data"
    }
   ],
   "source": [
    "domain_validation.auc.hist(bins = 30)\n",
    "print domain_validation.auc.mean()\n",
    "print domain_validation.auc.std()"
   ]
  },
  {
   "cell_type": "code",
   "execution_count": 657,
   "metadata": {
    "collapsed": false
   },
   "outputs": [
    {
     "name": "stdout",
     "output_type": "stream",
     "text": [
      "0.931517527913\n",
      "0.133556261286\n"
     ]
    },
    {
     "data": {
      "image/png": "[encoded data removed]",
      "text/plain": [
       "<matplotlib.figure.Figure at 0x114c45710>"
      ]
     },
     "metadata": {},
     "output_type": "display_data"
    }
   ],
   "source": [
    "domain_validation.f1.hist(bins = 30)\n",
    "print domain_validation.f1.mean()\n",
    "print domain_validation.f1.std()"
   ]
  },
  {
   "cell_type": "code",
   "execution_count": 658,
   "metadata": {
    "collapsed": false
   },
   "outputs": [
    {
     "name": "stdout",
     "output_type": "stream",
     "text": [
      "0.934005453236\n",
      "0.0910389135729\n"
     ]
    },
    {
     "data": {
      "image/png": "[encoded data removed]",
      "text/plain": [
       "<matplotlib.figure.Figure at 0x102973f50>"
      ]
     },
     "metadata": {},
     "output_type": "display_data"
    }
   ],
   "source": [
    "domain_validation.accuracy.hist(bins = 30)\n",
    "print domain_validation.accuracy.mean()\n",
    "print domain_validation.accuracy.std()"
   ]
  },
  {
   "cell_type": "markdown",
   "metadata": {},
   "source": [
    "### deal with and explain those stupid outliers"
   ]
  },
  {
   "cell_type": "code",
   "execution_count": 659,
   "metadata": {
    "collapsed": false
   },
   "outputs": [
    {
     "name": "stdout",
     "output_type": "stream",
     "text": [
      "                            OLS Regression Results                            \n",
      "==============================================================================\n",
      "Dep. Variable:                     f1   R-squared:                       0.203\n",
      "Model:                            OLS   Adj. R-squared:                  0.170\n",
      "Method:                 Least Squares   F-statistic:                     6.110\n",
      "Date:                Tue, 02 Feb 2016   Prob (F-statistic):             0.0209\n",
      "Time:                        00:10:57   Log-Likelihood:                 18.910\n",
      "No. Observations:                  26   AIC:                            -33.82\n",
      "Df Residuals:                      24   BIC:                            -31.30\n",
      "Df Model:                           1                                         \n",
      "Covariance Type:            nonrobust                                         \n",
      "=================================================================================\n",
      "                    coef    std err          t      P>|t|      [95.0% Conf. Int.]\n",
      "---------------------------------------------------------------------------------\n",
      "Intercept         0.6543      0.115      5.705      0.000         0.418     0.891\n",
      "testing_ratio     0.3671      0.149      2.472      0.021         0.061     0.674\n",
      "==============================================================================\n",
      "Omnibus:                       26.476   Durbin-Watson:                   2.534\n",
      "Prob(Omnibus):                  0.000   Jarque-Bera (JB):               51.633\n",
      "Skew:                          -2.018   Prob(JB):                     6.14e-12\n",
      "Kurtosis:                       8.601   Cond. No.                         9.83\n",
      "==============================================================================\n",
      "\n",
      "Warnings:\n",
      "[1] Standard Errors assume that the covariance matrix of the errors is correctly specified.\n"
     ]
    },
    {
     "data": {
      "text/plain": [
       "[<matplotlib.lines.Line2D at 0x1189eea10>]"
      ]
     },
     "execution_count": 659,
     "metadata": {},
     "output_type": "execute_result"
    },
    {
     "data": {
      "image/png": "[encoded data removed]",
      "text/plain": [
       "<matplotlib.figure.Figure at 0x1187c9750>"
      ]
     },
     "metadata": {},
     "output_type": "display_data"
    }
   ],
   "source": [
    "# this is the standard import if you're using \"formula notation\" (similar to R)\n",
    "import statsmodels.formula.api as smf\n",
    "\n",
    "# create a fitted model in one line\n",
    "lm = smf.ols(formula='f1 ~ testing_ratio', data=domain_validation).fit()\n",
    "\n",
    "# print the coefficients\n",
    "print lm.summary()\n",
    "\n",
    "X_prime = np.linspace(domain_validation.testing_ratio.min(), domain_validation.testing_ratio.max(), 26)\n",
    "Y_prime = (X_prime * .309) + .6879\n",
    "plt.scatter(domain_validation.testing_ratio, domain_validation.f1, alpha=0.3)  # Plot the raw data\n",
    "plt.plot(X_prime, Y_prime, 'r', alpha=0.9)  # Add the regression line, colored in red"
   ]
  },
  {
   "cell_type": "code",
   "execution_count": 660,
   "metadata": {
    "collapsed": false
   },
   "outputs": [],
   "source": [
    "training_ratio = {}\n",
    "for domain in model_df[~msk].groupby('start_domain'):\n",
    "    name = domain[0]\n",
    "    ratio = list(domain[1].score.value_counts())\n",
    "    if len(ratio) == 2:\n",
    "        initial_ratio = (ratio[0] + 0.)/(ratio[0] + ratio[1])\n",
    "    else:\n",
    "        initial_ratio = 1\n",
    "    training_ratio[name] = initial_ratio\n",
    "\n",
    "\n",
    "ordered_list = []\n",
    "for domain in domain_validation.domain:\n",
    "    ordered_list.append(training_ratio[domain])\n",
    "\n",
    "domain_validation['training_ratio'] = ordered_list"
   ]
  },
  {
   "cell_type": "code",
   "execution_count": 661,
   "metadata": {
    "collapsed": false
   },
   "outputs": [],
   "source": [
    "#global porportion\n",
    "vc_list = list(model_df.score.value_counts())\n",
    "global_proportion = vc_list[0] / (0. + vc_list[0] + vc_list[1])"
   ]
  },
  {
   "cell_type": "code",
   "execution_count": 662,
   "metadata": {
    "collapsed": false
   },
   "outputs": [
    {
     "data": {
      "text/plain": [
       "<matplotlib.lines.Line2D at 0x11d2a5350>"
      ]
     },
     "execution_count": 662,
     "metadata": {},
     "output_type": "execute_result"
    },
    {
     "data": {
      "image/png": "[encoded data removed]",
      "text/plain": [
       "<matplotlib.figure.Figure at 0x118d38c10>"
      ]
     },
     "metadata": {},
     "output_type": "display_data"
    },
    {
     "data": {
      "image/png": "[encoded data removed]",
      "text/plain": [
       "<matplotlib.figure.Figure at 0x118d38d10>"
      ]
     },
     "metadata": {},
     "output_type": "display_data"
    },
    {
     "data": {
      "image/png": "[encoded data removed]",
      "text/plain": [
       "<matplotlib.figure.Figure at 0x11d5be190>"
      ]
     },
     "metadata": {},
     "output_type": "display_data"
    },
    {
     "data": {
      "image/png": "[encoded data removed]",
      "text/plain": [
       "<matplotlib.figure.Figure at 0x11d2a5190>"
      ]
     },
     "metadata": {},
     "output_type": "display_data"
    }
   ],
   "source": [
    "domain_validation.plot(kind = 'scatter', x = 'training_ratio', y = 'f1', color = 'red', xlim = (0.49,1.01), alpha = .5)\n",
    "\n",
    "domain_validation.plot(kind = 'scatter', x = 'testing_ratio', y = 'f1', color = 'blue', xlim=(0.49,1.01), alpha = .5)\n",
    "\n",
    "domain_validation.plot(kind = 'scatter', x = 'training_ratio', y = 'f1', color = 'red', xlim = (0.49,1.01), alpha = .5)\n",
    "plt.axvline(global_proportion)\n",
    "\n",
    "domain_validation.plot(kind = 'scatter', x = 'testing_ratio', y = 'f1', color = 'blue', xlim=(0.49,1.01), alpha = .5)\n",
    "plt.axvline(global_proportion)"
   ]
  },
  {
   "cell_type": "code",
   "execution_count": 663,
   "metadata": {
    "collapsed": false
   },
   "outputs": [
    {
     "name": "stdout",
     "output_type": "stream",
     "text": [
      "Ttest_indResult(statistic=-2.301998916991514, pvalue=0.030318965711428104)\n",
      "12\n",
      "14\n"
     ]
    }
   ],
   "source": [
    "under_73 = domain_validation[domain_validation.testing_ratio < global_proportion].f1\n",
    "over_73 = domain_validation[domain_validation.testing_ratio > global_proportion].f1\n",
    "over_73 = over_73.dropna()\n",
    "\n",
    "print stats.ttest_ind(under_73, over_73)\n",
    "print len(under_73)\n",
    "print len(over_73)"
   ]
  },
  {
   "cell_type": "code",
   "execution_count": 664,
   "metadata": {
    "collapsed": false
   },
   "outputs": [
    {
     "data": {
      "text/html": [
       "<div>\n",
       "<table border=\"1\" class=\"dataframe\">\n",
       "  <thead>\n",
       "    <tr style=\"text-align: right;\">\n",
       "      <th></th>\n",
       "      <th>domain</th>\n",
       "      <th>auc</th>\n",
       "      <th>f1</th>\n",
       "      <th>length</th>\n",
       "      <th>accuracy</th>\n",
       "      <th>precision</th>\n",
       "      <th>recall</th>\n",
       "      <th>training_length</th>\n",
       "      <th>testing_ratio</th>\n",
       "      <th>training_ratio</th>\n",
       "    </tr>\n",
       "  </thead>\n",
       "  <tbody>\n",
       "    <tr>\n",
       "      <th>9</th>\n",
       "      <td>songlyrics</td>\n",
       "      <td>1.000000</td>\n",
       "      <td>0.400000</td>\n",
       "      <td>13</td>\n",
       "      <td>0.769231</td>\n",
       "      <td>1.000000</td>\n",
       "      <td>0.25</td>\n",
       "      <td>13</td>\n",
       "      <td>0.521739</td>\n",
       "      <td>0.692308</td>\n",
       "    </tr>\n",
       "    <tr>\n",
       "      <th>14</th>\n",
       "      <td>blabbermouth</td>\n",
       "      <td>0.933333</td>\n",
       "      <td>0.714286</td>\n",
       "      <td>14</td>\n",
       "      <td>0.714286</td>\n",
       "      <td>0.555556</td>\n",
       "      <td>1.00</td>\n",
       "      <td>14</td>\n",
       "      <td>0.541667</td>\n",
       "      <td>0.642857</td>\n",
       "    </tr>\n",
       "    <tr>\n",
       "      <th>17</th>\n",
       "      <td>cinemablend</td>\n",
       "      <td>0.750000</td>\n",
       "      <td>0.750000</td>\n",
       "      <td>8</td>\n",
       "      <td>0.750000</td>\n",
       "      <td>0.750000</td>\n",
       "      <td>0.75</td>\n",
       "      <td>8</td>\n",
       "      <td>0.620690</td>\n",
       "      <td>0.500000</td>\n",
       "    </tr>\n",
       "    <tr>\n",
       "      <th>21</th>\n",
       "      <td>directlyrics</td>\n",
       "      <td>0.883333</td>\n",
       "      <td>0.800000</td>\n",
       "      <td>16</td>\n",
       "      <td>0.750000</td>\n",
       "      <td>0.800000</td>\n",
       "      <td>0.80</td>\n",
       "      <td>16</td>\n",
       "      <td>0.666667</td>\n",
       "      <td>0.625000</td>\n",
       "    </tr>\n",
       "  </tbody>\n",
       "</table>\n",
       "</div>"
      ],
      "text/plain": [
       "          domain       auc        f1  length  accuracy  precision  recall  \\\n",
       "9     songlyrics  1.000000  0.400000      13  0.769231   1.000000    0.25   \n",
       "14  blabbermouth  0.933333  0.714286      14  0.714286   0.555556    1.00   \n",
       "17   cinemablend  0.750000  0.750000       8  0.750000   0.750000    0.75   \n",
       "21  directlyrics  0.883333  0.800000      16  0.750000   0.800000    0.80   \n",
       "\n",
       "    training_length  testing_ratio  training_ratio  \n",
       "9                13       0.521739        0.692308  \n",
       "14               14       0.541667        0.642857  \n",
       "17                8       0.620690        0.500000  \n",
       "21               16       0.666667        0.625000  "
      ]
     },
     "execution_count": 664,
     "metadata": {},
     "output_type": "execute_result"
    }
   ],
   "source": [
    "domain_validation[domain_validation.f1 < .9]"
   ]
  },
  {
   "cell_type": "markdown",
   "metadata": {},
   "source": [
    "### the basic take away here is that the closer your training ratio is to .5, the worse off you are. this makes sense, becuase you're looking at a more and more challening and uninformative prior. \n",
    "\n",
    "### the tricky part of this is that you can improve this by training it against more irrelevant websites. It would seem like you would need to add more cases of relevance to teach it that, but it would appear that adding more irrelevant options should do the case. "
   ]
  },
  {
   "cell_type": "code",
   "execution_count": null,
   "metadata": {
    "collapsed": true
   },
   "outputs": [],
   "source": []
  },
  {
   "cell_type": "code",
   "execution_count": null,
   "metadata": {
    "collapsed": true
   },
   "outputs": [],
   "source": [
    "list_of_f1_scores.append(domain_validation.f1)\n",
    "list_of_testing_ratios.append(domain_validation.testing_ratio)"
   ]
  },
  {
   "cell_type": "code",
   "execution_count": 672,
   "metadata": {
    "collapsed": false
   },
   "outputs": [
    {
     "data": {
      "text/plain": [
       "<matplotlib.collections.PathCollection at 0x11a4ace90>"
      ]
     },
     "execution_count": 672,
     "metadata": {},
     "output_type": "execute_result"
    },
    {
     "data": {
      "image/png": "[encoded data removed]",
      "text/plain": [
       "<matplotlib.figure.Figure at 0x11a613c50>"
      ]
     },
     "metadata": {},
     "output_type": "display_data"
    }
   ],
   "source": [
    "plt.scatter([item for sublist in list_of_testing_ratios for item in sublist],[item for sublist in list_of_f1_scores for item in sublist],alpha = .3)"
   ]
  },
  {
   "cell_type": "code",
   "execution_count": 674,
   "metadata": {
    "collapsed": false
   },
   "outputs": [
    {
     "data": {
      "text/plain": [
       "(array([  2.,   0.,   1.,   0.,   0.,   0.,   0.,   0.,   0.,   1.,   0.,\n",
       "          0.,   0.,   4.,   1.,   2.,   2.,   3.,   0.,   2.,   6.,   4.,\n",
       "          7.,   6.,   5.,  14.,   7.,  15.,  12.,  62.]),\n",
       " array([ 0.4 ,  0.42,  0.44,  0.46,  0.48,  0.5 ,  0.52,  0.54,  0.56,\n",
       "         0.58,  0.6 ,  0.62,  0.64,  0.66,  0.68,  0.7 ,  0.72,  0.74,\n",
       "         0.76,  0.78,  0.8 ,  0.82,  0.84,  0.86,  0.88,  0.9 ,  0.92,\n",
       "         0.94,  0.96,  0.98,  1.  ]),\n",
       " <a list of 30 Patch objects>)"
      ]
     },
     "execution_count": 674,
     "metadata": {},
     "output_type": "execute_result"
    },
    {
     "data": {
      "image/png": "[encoded data removed]",
      "text/plain": [
       "<matplotlib.figure.Figure at 0x118613ad0>"
      ]
     },
     "metadata": {},
     "output_type": "display_data"
    }
   ],
   "source": [
    "plt.hist([item for sublist in list_of_f1_scores for item in sublist], bins = 30)"
   ]
  },
  {
   "cell_type": "code",
   "execution_count": 700,
   "metadata": {
    "collapsed": false,
    "scrolled": false
   },
   "outputs": [],
   "source": [
    "#get the initial distribution of relevant/irrelevant and compare with the global percent irrelevant (not the ratio)\n",
    "\n",
    "global_irrelevant_percent = list(model_df.score.value_counts())[0]/ (0. + len(model_df))\n",
    "\n",
    "start_domain_irrelevant_percent = {}\n",
    "\n",
    "for start_domain in model_df.groupby('start_domain'):\n",
    "    name = start_domain[0]\n",
    "    rels = list(start_domain[1].score.value_counts())\n",
    "    \n",
    "    irrelevant = rels[0]\n",
    "    if len(rels) == 1:\n",
    "        relevant = 0\n",
    "        \n",
    "    else:\n",
    "        relevant = rels[1]\n",
    "\n",
    "    percent_irrelevant = irrelevant/(irrelevant + relevant + 0.)\n",
    "\n",
    "    start_domain_irrelevant_percent[name] = percent_irrelevant"
   ]
  },
  {
   "cell_type": "code",
   "execution_count": 702,
   "metadata": {
    "collapsed": false
   },
   "outputs": [],
   "source": [
    "ordered_list = []\n",
    "for domain in domain_validation.domain:\n",
    "    ordered_list.append(start_domain_irrelevant_percent[domain])\n",
    "domain_validation['irrelevant_percent'] = ordered_list"
   ]
  },
  {
   "cell_type": "code",
   "execution_count": 719,
   "metadata": {
    "collapsed": false
   },
   "outputs": [
    {
     "name": "stdout",
     "output_type": "stream",
     "text": [
      "Ttest_indResult(statistic=-2.301998916991514, pvalue=0.030318965711428104)\n",
      "12\n",
      "14\n"
     ]
    },
    {
     "data": {
      "image/png": "[encoded data removed]",
      "text/plain": [
       "<matplotlib.figure.Figure at 0x119e36a50>"
      ]
     },
     "metadata": {},
     "output_type": "display_data"
    }
   ],
   "source": [
    "domain_validation.plot(kind = 'scatter', x = 'irrelevant_percent', y = 'f1')\n",
    "plt.axvline(global_irrelevant_percent)\n",
    "\n",
    "under_73 = domain_validation[domain_validation.irrelevant_percent < global_proportion].f1\n",
    "over_73 = domain_validation[domain_validation.irrelevant_percent > global_proportion].f1\n",
    "over_73 = over_73.dropna()\n",
    "\n",
    "print stats.ttest_ind(under_73, over_73)\n",
    "print len(under_73)\n",
    "print len(over_73)\n"
   ]
  },
  {
   "cell_type": "code",
   "execution_count": 711,
   "metadata": {
    "collapsed": false
   },
   "outputs": [],
   "source": [
    "point_list = np.linspace(.5, 1, 50)\n",
    "\n",
    "optimal_break = {}\n",
    "\n",
    "for break_point in point_list:\n",
    "    \n",
    "    under_73 = domain_validation[domain_validation.irrelevant_percent < break_point].f1\n",
    "    over_73 = domain_validation[domain_validation.irrelevant_percent > break_point].f1\n",
    "    over_73 = over_73.dropna()\n",
    "\n",
    "    optimal_break[break_point] = stats.ttest_ind(under_73, over_73).pvalue"
   ]
  },
  {
   "cell_type": "code",
   "execution_count": 723,
   "metadata": {
    "collapsed": true
   },
   "outputs": [
    {
     "data": {
      "text/plain": [
       "<matplotlib.lines.Line2D at 0x11c01a710>"
      ]
     },
     "execution_count": 723,
     "metadata": {},
     "output_type": "execute_result"
    },
    {
     "data": {
      "image/png": "[encoded data removed]",
      "text/plain": [
       "<matplotlib.figure.Figure at 0x11c007510>"
      ]
     },
     "metadata": {},
     "output_type": "display_data"
    }
   ],
   "source": [
    "breaks_df = pd.DataFrame()\n",
    "breaks_df['break_point'] = optimal_break.keys()\n",
    "breaks_df['p_value'] = optimal_break.values()\n",
    "breaks_df.plot(kind = 'scatter' , x = 'break_point', y = 'p_value', xlim = (.5, 1), ylim = (0,.4))\n",
    "plt.axhline(.05)\n",
    "plt.axvline(global_irrelevant_percent)\n"
   ]
  },
  {
   "cell_type": "code",
   "execution_count": 732,
   "metadata": {
    "collapsed": false
   },
   "outputs": [
    {
     "data": {
      "text/plain": [
       "26"
      ]
     },
     "execution_count": 732,
     "metadata": {},
     "output_type": "execute_result"
    }
   ],
   "source": [
    "len(domain_validation)"
   ]
  },
  {
   "cell_type": "code",
   "execution_count": null,
   "metadata": {
    "collapsed": true
   },
   "outputs": [],
   "source": []
  },
  {
   "cell_type": "code",
   "execution_count": null,
   "metadata": {
    "collapsed": true
   },
   "outputs": [],
   "source": []
  }
 ],
 "metadata": {
  "kernelspec": {
   "display_name": "Python 2",
   "language": "python",
   "name": "python2"
  },
  "language_info": {
   "codemirror_mode": {
    "name": "ipython",
    "version": 2
   },
   "file_extension": ".py",
   "mimetype": "text/x-python",
   "name": "python",
   "nbconvert_exporter": "python",
   "pygments_lexer": "ipython2",
   "version": "2.7.11"
  }
 },
 "nbformat": 4,
 "nbformat_minor": 0
}
