{
 "cells": [
  {
   "cell_type": "code",
   "execution_count": 1,
   "metadata": {
    "collapsed": true
   },
   "outputs": [],
   "source": [
    "import pandas as pd\n",
    "%matplotlib inline\n",
    "import numpy as np\n",
    "import matplotlib as mpl\n",
    "from datetime import datetime, date, time, timedelta"
   ]
  },
  {
   "cell_type": "code",
   "execution_count": 2,
   "metadata": {
    "collapsed": true
   },
   "outputs": [],
   "source": [
    "# import data from scores table\n",
    "# import data from signal table\n",
    "#\n",
    "#\n",
    "#\n",
    "#\n",
    "#\n",
    "#\n",
    "#\n",
    "\n",
    "from sqlalchemy import create_engine\n",
    "from sqlalchemy_utils import database_exists, create_database\n",
    "import psycopg2\n",
    "\n",
    "dbname = 'urx'\n",
    "username = 'noahburbank'\n",
    "\n",
    "engine = create_engine('postgres://%s@localhost/%s'%(username,dbname))\n",
    "\n",
    "features = pd.read_csv('features.csv')\n",
    "scores = pd.read_csv('aggregated_scores.csv')"
   ]
  },
  {
   "cell_type": "code",
   "execution_count": 3,
   "metadata": {
    "collapsed": false
   },
   "outputs": [
    {
     "name": "stdout",
     "output_type": "stream",
     "text": [
      "Index([u'index', u'_worker_id', u'too_many_jobs', u'too_little_variance',\n",
      "       u'unreasonable_mean', u'suspicious_timestamps', u'_trust',\n",
      "       u'agg_score'],\n",
      "      dtype='object')\n"
     ]
    }
   ],
   "source": [
    "# import worker data \n",
    "# connect:\n",
    "con = None\n",
    "con = psycopg2.connect(database = dbname, user = username)\n",
    "\n",
    "\n",
    "# make sure to choose the correct table for which experiment you're looking at: worker_table_exp#\n",
    "# query:\n",
    "sql_query = \"\"\"\n",
    "SELECT * FROM worker_table_exp2;\n",
    "\"\"\"\n",
    "worker_table = pd.read_sql_query(sql_query,con)\n",
    "\n",
    "print worker_table.columns"
   ]
  },
  {
   "cell_type": "code",
   "execution_count": 5,
   "metadata": {
    "collapsed": true
   },
   "outputs": [],
   "source": [
    "# make sure that you have the appropriate experiment for the worker table that you're working with\n",
    "#raw_df = pd.read_csv('experiment1_data.csv')\n",
    "raw_df = pd.read_csv('experiment2_data.csv')"
   ]
  },
  {
   "cell_type": "code",
   "execution_count": null,
   "metadata": {
    "collapsed": true
   },
   "outputs": [],
   "source": []
  },
  {
   "cell_type": "code",
   "execution_count": null,
   "metadata": {
    "collapsed": true
   },
   "outputs": [],
   "source": []
  },
  {
   "cell_type": "code",
   "execution_count": 6,
   "metadata": {
    "collapsed": false
   },
   "outputs": [],
   "source": [
    "# sort a dictionary by country before putting into the dataframe\n",
    "def sort_by_country(unsorted_dict):\n",
    "    sorted_list = []\n",
    "    for country in country_df['_country']:\n",
    "        sorted_list.append(unsorted_dict[country])\n",
    "    return sorted_list"
   ]
  },
  {
   "cell_type": "code",
   "execution_count": 7,
   "metadata": {
    "collapsed": false,
    "scrolled": false
   },
   "outputs": [],
   "source": [
    "# masterlist of country information\n",
    "country_list = []\n",
    "country_scores_dict = dict()\n",
    "jobs_count = dict()\n",
    "mean_trust = dict()\n",
    "median_trust = dict()\n",
    "\n",
    "for entry in raw_df.groupby('_country'):\n",
    "    country_list.append(entry[0])\n",
    "    jobs_count[entry[0]] = len(entry[1]['please_make_your_relevancy_judgment'] )\n",
    "    mean_trust[entry[0]] = entry[1]['_trust'].mean()\n",
    "    median_trust[entry[0]] = entry[1]['_trust'].median()\n",
    "\n",
    "jobs_list = []\n",
    "mean_trust_list = []\n",
    "median_trust_list = []\n",
    "\n",
    "# create df and put data into it\n",
    "country_df = pd.DataFrame()\n",
    "country_df['_country'] = country_list\n",
    "\n",
    "\n",
    "for country in country_df['_country']:\n",
    "    jobs_list.append(jobs_count[country])\n",
    "    mean_trust_list.append(mean_trust[country])\n",
    "    median_trust_list.append(median_trust[country])"
   ]
  },
  {
   "cell_type": "code",
   "execution_count": 8,
   "metadata": {
    "collapsed": false
   },
   "outputs": [],
   "source": [
    "# consolidate into a dataframe\n",
    "\n",
    "country_df = pd.DataFrame()\n",
    "country_df['_country'] = country_list\n",
    "country_df['jobs_count'] = jobs_list\n",
    "country_df['mean_trust'] = mean_trust_list\n",
    "country_df['median_trust'] = median_trust_list"
   ]
  },
  {
   "cell_type": "code",
   "execution_count": 9,
   "metadata": {
    "collapsed": false
   },
   "outputs": [],
   "source": [
    "# dict of country and ids\n",
    "country_dict = dict()\n",
    "worker_job_count = dict()\n",
    "trust_dict = dict()\n",
    "\n",
    "for line in raw_df.groupby('_worker_id'):\n",
    "    country_key = line[1]['_country'].keys()[1]\n",
    "    country_dict[line[0]] = line[1]['_country'][country_key] \n",
    "    worker_job_count[line[0]] = line[1]['please_make_your_relevancy_judgment'].count()\n",
    "    trust_key = line[1]['_trust'].keys()[1]\n",
    "    trust_dict[line[0]] = line[1]['_trust'][trust_key]"
   ]
  },
  {
   "cell_type": "code",
   "execution_count": 10,
   "metadata": {
    "collapsed": true
   },
   "outputs": [],
   "source": [
    "# basic information about workers and countries \n",
    "worker_df = pd.DataFrame()\n",
    "worker_df['_worker_id'] = country_dict.keys()\n",
    "worker_df['_country'] = country_dict.values()\n",
    "worker_df['job_count'] = worker_job_count.values()\n",
    "worker_df['_trust'] = trust_dict.values()"
   ]
  },
  {
   "cell_type": "code",
   "execution_count": 11,
   "metadata": {
    "collapsed": false
   },
   "outputs": [
    {
     "data": {
      "text/plain": [
       "<matplotlib.axes._subplots.AxesSubplot at 0x103cbea50>"
      ]
     },
     "execution_count": 11,
     "metadata": {},
     "output_type": "execute_result"
    },
    {
     "data": {
      "image/png": "[encoded data removed]",
      "text/plain": [
       "<matplotlib.figure.Figure at 0x103cb83d0>"
      ]
     },
     "metadata": {},
     "output_type": "display_data"
    }
   ],
   "source": [
    "## detect majority judgments (and how much of a majority)\n",
    "\n",
    "modes = []\n",
    "mode_counts = []\n",
    "judgment_counts = []\n",
    "plurality_percentages = []\n",
    "plurality_judgment = dict()\n",
    "\n",
    "for line in raw_df.groupby('_unit_id'):\n",
    "    unit_id = line[0]\n",
    "    judgments = line[1]['please_make_your_relevancy_judgment']\n",
    "    mode = judgments.mode()\n",
    "    mode = int(mode[0])\n",
    "    modes.append(mode)\n",
    "    mode_count = 0\n",
    "    for judgment in judgments:\n",
    "        if judgment == mode:\n",
    "            mode_count += 1\n",
    "    mode_counts.append(mode_count)\n",
    "    judgment_count = len(judgments)\n",
    "    judgment_counts.append(judgment_count)\n",
    "    plurality_percentage = (mode_count +0.0)/judgment_count\n",
    "    plurality_percentages.append(plurality_percentage)\n",
    "    plurality_judgment[line[0]] = mode, plurality_percentage\n",
    "    \n",
    "\n",
    "pd.Series(data= plurality_percentages).hist(bins=30)"
   ]
  },
  {
   "cell_type": "code",
   "execution_count": 12,
   "metadata": {
    "collapsed": true
   },
   "outputs": [],
   "source": [
    "# detect minority judgments by worker\n",
    "worker_is_in_the_minority = dict()\n",
    "\n",
    "for line in raw_df.iterrows():\n",
    "    worker_id = line[1]['_worker_id']\n",
    "    worker_judgment = line[1]['please_make_your_relevancy_judgment']\n",
    "    unit_id = line[1]['_unit_id']\n",
    "    \n",
    "    majority_judgment = plurality_judgment[unit_id][0]\n",
    "    # in the first pass i don't take into account how much of a majority/plurality it is\n",
    "    \n",
    "    is_minority =  (worker_judgment != majority_judgment)\n",
    "    if is_minority == 1:\n",
    "        if worker_id not in worker_is_in_the_minority.keys():\n",
    "            worker_is_in_the_minority[worker_id] = 1\n",
    "        else:\n",
    "            worker_is_in_the_minority[worker_id] += 1        \n",
    "\n",
    "# fill out for the three remaining majority voters\n",
    "for worker in worker_df['_worker_id']:\n",
    "    if worker not in worker_is_in_the_minority.keys():\n",
    "        worker_is_in_the_minority[worker] = 0\n",
    "\n",
    "is_minority_ordered = []\n",
    "# reorder for the order that the worker df is in \n",
    "for worker in worker_df['_worker_id']:\n",
    "    is_minority_ordered.append(worker_is_in_the_minority[worker])\n",
    "    \n",
    "# add to the data frame\n",
    "worker_df['minority_judgments'] = is_minority_ordered\n",
    "\n",
    "# add a column with the minority precentage as a \n",
    "worker_df['minority_percentage'] = worker_df['minority_judgments'] / worker_df['job_count']"
   ]
  },
  {
   "cell_type": "code",
   "execution_count": 13,
   "metadata": {
    "collapsed": false
   },
   "outputs": [],
   "source": [
    "# bring this up to the country level, aggregating there, and not subaggregating by worker first \n",
    "country_minority_dict = dict()\n",
    "\n",
    "for country in worker_df.groupby('_country'):\n",
    "    total_judgments = country[1]['job_count'].sum()\n",
    "    total_minority_judgments = country[1]['minority_judgments'].sum()\n",
    "    total_minority_percentage = (total_minority_judgments + 0.0) / total_judgments\n",
    "    country_minority_dict[country[0]] = total_minority_percentage\n",
    "\n",
    "## bring this up to the country level, but aggregate on the worker first \n",
    "country_minority_by_worker_dict = dict()\n",
    "\n",
    "for country in worker_df.groupby('_country'):\n",
    "    minority_average = country[1]['minority_percentage'].mean()\n",
    "    country_minority_by_worker_dict[country[0]] = minority_average\n",
    "\n",
    "# these are not meaningfully different, so let's just take the country one, without the worker sub-aggregation"
   ]
  },
  {
   "cell_type": "code",
   "execution_count": 14,
   "metadata": {
    "collapsed": true
   },
   "outputs": [],
   "source": [
    "# can you sort through people by the minority judgments?\n",
    "\n",
    "ordered_country_minority_list = []\n",
    "for country in country_df['_country']:\n",
    "    ordered_country_minority_list.append(country_minority_dict[country])\n",
    "\n",
    "country_df['percent_minority_judgments'] = ordered_country_minority_list"
   ]
  },
  {
   "cell_type": "code",
   "execution_count": null,
   "metadata": {
    "collapsed": false
   },
   "outputs": [],
   "source": []
  },
  {
   "cell_type": "code",
   "execution_count": null,
   "metadata": {
    "collapsed": false
   },
   "outputs": [],
   "source": []
  },
  {
   "cell_type": "code",
   "execution_count": null,
   "metadata": {
    "collapsed": false
   },
   "outputs": [],
   "source": []
  },
  {
   "cell_type": "code",
   "execution_count": 15,
   "metadata": {
    "collapsed": false,
    "scrolled": false
   },
   "outputs": [
    {
     "data": {
      "text/html": [
       "<div>\n",
       "<table border=\"1\" class=\"dataframe\">\n",
       "  <thead>\n",
       "    <tr style=\"text-align: right;\">\n",
       "      <th></th>\n",
       "      <th>_country</th>\n",
       "      <th>jobs_count</th>\n",
       "      <th>mean_trust</th>\n",
       "      <th>median_trust</th>\n",
       "      <th>percent_minority_judgments</th>\n",
       "      <th>is_bad</th>\n",
       "    </tr>\n",
       "  </thead>\n",
       "  <tbody>\n",
       "    <tr>\n",
       "      <th>0</th>\n",
       "      <td>ARG</td>\n",
       "      <td>373</td>\n",
       "      <td>0.972432</td>\n",
       "      <td>0.9783</td>\n",
       "      <td>0.093834</td>\n",
       "      <td>0</td>\n",
       "    </tr>\n",
       "    <tr>\n",
       "      <th>1</th>\n",
       "      <td>BGD</td>\n",
       "      <td>46</td>\n",
       "      <td>1.000000</td>\n",
       "      <td>1.0000</td>\n",
       "      <td>0.065217</td>\n",
       "      <td>0</td>\n",
       "    </tr>\n",
       "    <tr>\n",
       "      <th>2</th>\n",
       "      <td>BIH</td>\n",
       "      <td>8</td>\n",
       "      <td>0.909100</td>\n",
       "      <td>0.9091</td>\n",
       "      <td>0.250000</td>\n",
       "      <td>1</td>\n",
       "    </tr>\n",
       "    <tr>\n",
       "      <th>3</th>\n",
       "      <td>COL</td>\n",
       "      <td>247</td>\n",
       "      <td>0.948700</td>\n",
       "      <td>0.9487</td>\n",
       "      <td>0.068826</td>\n",
       "      <td>0</td>\n",
       "    </tr>\n",
       "    <tr>\n",
       "      <th>4</th>\n",
       "      <td>EST</td>\n",
       "      <td>28</td>\n",
       "      <td>1.000000</td>\n",
       "      <td>1.0000</td>\n",
       "      <td>0.035714</td>\n",
       "      <td>0</td>\n",
       "    </tr>\n",
       "    <tr>\n",
       "      <th>5</th>\n",
       "      <td>GTM</td>\n",
       "      <td>74</td>\n",
       "      <td>0.947400</td>\n",
       "      <td>0.9474</td>\n",
       "      <td>0.081081</td>\n",
       "      <td>0</td>\n",
       "    </tr>\n",
       "    <tr>\n",
       "      <th>6</th>\n",
       "      <td>HRV</td>\n",
       "      <td>167</td>\n",
       "      <td>0.933300</td>\n",
       "      <td>0.9333</td>\n",
       "      <td>0.077844</td>\n",
       "      <td>0</td>\n",
       "    </tr>\n",
       "    <tr>\n",
       "      <th>7</th>\n",
       "      <td>IDN</td>\n",
       "      <td>1556</td>\n",
       "      <td>0.931067</td>\n",
       "      <td>0.9286</td>\n",
       "      <td>0.162596</td>\n",
       "      <td>0</td>\n",
       "    </tr>\n",
       "    <tr>\n",
       "      <th>8</th>\n",
       "      <td>IND</td>\n",
       "      <td>1231</td>\n",
       "      <td>0.936093</td>\n",
       "      <td>0.9149</td>\n",
       "      <td>0.082047</td>\n",
       "      <td>0</td>\n",
       "    </tr>\n",
       "    <tr>\n",
       "      <th>9</th>\n",
       "      <td>IRL</td>\n",
       "      <td>109</td>\n",
       "      <td>1.000000</td>\n",
       "      <td>1.0000</td>\n",
       "      <td>0.073394</td>\n",
       "      <td>0</td>\n",
       "    </tr>\n",
       "    <tr>\n",
       "      <th>10</th>\n",
       "      <td>MKD</td>\n",
       "      <td>678</td>\n",
       "      <td>0.963203</td>\n",
       "      <td>0.9733</td>\n",
       "      <td>0.104720</td>\n",
       "      <td>0</td>\n",
       "    </tr>\n",
       "    <tr>\n",
       "      <th>11</th>\n",
       "      <td>PHL</td>\n",
       "      <td>85</td>\n",
       "      <td>1.000000</td>\n",
       "      <td>1.0000</td>\n",
       "      <td>0.094118</td>\n",
       "      <td>0</td>\n",
       "    </tr>\n",
       "    <tr>\n",
       "      <th>12</th>\n",
       "      <td>POL</td>\n",
       "      <td>721</td>\n",
       "      <td>0.957400</td>\n",
       "      <td>0.9574</td>\n",
       "      <td>0.080444</td>\n",
       "      <td>0</td>\n",
       "    </tr>\n",
       "    <tr>\n",
       "      <th>13</th>\n",
       "      <td>PRT</td>\n",
       "      <td>268</td>\n",
       "      <td>0.975600</td>\n",
       "      <td>0.9756</td>\n",
       "      <td>0.044776</td>\n",
       "      <td>0</td>\n",
       "    </tr>\n",
       "    <tr>\n",
       "      <th>14</th>\n",
       "      <td>ROU</td>\n",
       "      <td>173</td>\n",
       "      <td>0.966700</td>\n",
       "      <td>0.9667</td>\n",
       "      <td>0.098266</td>\n",
       "      <td>0</td>\n",
       "    </tr>\n",
       "    <tr>\n",
       "      <th>15</th>\n",
       "      <td>RUS</td>\n",
       "      <td>26</td>\n",
       "      <td>1.000000</td>\n",
       "      <td>1.0000</td>\n",
       "      <td>0.038462</td>\n",
       "      <td>0</td>\n",
       "    </tr>\n",
       "    <tr>\n",
       "      <th>16</th>\n",
       "      <td>SRB</td>\n",
       "      <td>703</td>\n",
       "      <td>0.911992</td>\n",
       "      <td>0.9125</td>\n",
       "      <td>0.048364</td>\n",
       "      <td>0</td>\n",
       "    </tr>\n",
       "    <tr>\n",
       "      <th>17</th>\n",
       "      <td>TUR</td>\n",
       "      <td>672</td>\n",
       "      <td>0.954500</td>\n",
       "      <td>0.9545</td>\n",
       "      <td>0.078869</td>\n",
       "      <td>0</td>\n",
       "    </tr>\n",
       "    <tr>\n",
       "      <th>18</th>\n",
       "      <td>UKR</td>\n",
       "      <td>720</td>\n",
       "      <td>0.904300</td>\n",
       "      <td>0.9043</td>\n",
       "      <td>0.101389</td>\n",
       "      <td>0</td>\n",
       "    </tr>\n",
       "    <tr>\n",
       "      <th>19</th>\n",
       "      <td>VEN</td>\n",
       "      <td>860</td>\n",
       "      <td>0.937220</td>\n",
       "      <td>0.9254</td>\n",
       "      <td>0.073256</td>\n",
       "      <td>0</td>\n",
       "    </tr>\n",
       "    <tr>\n",
       "      <th>20</th>\n",
       "      <td>VNM</td>\n",
       "      <td>880</td>\n",
       "      <td>0.939805</td>\n",
       "      <td>0.9268</td>\n",
       "      <td>0.122727</td>\n",
       "      <td>0</td>\n",
       "    </tr>\n",
       "    <tr>\n",
       "      <th>21</th>\n",
       "      <td>ZAF</td>\n",
       "      <td>8</td>\n",
       "      <td>1.000000</td>\n",
       "      <td>1.0000</td>\n",
       "      <td>0.000000</td>\n",
       "      <td>0</td>\n",
       "    </tr>\n",
       "  </tbody>\n",
       "</table>\n",
       "</div>"
      ],
      "text/plain": [
       "   _country  jobs_count  mean_trust  median_trust  percent_minority_judgments  \\\n",
       "0       ARG         373    0.972432        0.9783                    0.093834   \n",
       "1       BGD          46    1.000000        1.0000                    0.065217   \n",
       "2       BIH           8    0.909100        0.9091                    0.250000   \n",
       "3       COL         247    0.948700        0.9487                    0.068826   \n",
       "4       EST          28    1.000000        1.0000                    0.035714   \n",
       "5       GTM          74    0.947400        0.9474                    0.081081   \n",
       "6       HRV         167    0.933300        0.9333                    0.077844   \n",
       "7       IDN        1556    0.931067        0.9286                    0.162596   \n",
       "8       IND        1231    0.936093        0.9149                    0.082047   \n",
       "9       IRL         109    1.000000        1.0000                    0.073394   \n",
       "10      MKD         678    0.963203        0.9733                    0.104720   \n",
       "11      PHL          85    1.000000        1.0000                    0.094118   \n",
       "12      POL         721    0.957400        0.9574                    0.080444   \n",
       "13      PRT         268    0.975600        0.9756                    0.044776   \n",
       "14      ROU         173    0.966700        0.9667                    0.098266   \n",
       "15      RUS          26    1.000000        1.0000                    0.038462   \n",
       "16      SRB         703    0.911992        0.9125                    0.048364   \n",
       "17      TUR         672    0.954500        0.9545                    0.078869   \n",
       "18      UKR         720    0.904300        0.9043                    0.101389   \n",
       "19      VEN         860    0.937220        0.9254                    0.073256   \n",
       "20      VNM         880    0.939805        0.9268                    0.122727   \n",
       "21      ZAF           8    1.000000        1.0000                    0.000000   \n",
       "\n",
       "    is_bad  \n",
       "0        0  \n",
       "1        0  \n",
       "2        1  \n",
       "3        0  \n",
       "4        0  \n",
       "5        0  \n",
       "6        0  \n",
       "7        0  \n",
       "8        0  \n",
       "9        0  \n",
       "10       0  \n",
       "11       0  \n",
       "12       0  \n",
       "13       0  \n",
       "14       0  \n",
       "15       0  \n",
       "16       0  \n",
       "17       0  \n",
       "18       0  \n",
       "19       0  \n",
       "20       0  \n",
       "21       0  "
      ]
     },
     "execution_count": 15,
     "metadata": {},
     "output_type": "execute_result"
    },
    {
     "data": {
      "image/png": "[encoded data removed]",
      "text/plain": [
       "<matplotlib.figure.Figure at 0x109ac6a90>"
      ]
     },
     "metadata": {},
     "output_type": "display_data"
    }
   ],
   "source": [
    "# see the corresponde of low trust and minority judgments \n",
    "country_df['percent_minority_judgments'].hist(bins = 20)\n",
    "\n",
    "minority_judgments = country_df['percent_minority_judgments']\n",
    "\n",
    "## remove the contradictory countries: \n",
    "\n",
    "mu = np.mean(minority_judgments)\n",
    "z = 1.96\n",
    "other_part = (mu)*(1-mu)/len(minority_judgments)\n",
    "other_part = other_part ** .5\n",
    "low_ci_val = mu - z*other_part\n",
    "high_ci_val = mu + z*other_part\n",
    "\n",
    "# th is totally wrong, but let's just use the high ci for a normal distribution for 95% confidence and see where that goes\n",
    "\n",
    "\n",
    "bad_countries = []\n",
    "for country in country_df['_country']:\n",
    "    is_bad = float(country_df['percent_minority_judgments'][country_df['_country'] == country])  > high_ci_val\n",
    "    bad_countries.append(int(is_bad))\n",
    "country_df['is_bad'] = bad_countries\n",
    "country_df"
   ]
  },
  {
   "cell_type": "code",
   "execution_count": 16,
   "metadata": {
    "collapsed": true
   },
   "outputs": [],
   "source": [
    "# consolidate countries into good and bad based on how often people are contradictory to the plurality/majority\n",
    "good_countries = []\n",
    "for line in raw_df.iterrows():\n",
    "    country_val = int(line[1]['_country'] in set(country_df[country_df['is_bad'] != 1]['_country']))\n",
    "    good_countries.append(country_val)"
   ]
  },
  {
   "cell_type": "code",
   "execution_count": 17,
   "metadata": {
    "collapsed": false
   },
   "outputs": [
    {
     "name": "stdout",
     "output_type": "stream",
     "text": [
      "there are 1 bad countries\n",
      "with over 20.2 percent judgments going against the majority/plurality\n",
      "\n",
      "eliminating them eliminates 8 out of 9633 judgments\n",
      "which is 0.08% of the judgments \n",
      "\n",
      "there are now only 9625 judgments in the dataset\n",
      "\n",
      "the worst covered unit pair contains only 9 judgments\n"
     ]
    }
   ],
   "source": [
    "# make the big changes \n",
    "temp_df = raw_df\n",
    "temp_df['good_country'] = good_countries\n",
    "good_countries_only = temp_df[raw_df['good_country'] == 1]\n",
    "\n",
    "\n",
    "# output the conclusiosn of what's going on here \n",
    "print \"there are \" + str(sum(country_df['is_bad'])) + \" bad countries\" \n",
    "print \"with over \" + str(round(high_ci_val * 100,2)) + \" percent judgments going against the majority/plurality\"\n",
    "\n",
    "missed_judgments = len(raw_df) - len(good_countries_only)\n",
    "total_judgments = len(raw_df)\n",
    "percent_lost = float(missed_judgments) / total_judgments\n",
    "\n",
    "print \n",
    "print \"eliminating them eliminates \" + str(missed_judgments) + ' out of ' + str(total_judgments) + \" judgments\"\n",
    "print \"which is \" + str(round(percent_lost  * 100, 2)) + '% of the judgments '\n",
    "print \n",
    "print \"there are now only \" + str(len(good_countries_only)) + \" judgments in the dataset\"\n",
    "\n",
    "fewest_judgments = good_countries_only.groupby('_unit_id')['please_make_your_relevancy_judgment'].count().min()\n",
    "\n",
    "print \n",
    "print 'the worst covered unit pair contains only ' + str(fewest_judgments) + \" judgments\""
   ]
  },
  {
   "cell_type": "code",
   "execution_count": null,
   "metadata": {
    "collapsed": true
   },
   "outputs": [],
   "source": []
  },
  {
   "cell_type": "code",
   "execution_count": 44,
   "metadata": {
    "collapsed": false
   },
   "outputs": [],
   "source": [
    "# output to the worker table in the db\n",
    "#\n",
    "#\n",
    "#\n",
    "#\n",
    "#\n",
    "#\n",
    "#\n",
    "#\n",
    "# need libraries for conneting with databse \n",
    "from sqlalchemy import create_engine\n",
    "from sqlalchemy_utils import database_exists, create_database\n",
    "import psycopg2\n",
    "\n",
    "# create sql engine\n",
    "dbname = 'urx'\n",
    "username = 'noahburbank'\n",
    "engine = create_engine('postgres://%s@localhost/%s'%(username,dbname))"
   ]
  },
  {
   "cell_type": "code",
   "execution_count": 18,
   "metadata": {
    "collapsed": true
   },
   "outputs": [],
   "source": [
    "# make sure to adjust the database name to reflect your current experiment \n",
    "# upload to the database\n",
    "\n",
    "country_df.to_sql('country_table_exp2', engine, if_exists = 'replace')"
   ]
  },
  {
   "cell_type": "code",
   "execution_count": 46,
   "metadata": {
    "collapsed": true
   },
   "outputs": [],
   "source": [
    "# still not sure why this is here...\n",
    "#good_countries_only.to_sql('good_country_table', engine, if_exists = 'replace')"
   ]
  },
  {
   "cell_type": "code",
   "execution_count": null,
   "metadata": {
    "collapsed": true
   },
   "outputs": [],
   "source": []
  }
 ],
 "metadata": {
  "kernelspec": {
   "display_name": "Python 2",
   "language": "python",
   "name": "python2"
  },
  "language_info": {
   "codemirror_mode": {
    "name": "ipython",
    "version": 2
   },
   "file_extension": ".py",
   "mimetype": "text/x-python",
   "name": "python",
   "nbconvert_exporter": "python",
   "pygments_lexer": "ipython2",
   "version": "2.7.11"
  }
 },
 "nbformat": 4,
 "nbformat_minor": 0
}
