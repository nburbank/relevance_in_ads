{
 "cells": [
  {
   "cell_type": "code",
   "execution_count": 1,
   "metadata": {
    "collapsed": true
   },
   "outputs": [],
   "source": [
    "import pandas as pd\n",
    "%matplotlib inline\n",
    "import numpy as np\n",
    "import matplotlib as mpl"
   ]
  },
  {
   "cell_type": "code",
   "execution_count": 2,
   "metadata": {
    "collapsed": true
   },
   "outputs": [],
   "source": [
    "# import data\n",
    "raw_df = pd.read_csv('f835051.csv')\n",
    "# take out the golden training data (skews things dramatically)\n",
    "raw_df = raw_df[raw_df['_golden'] == False]\n"
   ]
  },
  {
   "cell_type": "code",
   "execution_count": 3,
   "metadata": {
    "collapsed": false
   },
   "outputs": [
    {
     "name": "stdout",
     "output_type": "stream",
     "text": [
      "(9058, 26)\n",
      "(9476, 26)\n"
     ]
    }
   ],
   "source": [
    "# remove the entries for which there is no destination url \n",
    "nan_list = []\n",
    "\n",
    "for endurl in raw_df['endurl']:\n",
    "    nan_list.append(type(endurl) != type(float()))\n",
    "\n",
    "    \n",
    "reduced_raw_df = raw_df[nan_list]      \n",
    "print reduced_raw_df.shape\n",
    "print raw_df.shape\n",
    "\n",
    "raw_df = reduced_raw_df"
   ]
  },
  {
   "cell_type": "code",
   "execution_count": null,
   "metadata": {
    "collapsed": true
   },
   "outputs": [],
   "source": [
    "# manipulate data for evaluation of workers\n",
    "\n",
    "worker_mean = []\n",
    "worker_var = []\n",
    "worker_count = 0\n",
    "worker_job_count = []\n",
    "worker_list = []\n",
    "\n",
    "for worker in raw_df.groupby('_worker_id'):\n",
    "    worker_list.append(worker[0])\n",
    "    worker_mean.append(worker[1]['please_make_your_relevancy_judgment'].mean())\n",
    "    worker_var.append(worker[1]['please_make_your_relevancy_judgment'].var())\n",
    "    worker_job_count.append(worker[1]['please_make_your_relevancy_judgment'].count())\n",
    "    \n",
    "    worker_count += 1\n",
    "\n",
    "worker_count\n",
    "\n",
    "worker_var_dict = dict(zip(worker_list, worker_var))\n",
    "worker_count_dict = dict(zip(worker_list,worker_job_count))"
   ]
  },
  {
   "cell_type": "code",
   "execution_count": 34,
   "metadata": {
    "collapsed": false
   },
   "outputs": [
    {
     "name": "stdout",
     "output_type": "stream",
     "text": [
      "[14, 77]\n",
      "258\n"
     ]
    },
    {
     "data": {
      "text/plain": [
       "22045386"
      ]
     },
     "execution_count": 34,
     "metadata": {},
     "output_type": "execute_result"
    }
   ],
   "source": [
    "indices = []\n",
    "index = 0\n",
    "for mean in worker_mean:\n",
    "    if mean == 3:\n",
    "        indices.append(index)\n",
    "    index += 1\n",
    "print indices\n",
    "print worker_job_count[14]\n",
    "worker_list[14]\n",
    "\n",
    "# just to get an exmaple robot, this one is a robot: 22045386"
   ]
  },
  {
   "cell_type": "code",
   "execution_count": 5,
   "metadata": {
    "collapsed": false
   },
   "outputs": [],
   "source": [
    "# part 1:\n",
    "# remove the robots \n",
    "\n",
    "def remove_robots(job_count_threshold, job_variance_threshold):\n",
    "    too_many_jobs = []\n",
    "    for worker in worker_list:\n",
    "        if worker_count_dict[worker] > job_count_threshold:\n",
    "            too_many_jobs.append(worker)\n",
    "    \n",
    "    \n",
    "    too_little_variance = []\n",
    "    for worker in worker_list:\n",
    "        if worker_var_dict[worker] < job_variance_threshold:\n",
    "            too_little_variance.append(worker)\n",
    "                  \n",
    "\n",
    "    robots = set(too_many_jobs).intersection(set(too_little_variance))\n",
    "    humans = set(worker_list).difference(robots)\n",
    "    \n",
    "    return humans \n",
    "\n"
   ]
  },
  {
   "cell_type": "code",
   "execution_count": 6,
   "metadata": {
    "collapsed": false
   },
   "outputs": [
    {
     "name": "stdout",
     "output_type": "stream",
     "text": [
      "there are 10.0% robots\n",
      "22.44% of the scores are from robots\n"
     ]
    }
   ],
   "source": [
    "humans = remove_robots(150, .2)\n",
    "print \"there are \" + str((1 - (float(len(humans)) / len(worker_list))) * 100) + \"% robots\"\n",
    "# even with pretty generous settings(more than 150 tasks with varaince less than .2), 10% of the workers as robots\n",
    "human_scores = []\n",
    "\n",
    "for worker_id in raw_df['_worker_id']:\n",
    "    human_scores.append(worker_id in humans)\n",
    "    \n",
    "num_human_scores = sum(human_scores)\n",
    "num_total_scores = raw_df['_worker_id'].count()\n",
    "num_bot_scores = num_total_scores - num_human_scores\n",
    "\n",
    "print str(round(float((num_bot_scores + 0.0)/num_total_scores + 0.0)* 100,2)) + \"% of the scores are from robots\""
   ]
  },
  {
   "cell_type": "code",
   "execution_count": 7,
   "metadata": {
    "collapsed": false
   },
   "outputs": [],
   "source": [
    "# reduce the scores data to just those by humans \n",
    "raw_df = raw_df[human_scores]"
   ]
  },
  {
   "cell_type": "code",
   "execution_count": 8,
   "metadata": {
    "collapsed": true
   },
   "outputs": [],
   "source": [
    "# manipulation of data for evaluation of scores \n",
    "\n",
    "raw_scores = []\n",
    "means = []\n",
    "variances = []\n",
    "unit_ids = []\n",
    "counts = []\n",
    "scorer = []\n",
    "no_two_var = []\n",
    "modes = []\n",
    "counter = 0\n",
    "\n",
    "\n",
    "for score_set in raw_df.groupby('_unit_id')['please_make_your_relevancy_judgment']:\n",
    "    raw_scores.append(score_set[1])\n",
    "    unit_ids.append(score_set[0])\n",
    "    means.append(score_set[1].mean())\n",
    "    variances.append(score_set[1].var())\n",
    "    no_two_var.append(score_set[1][score_set[1] != 2].var())\n",
    "    counts.append(score_set[1].count())\n",
    "    modes.append(score_set[1].mode()[0])\n",
    "    counter += 1\n",
    "    \n",
    "    "
   ]
  },
  {
   "cell_type": "code",
   "execution_count": null,
   "metadata": {
    "collapsed": false
   },
   "outputs": [],
   "source": []
  },
  {
   "cell_type": "code",
   "execution_count": 9,
   "metadata": {
    "collapsed": true
   },
   "outputs": [],
   "source": [
    "def normalize(list_of_numbers):\n",
    "    min_value = min(list_of_numbers)\n",
    "    list_less_min = list_of_numbers - min_value\n",
    "    max_value = max(list_less_min)\n",
    "    normalized_values = list_less_min / max_value\n",
    "    return normalized_values\n",
    "\n",
    "rounded_normalized_means = normalize(means) > .5"
   ]
  },
  {
   "cell_type": "code",
   "execution_count": 10,
   "metadata": {
    "collapsed": false
   },
   "outputs": [
    {
     "name": "stdout",
     "output_type": "stream",
     "text": [
      "the most is two\n",
      "the most is two\n",
      "the most is two\n",
      "the most is two\n"
     ]
    },
    {
     "data": {
      "text/plain": [
       "0"
      ]
     },
     "execution_count": 10,
     "metadata": {},
     "output_type": "execute_result"
    }
   ],
   "source": [
    "new_modes = []\n",
    "for mode in modes:\n",
    "    if mode == 2:\n",
    "        print \"the most is two\"\n",
    "        new_modes.append(1)\n",
    "    if mode == 1:\n",
    "        new_modes.append(0)\n",
    "    if mode == 3:\n",
    "        new_modes.append(1)\n",
    "\n",
    "sum((new_modes == rounded_normalized_means) == 0)\n",
    "\n",
    "# there is an insight to be gained here\n",
    "# when people are unsure of something is relevant\n",
    "# if you say that it is relevant, that agrees with the rounded mean\n",
    "# which goes to say that uncertainty about relvance is more about the evaluator\n",
    "# than it is about the pair being evaluated "
   ]
  },
  {
   "cell_type": "code",
   "execution_count": 11,
   "metadata": {
    "collapsed": false
   },
   "outputs": [],
   "source": [
    "aggregated_scores = new_modes\n",
    "aggregated_df = pd.DataFrame()\n",
    "aggregated_df['_unit_id'] = unit_ids\n",
    "aggregated_df['score'] = new_modes\n",
    "aggregated_df.to_csv('aggregated_scores.csv')"
   ]
  },
  {
   "cell_type": "code",
   "execution_count": 14,
   "metadata": {
    "collapsed": true
   },
   "outputs": [],
   "source": [
    "# put this into the database, so that i don't need to process it each time, \n",
    "#becuase it is very slow\n",
    "from sqlalchemy import create_engine\n",
    "from sqlalchemy_utils import database_exists, create_database\n",
    "import psycopg2\n",
    "\n",
    "dbname = 'urx'\n",
    "username = 'noahburbank'\n",
    "\n",
    "engine = create_engine('postgres://%s@localhost/%s'%(username,dbname))"
   ]
  },
  {
   "cell_type": "code",
   "execution_count": 15,
   "metadata": {
    "collapsed": false,
    "scrolled": true
   },
   "outputs": [],
   "source": [
    "aggregated_df.to_sql('aggregated_scores', engine, if_exists = 'replace')"
   ]
  },
  {
   "cell_type": "code",
   "execution_count": null,
   "metadata": {
    "collapsed": true
   },
   "outputs": [],
   "source": []
  },
  {
   "cell_type": "code",
   "execution_count": null,
   "metadata": {
    "collapsed": true
   },
   "outputs": [],
   "source": []
  },
  {
   "cell_type": "code",
   "execution_count": null,
   "metadata": {
    "collapsed": true
   },
   "outputs": [],
   "source": []
  },
  {
   "cell_type": "code",
   "execution_count": null,
   "metadata": {
    "collapsed": true
   },
   "outputs": [],
   "source": []
  }
 ],
 "metadata": {
  "kernelspec": {
   "display_name": "Python 2",
   "language": "python",
   "name": "python2"
  },
  "language_info": {
   "codemirror_mode": {
    "name": "ipython",
    "version": 2
   },
   "file_extension": ".py",
   "mimetype": "text/x-python",
   "name": "python",
   "nbconvert_exporter": "python",
   "pygments_lexer": "ipython2",
   "version": "2.7.11"
  }
 },
 "nbformat": 4,
 "nbformat_minor": 0
}
