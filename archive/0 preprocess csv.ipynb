{
 "cells": [
  {
   "cell_type": "code",
   "execution_count": 1,
   "metadata": {
    "collapsed": true
   },
   "outputs": [],
   "source": [
    "##\n",
    "## Preprocess the CSV in a single place for consistency \n",
    "##"
   ]
  },
  {
   "cell_type": "code",
   "execution_count": 3,
   "metadata": {
    "collapsed": true
   },
   "outputs": [],
   "source": [
    "# import packages\n",
    "import pandas as pd"
   ]
  },
  {
   "cell_type": "code",
   "execution_count": null,
   "metadata": {
    "collapsed": true
   },
   "outputs": [],
   "source": [
    "def import_and_ignore_golden(csv_name):\n",
    "    \n",
    "    # import original csv\n",
    "    raw_df = pd.read_csv(csv_name)\n",
    "    \n",
    "    original_shape = raw_df.shape()\n",
    "    \n",
    "    # remove the golden ones which are for training\n",
    "    raw_df = raw_df[raw_df['_golden'] == False]\n",
    "\n",
    "    # remove lines with NaN for the endurl value\n",
    "    nan_list = []\n",
    "\n",
    "    for endurl in raw_df['endurl']:\n",
    "         nan_list.append(type(endurl) != type(float()))\n",
    "\n",
    "    cleaned_df = raw_df[nan_list]  \n",
    "    \n",
    "    final_shape = cleaned_df.shape()\n",
    "    \n",
    "    \n",
    "    \n",
    "    return \n",
    "\n",
    "\n",
    "# import original csv\n",
    "raw_df = pd.read_csv('f835051.csv')\n",
    "\n",
    "# remove the golden ones which are for training\n",
    "raw_df = raw_df[raw_df['_golden'] == False]\n",
    "\n",
    "# remove lines with NaN for the endurl value\n",
    "nan_list = []\n",
    "\n",
    "for endurl in raw_df['endurl']:\n",
    "     nan_list.append(type(endurl) != type(float()))\n",
    "\n",
    "cleaned_df = raw_df[nan_list]      "
   ]
  },
  {
   "cell_type": "code",
   "execution_count": 6,
   "metadata": {
    "collapsed": false
   },
   "outputs": [],
   "source": [
    "# export as new csv\n",
    "cleaned_df.to_csv('cleaned_urx_data.csv')"
   ]
  }
 ],
 "metadata": {
  "kernelspec": {
   "display_name": "Python 2",
   "language": "python",
   "name": "python2"
  },
  "language_info": {
   "codemirror_mode": {
    "name": "ipython",
    "version": 2
   },
   "file_extension": ".py",
   "mimetype": "text/x-python",
   "name": "python",
   "nbconvert_exporter": "python",
   "pygments_lexer": "ipython2",
   "version": "2.7.11"
  }
 },
 "nbformat": 4,
 "nbformat_minor": 0
}
