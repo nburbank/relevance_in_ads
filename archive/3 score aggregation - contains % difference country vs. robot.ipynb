{
 "cells": [
  {
   "cell_type": "code",
   "execution_count": 1,
   "metadata": {
    "collapsed": true
   },
   "outputs": [],
   "source": [
    "import pandas as pd\n",
    "%matplotlib inline\n",
    "import numpy as np\n",
    "import matplotlib as mpl\n",
    "from scipy.stats import mode"
   ]
  },
  {
   "cell_type": "code",
   "execution_count": 2,
   "metadata": {
    "collapsed": true
   },
   "outputs": [],
   "source": [
    "# input  \n",
    "#\n",
    "#\n",
    "#\n",
    "#\n",
    "#\n",
    "#"
   ]
  },
  {
   "cell_type": "code",
   "execution_count": 3,
   "metadata": {
    "collapsed": false
   },
   "outputs": [],
   "source": [
    "# import score data\n",
    "raw_df = pd.read_csv('cleaned_urx_data.csv')"
   ]
  },
  {
   "cell_type": "code",
   "execution_count": 4,
   "metadata": {
    "collapsed": true
   },
   "outputs": [],
   "source": [
    "from sqlalchemy import create_engine\n",
    "from sqlalchemy_utils import database_exists, create_database\n",
    "import psycopg2\n",
    "\n",
    "dbname = 'urx'\n",
    "username = 'noahburbank'\n",
    "\n",
    "engine = create_engine('postgres://%s@localhost/%s'%(username,dbname))"
   ]
  },
  {
   "cell_type": "code",
   "execution_count": 5,
   "metadata": {
    "collapsed": false
   },
   "outputs": [
    {
     "name": "stdout",
     "output_type": "stream",
     "text": [
      "Index([u'index', u'_worker_id', u'too_many_jobs', u'too_little_variance',\n",
      "       u'unreasonable_mean', u'suspicious_timestamps', u'_trust',\n",
      "       u'agg_score'],\n",
      "      dtype='object')\n",
      "\n",
      "Index([u'index', u'_country', u'jobs_count', u'mean_trust', u'median_trust',\n",
      "       u'percent_minority_judgments', u'is_bad'],\n",
      "      dtype='object')\n"
     ]
    }
   ],
   "source": [
    "# import worker data \n",
    "# connect:\n",
    "con = None\n",
    "con = psycopg2.connect(database = dbname, user = username)\n",
    "\n",
    "# query:\n",
    "sql_query = \"\"\"\n",
    "SELECT * FROM worker_table;\n",
    "\"\"\"\n",
    "workers = pd.read_sql_query(sql_query,con)\n",
    "\n",
    "# query2:\n",
    "sql_query2 = \"\"\"\n",
    "SELECT * FROM country_table;\n",
    "\"\"\"\n",
    "countries = pd.read_sql_query(sql_query2,con)\n",
    "\n",
    "print workers.columns\n",
    "print \n",
    "print countries.columns"
   ]
  },
  {
   "cell_type": "code",
   "execution_count": 6,
   "metadata": {
    "collapsed": false
   },
   "outputs": [
    {
     "name": "stdout",
     "output_type": "stream",
     "text": [
      "there are 12 out of 80 total workers\n"
     ]
    }
   ],
   "source": [
    "# identify humans vs. robots \n",
    "humans = workers['agg_score'].apply(lambda x: x < 2)\n",
    "robots = 1-humans\n",
    "human_ids = workers['_worker_id'][humans]\n",
    "robot_ids = workers['_worker_id'][robots]\n",
    "print \"there are \" + str(sum(robots)) + \" out of \" + str(len(robots)) + \" total workers\""
   ]
  },
  {
   "cell_type": "code",
   "execution_count": 7,
   "metadata": {
    "collapsed": false
   },
   "outputs": [
    {
     "name": "stdout",
     "output_type": "stream",
     "text": [
      "this eliminates 2831 out of 9058 original scores\n"
     ]
    }
   ],
   "source": [
    "# remove the scores attributable to robots \n",
    "human_rows = raw_df['_worker_id'].apply(lambda x: x in set(human_ids))\n",
    "humans_only = raw_df[human_rows]\n",
    "\n",
    "print \"this eliminates \" + str(len(raw_df) - len(humans_only)) + \" out of \" + str(len(raw_df)) + \" original scores\""
   ]
  },
  {
   "cell_type": "code",
   "execution_count": null,
   "metadata": {
    "collapsed": true
   },
   "outputs": [],
   "source": []
  },
  {
   "cell_type": "code",
   "execution_count": 10,
   "metadata": {
    "collapsed": false
   },
   "outputs": [
    {
     "data": {
      "image/png": "[encoded data removed]",
      "text/plain": [
       "<matplotlib.figure.Figure at 0x103a2e610>"
      ]
     },
     "metadata": {},
     "output_type": "display_data"
    }
   ],
   "source": [
    "# see the corresponde of low trust and minority judgments \n",
    "country_df = countries\n",
    "country_df['percent_minority_judgments'].hist(bins = 20)\n",
    "\n",
    "minority_judgments = country_df['percent_minority_judgments']\n",
    "\n",
    "## remove the contradictory countries: \n",
    "\n",
    "mu = np.mean(minority_judgments)\n",
    "z = 1.96\n",
    "other_part = (mu)*(1-mu)/len(minority_judgments)\n",
    "other_part = other_part ** .5\n",
    "low_ci_val = mu - z*other_part\n",
    "high_ci_val = mu + z*other_part\n",
    "\n",
    "# th is totally wrong, but let's just use the high ci for a normal distribution for 95% confidence and see where that goes\n",
    "\n",
    "\n",
    "bad_countries = []\n",
    "for country in country_df['_country']:\n",
    "    is_bad = float(country_df['percent_minority_judgments'][country_df['_country'] == country])  > high_ci_val\n",
    "    bad_countries.append(int(is_bad))\n",
    "country_df['is_bad'] = bad_countries"
   ]
  },
  {
   "cell_type": "code",
   "execution_count": 11,
   "metadata": {
    "collapsed": true
   },
   "outputs": [],
   "source": [
    "country_df = countries\n",
    "good_countries = []\n",
    "for line in raw_df.iterrows():\n",
    "    country_val = int(line[1]['_country'] in set(country_df[country_df['is_bad'] != 1]['_country']))\n",
    "    good_countries.append(country_val)"
   ]
  },
  {
   "cell_type": "code",
   "execution_count": 12,
   "metadata": {
    "collapsed": false
   },
   "outputs": [
    {
     "name": "stdout",
     "output_type": "stream",
     "text": [
      "there are 4 bad countries\n",
      "with over 35.96 percent judgments going against the majority/plurality\n",
      "\n",
      "eliminating them eliminates 1328 out of 9058 judgments\n",
      "which is 14.66% of the judgments \n",
      "\n",
      "there are now only 7730 judgments in the dataset\n",
      "\n",
      "the worst covered unit pair contains only 5 judgments\n"
     ]
    }
   ],
   "source": [
    "# make the big changes \n",
    "temp_df = raw_df\n",
    "temp_df['good_country'] = good_countries\n",
    "good_countries_only = temp_df[raw_df['good_country'] == 1]\n",
    "\n",
    "\n",
    "# output the conclusiosn of what's going on here \n",
    "print \"there are \" + str(sum(country_df['is_bad'])) + \" bad countries\" \n",
    "print \"with over \" + str(round(high_ci_val * 100,2)) + \" percent judgments going against the majority/plurality\"\n",
    "\n",
    "missed_judgments = len(raw_df) - len(good_countries_only)\n",
    "total_judgments = len(raw_df)\n",
    "percent_lost = float(missed_judgments) / total_judgments\n",
    "\n",
    "print \n",
    "print \"eliminating them eliminates \" + str(missed_judgments) + ' out of ' + str(total_judgments) + \" judgments\"\n",
    "print \"which is \" + str(round(percent_lost  * 100, 2)) + '% of the judgments '\n",
    "print \n",
    "print \"there are now only \" + str(len(good_countries_only)) + \" judgments in the dataset\"\n",
    "\n",
    "fewest_judgments = good_countries_only.groupby('_unit_id')['please_make_your_relevancy_judgment'].count().min()\n",
    "\n",
    "print \n",
    "print 'the worst covered unit pair contains only ' + str(fewest_judgments) + \" judgments\""
   ]
  },
  {
   "cell_type": "code",
   "execution_count": 13,
   "metadata": {
    "collapsed": false
   },
   "outputs": [
    {
     "ename": "ValueError",
     "evalue": "Length of values does not match length of index",
     "output_type": "error",
     "traceback": [
      "\u001b[0;31m---------------------------------------------------------------------------\u001b[0m",
      "\u001b[0;31mValueError\u001b[0m                                Traceback (most recent call last)",
      "\u001b[0;32m<ipython-input-13-2cb2ec0f4518>\u001b[0m in \u001b[0;36m<module>\u001b[0;34m()\u001b[0m\n\u001b[1;32m      8\u001b[0m \u001b[0;31m# apply the no bad countries to the no robots set and see how different\u001b[0m\u001b[0;34m\u001b[0m\u001b[0;34m\u001b[0m\u001b[0m\n\u001b[1;32m      9\u001b[0m \u001b[0mraw_df\u001b[0m \u001b[0;34m=\u001b[0m \u001b[0mhumans_only\u001b[0m\u001b[0;34m\u001b[0m\u001b[0m\n\u001b[0;32m---> 10\u001b[0;31m \u001b[0mtemp_df\u001b[0m\u001b[0;34m[\u001b[0m\u001b[0;34m'good_country'\u001b[0m\u001b[0;34m]\u001b[0m \u001b[0;34m=\u001b[0m \u001b[0mgood_countries\u001b[0m\u001b[0;34m\u001b[0m\u001b[0m\n\u001b[0m\u001b[1;32m     11\u001b[0m \u001b[0mgood_countries_only\u001b[0m \u001b[0;34m=\u001b[0m \u001b[0mtemp_df\u001b[0m\u001b[0;34m[\u001b[0m\u001b[0mraw_df\u001b[0m\u001b[0;34m[\u001b[0m\u001b[0;34m'good_country'\u001b[0m\u001b[0;34m]\u001b[0m \u001b[0;34m==\u001b[0m \u001b[0;36m1\u001b[0m\u001b[0;34m]\u001b[0m\u001b[0;34m\u001b[0m\u001b[0m\n\u001b[1;32m     12\u001b[0m \u001b[0;34m\u001b[0m\u001b[0m\n",
      "\u001b[0;32m/Users/noahburbank/anaconda/envs/py2/lib/python2.7/site-packages/pandas/core/frame.pyc\u001b[0m in \u001b[0;36m__setitem__\u001b[0;34m(self, key, value)\u001b[0m\n\u001b[1;32m   2297\u001b[0m         \u001b[0;32melse\u001b[0m\u001b[0;34m:\u001b[0m\u001b[0;34m\u001b[0m\u001b[0m\n\u001b[1;32m   2298\u001b[0m             \u001b[0;31m# set column\u001b[0m\u001b[0;34m\u001b[0m\u001b[0;34m\u001b[0m\u001b[0m\n\u001b[0;32m-> 2299\u001b[0;31m             \u001b[0mself\u001b[0m\u001b[0;34m.\u001b[0m\u001b[0m_set_item\u001b[0m\u001b[0;34m(\u001b[0m\u001b[0mkey\u001b[0m\u001b[0;34m,\u001b[0m \u001b[0mvalue\u001b[0m\u001b[0;34m)\u001b[0m\u001b[0;34m\u001b[0m\u001b[0m\n\u001b[0m\u001b[1;32m   2300\u001b[0m \u001b[0;34m\u001b[0m\u001b[0m\n\u001b[1;32m   2301\u001b[0m     \u001b[0;32mdef\u001b[0m \u001b[0m_setitem_slice\u001b[0m\u001b[0;34m(\u001b[0m\u001b[0mself\u001b[0m\u001b[0;34m,\u001b[0m \u001b[0mkey\u001b[0m\u001b[0;34m,\u001b[0m \u001b[0mvalue\u001b[0m\u001b[0;34m)\u001b[0m\u001b[0;34m:\u001b[0m\u001b[0;34m\u001b[0m\u001b[0m\n",
      "\u001b[0;32m/Users/noahburbank/anaconda/envs/py2/lib/python2.7/site-packages/pandas/core/frame.pyc\u001b[0m in \u001b[0;36m_set_item\u001b[0;34m(self, key, value)\u001b[0m\n\u001b[1;32m   2364\u001b[0m \u001b[0;34m\u001b[0m\u001b[0m\n\u001b[1;32m   2365\u001b[0m         \u001b[0mself\u001b[0m\u001b[0;34m.\u001b[0m\u001b[0m_ensure_valid_index\u001b[0m\u001b[0;34m(\u001b[0m\u001b[0mvalue\u001b[0m\u001b[0;34m)\u001b[0m\u001b[0;34m\u001b[0m\u001b[0m\n\u001b[0;32m-> 2366\u001b[0;31m         \u001b[0mvalue\u001b[0m \u001b[0;34m=\u001b[0m \u001b[0mself\u001b[0m\u001b[0;34m.\u001b[0m\u001b[0m_sanitize_column\u001b[0m\u001b[0;34m(\u001b[0m\u001b[0mkey\u001b[0m\u001b[0;34m,\u001b[0m \u001b[0mvalue\u001b[0m\u001b[0;34m)\u001b[0m\u001b[0;34m\u001b[0m\u001b[0m\n\u001b[0m\u001b[1;32m   2367\u001b[0m         \u001b[0mNDFrame\u001b[0m\u001b[0;34m.\u001b[0m\u001b[0m_set_item\u001b[0m\u001b[0;34m(\u001b[0m\u001b[0mself\u001b[0m\u001b[0;34m,\u001b[0m \u001b[0mkey\u001b[0m\u001b[0;34m,\u001b[0m \u001b[0mvalue\u001b[0m\u001b[0;34m)\u001b[0m\u001b[0;34m\u001b[0m\u001b[0m\n\u001b[1;32m   2368\u001b[0m \u001b[0;34m\u001b[0m\u001b[0m\n",
      "\u001b[0;32m/Users/noahburbank/anaconda/envs/py2/lib/python2.7/site-packages/pandas/core/frame.pyc\u001b[0m in \u001b[0;36m_sanitize_column\u001b[0;34m(self, key, value)\u001b[0m\n\u001b[1;32m   2522\u001b[0m \u001b[0;34m\u001b[0m\u001b[0m\n\u001b[1;32m   2523\u001b[0m             \u001b[0;31m# turn me into an ndarray\u001b[0m\u001b[0;34m\u001b[0m\u001b[0;34m\u001b[0m\u001b[0m\n\u001b[0;32m-> 2524\u001b[0;31m             \u001b[0mvalue\u001b[0m \u001b[0;34m=\u001b[0m \u001b[0m_sanitize_index\u001b[0m\u001b[0;34m(\u001b[0m\u001b[0mvalue\u001b[0m\u001b[0;34m,\u001b[0m \u001b[0mself\u001b[0m\u001b[0;34m.\u001b[0m\u001b[0mindex\u001b[0m\u001b[0;34m,\u001b[0m \u001b[0mcopy\u001b[0m\u001b[0;34m=\u001b[0m\u001b[0mFalse\u001b[0m\u001b[0;34m)\u001b[0m\u001b[0;34m\u001b[0m\u001b[0m\n\u001b[0m\u001b[1;32m   2525\u001b[0m             \u001b[0;32mif\u001b[0m \u001b[0;32mnot\u001b[0m \u001b[0misinstance\u001b[0m\u001b[0;34m(\u001b[0m\u001b[0mvalue\u001b[0m\u001b[0;34m,\u001b[0m \u001b[0;34m(\u001b[0m\u001b[0mnp\u001b[0m\u001b[0;34m.\u001b[0m\u001b[0mndarray\u001b[0m\u001b[0;34m,\u001b[0m \u001b[0mIndex\u001b[0m\u001b[0;34m)\u001b[0m\u001b[0;34m)\u001b[0m\u001b[0;34m:\u001b[0m\u001b[0;34m\u001b[0m\u001b[0m\n\u001b[1;32m   2526\u001b[0m                 \u001b[0;32mif\u001b[0m \u001b[0misinstance\u001b[0m\u001b[0;34m(\u001b[0m\u001b[0mvalue\u001b[0m\u001b[0;34m,\u001b[0m \u001b[0mlist\u001b[0m\u001b[0;34m)\u001b[0m \u001b[0;32mand\u001b[0m \u001b[0mlen\u001b[0m\u001b[0;34m(\u001b[0m\u001b[0mvalue\u001b[0m\u001b[0;34m)\u001b[0m \u001b[0;34m>\u001b[0m \u001b[0;36m0\u001b[0m\u001b[0;34m:\u001b[0m\u001b[0;34m\u001b[0m\u001b[0m\n",
      "\u001b[0;32m/Users/noahburbank/anaconda/envs/py2/lib/python2.7/site-packages/pandas/core/series.pyc\u001b[0m in \u001b[0;36m_sanitize_index\u001b[0;34m(data, index, copy)\u001b[0m\n\u001b[1;32m   2739\u001b[0m \u001b[0;34m\u001b[0m\u001b[0m\n\u001b[1;32m   2740\u001b[0m     \u001b[0;32mif\u001b[0m \u001b[0mlen\u001b[0m\u001b[0;34m(\u001b[0m\u001b[0mdata\u001b[0m\u001b[0;34m)\u001b[0m \u001b[0;34m!=\u001b[0m \u001b[0mlen\u001b[0m\u001b[0;34m(\u001b[0m\u001b[0mindex\u001b[0m\u001b[0;34m)\u001b[0m\u001b[0;34m:\u001b[0m\u001b[0;34m\u001b[0m\u001b[0m\n\u001b[0;32m-> 2741\u001b[0;31m         raise ValueError('Length of values does not match length of '\n\u001b[0m\u001b[1;32m   2742\u001b[0m                          'index')\n\u001b[1;32m   2743\u001b[0m \u001b[0;34m\u001b[0m\u001b[0m\n",
      "\u001b[0;31mValueError\u001b[0m: Length of values does not match length of index"
     ]
    }
   ],
   "source": [
    "raw_df = humans_only\n",
    "country_df = countries\n",
    "good_countries = []\n",
    "for line in raw_df.iterrows():\n",
    "    country_val = int(line[1]['_country'] in set(country_df[country_df['is_bad'] != 1]['_country']))\n",
    "    good_countries.append(country_val)\n",
    "\n",
    "# apply the no bad countries to the no robots set and see how different \n",
    "raw_df = humans_only\n",
    "temp_df['good_country'] = good_countries\n",
    "good_countries_only = temp_df[raw_df['good_country'] == 1]\n",
    "\n",
    "\n",
    "# output the conclusiosn of what's going on here \n",
    "print \"there are \" + str(sum(country_df['is_bad'])) + \" bad countries\" \n",
    "print \"with over \" + str(round(high_ci_val * 100,2)) + \" percent judgments going against the majority/plurality\"\n",
    "\n",
    "missed_judgments = len(raw_df) - len(good_countries_only)\n",
    "total_judgments = len(raw_df)\n",
    "percent_lost = float(missed_judgments) / total_judgments\n",
    "\n",
    "print \n",
    "print \"eliminating them eliminates \" + str(missed_judgments) + ' out of ' + str(total_judgments) + \" judgments\"\n",
    "print \"which is \" + str(round(percent_lost  * 100, 2)) + '% of the judgments '\n",
    "print \n",
    "print \"there are now only \" + str(len(good_countries_only)) + \" judgments in the dataset\"\n",
    "\n",
    "fewest_judgments = good_countries_only.groupby('_unit_id')['please_make_your_relevancy_judgment'].count().min()\n",
    "\n",
    "print \n",
    "print 'the worst covered unit pair contains only ' + str(fewest_judgments) + \" judgments\""
   ]
  },
  {
   "cell_type": "code",
   "execution_count": null,
   "metadata": {
    "collapsed": true
   },
   "outputs": [],
   "source": [
    "#\n",
    "# there is negiligible difference between removing the robots and removing the countries that the robots comes from\n",
    "#\n"
   ]
  },
  {
   "cell_type": "code",
   "execution_count": null,
   "metadata": {
    "collapsed": false
   },
   "outputs": [],
   "source": []
  },
  {
   "cell_type": "code",
   "execution_count": null,
   "metadata": {
    "collapsed": false
   },
   "outputs": [],
   "source": [
    "## normalize\n",
    "##\n",
    "\n",
    "def normalize(list_of_numbers):\n",
    "    min_value = min(list_of_numbers)\n",
    "    list_less_min = list_of_numbers - min_value\n",
    "    max_value = max(list_less_min)\n",
    "    normalized_values = list_less_min / max_value\n",
    "    return normalized_values"
   ]
  },
  {
   "cell_type": "code",
   "execution_count": null,
   "metadata": {
    "collapsed": false
   },
   "outputs": [],
   "source": [
    "# get the unit ides for the key for the data frame\n",
    "unit_ids = []\n",
    "mean_scores_list = []\n",
    "mode_scores_list = []\n",
    "\n",
    "for group in raw_df.groupby('_unit_id')['please_make_your_relevancy_judgment']:\n",
    "    unit_ids.append(group[0])\n",
    "    mean_scores_list.append(np.mean(group[1]))\n",
    "    \n",
    "\n",
    "unit_id_scores = pd.DataFrame()\n",
    "unit_id_scores['_unit_id'] = unit_ids\n",
    "unit_id_scores['mean_score'] = mean_scores_list\n",
    "unit_id_scores['normalized_mean_score'] = normalize(mean_scores_list)\n",
    "\n",
    "unit_id_scores['normalized_mean_score'].hist(bins = 30)\n",
    "cutoff_value = unit_id_scores.median()['normalized_mean_score']\n",
    "\n",
    "unit_id_scores['rounded_normalized_mean_scores'] =  unit_id_scores['normalized_mean_score'].apply(lambda x: x > int(cutoff_value))"
   ]
  },
  {
   "cell_type": "code",
   "execution_count": null,
   "metadata": {
    "collapsed": true
   },
   "outputs": [],
   "source": [
    "# trust weighted average !!!!\n",
    "trust_weighted_mean = dict()\n",
    "\n",
    "for line in humans_only.groupby('_unit_id'):\n",
    "    total_trust = line[1]['_trust'].sum()\n",
    "    ind_trust_vector = line[1]['_trust']\n",
    "    ind_judgment_vector = line[1]['please_make_your_relevancy_judgment']\n",
    "    trust_mean = (ind_trust_vector * ind_judgment_vector).mean()\n",
    "    trust_weighted_mean[line[0]] = trust_mean\n",
    "\n",
    "normalized_trust_weighted_mean = normalize(trust_weighted_mean.values())\n",
    "unit_id_scores['normalized_trust_weighted_mean'] = normalized_trust_weighted_mean\n",
    "unit_id_scores['trust_weighted_mean'] = trust_weighted_mean"
   ]
  },
  {
   "cell_type": "code",
   "execution_count": null,
   "metadata": {
    "collapsed": false,
    "scrolled": false
   },
   "outputs": [],
   "source": [
    "pd.Series(data=normalized_trust_weighted_mean).hist(bins=30)"
   ]
  },
  {
   "cell_type": "code",
   "execution_count": 9,
   "metadata": {
    "collapsed": false
   },
   "outputs": [
    {
     "ename": "NameError",
     "evalue": "name 'unit_id_scores' is not defined",
     "output_type": "error",
     "traceback": [
      "\u001b[0;31m---------------------------------------------------------------------------\u001b[0m",
      "\u001b[0;31mNameError\u001b[0m                                 Traceback (most recent call last)",
      "\u001b[0;32m<ipython-input-9-95f02f9ea906>\u001b[0m in \u001b[0;36m<module>\u001b[0;34m()\u001b[0m\n\u001b[0;32m----> 1\u001b[0;31m \u001b[0munit_id_scores\u001b[0m\u001b[0;34m[\u001b[0m\u001b[0;34m'normalized_mean_score'\u001b[0m\u001b[0;34m]\u001b[0m\u001b[0;34m.\u001b[0m\u001b[0mhist\u001b[0m\u001b[0;34m(\u001b[0m\u001b[0mbins\u001b[0m \u001b[0;34m=\u001b[0m \u001b[0;36m50\u001b[0m\u001b[0;34m,\u001b[0m \u001b[0mfigsize\u001b[0m\u001b[0;34m=\u001b[0m \u001b[0;34m(\u001b[0m\u001b[0;36m20\u001b[0m\u001b[0;34m,\u001b[0m\u001b[0;36m10\u001b[0m\u001b[0;34m)\u001b[0m\u001b[0;34m)\u001b[0m\u001b[0;34m\u001b[0m\u001b[0m\n\u001b[0m\u001b[1;32m      2\u001b[0m \u001b[0munit_id_scores\u001b[0m\u001b[0;34m[\u001b[0m\u001b[0;34m'mean_score'\u001b[0m\u001b[0;34m]\u001b[0m\u001b[0;34m.\u001b[0m\u001b[0mhist\u001b[0m\u001b[0;34m(\u001b[0m\u001b[0mbins\u001b[0m \u001b[0;34m=\u001b[0m \u001b[0;36m50\u001b[0m\u001b[0;34m)\u001b[0m\u001b[0;34m\u001b[0m\u001b[0m\n",
      "\u001b[0;31mNameError\u001b[0m: name 'unit_id_scores' is not defined"
     ]
    }
   ],
   "source": [
    "unit_id_scores['normalized_mean_score'].hist(bins = 50, figsize= (20,10))\n",
    "unit_id_scores['mean_score'].hist(bins = 50)"
   ]
  },
  {
   "cell_type": "code",
   "execution_count": null,
   "metadata": {
    "collapsed": true
   },
   "outputs": [],
   "source": []
  },
  {
   "cell_type": "code",
   "execution_count": 71,
   "metadata": {
    "collapsed": true
   },
   "outputs": [],
   "source": [
    "# output to unit pair scores table\n",
    "#\n",
    "#\n",
    "#\n",
    "#\n",
    "#\n",
    "#\n",
    "#\n",
    "#\n",
    "# put this into the database, so that i don't need to process it each time, \n",
    "#becuase it is very slow\n",
    "from sqlalchemy import create_engine\n",
    "from sqlalchemy_utils import database_exists, create_database\n",
    "import psycopg2\n",
    "\n",
    "dbname = 'urx'\n",
    "username = 'noahburbank'\n",
    "\n",
    "engine = create_engine('postgres://%s@localhost/%s'%(username,dbname))"
   ]
  },
  {
   "cell_type": "code",
   "execution_count": null,
   "metadata": {
    "collapsed": false,
    "scrolled": true
   },
   "outputs": [],
   "source": [
    "unit_id_scores.to_sql('scores', engine, if_exists = 'replace')"
   ]
  },
  {
   "cell_type": "code",
   "execution_count": null,
   "metadata": {
    "collapsed": true
   },
   "outputs": [],
   "source": []
  }
 ],
 "metadata": {
  "kernelspec": {
   "display_name": "Python 2",
   "language": "python",
   "name": "python2"
  },
  "language_info": {
   "codemirror_mode": {
    "name": "ipython",
    "version": 2
   },
   "file_extension": ".py",
   "mimetype": "text/x-python",
   "name": "python",
   "nbconvert_exporter": "python",
   "pygments_lexer": "ipython2",
   "version": "2.7.11"
  }
 },
 "nbformat": 4,
 "nbformat_minor": 0
}
