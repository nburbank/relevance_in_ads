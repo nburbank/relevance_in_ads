{
 "cells": [
  {
   "cell_type": "markdown",
   "metadata": {
    "collapsed": true
   },
   "source": [
    "# Preprocess the CSV  \n",
    "Import the CSV and clean out the quality control and missing value rows "
   ]
  },
  {
   "cell_type": "code",
   "execution_count": 3,
   "metadata": {
    "collapsed": true
   },
   "outputs": [],
   "source": [
    "# import packages\n",
    "import pandas as pd"
   ]
  },
  {
   "cell_type": "code",
   "execution_count": 4,
   "metadata": {
    "collapsed": true
   },
   "outputs": [],
   "source": [
    "def import_and_ignore_golden(csv_name, output_name):\n",
    "    \"\"\" import the csv data, remove the evaluationg data (golden) and remove the nan entries\"\"\"\n",
    "    # import original csv\n",
    "    raw_df = pd.read_csv(csv_name)\n",
    "    \n",
    "    original_shape = raw_df.shape\n",
    "    \n",
    "    # remove the golden ones which are for training\n",
    "    raw_df = raw_df[raw_df['_golden'] == False]\n",
    "\n",
    "    no_golden_shape = raw_df.shape\n",
    "    # remove lines with NaN for the endurl value\n",
    "    nan_list = []\n",
    "    for endurl in raw_df['endurl']:\n",
    "         nan_list.append(type(endurl) != type(float()))\n",
    "\n",
    "    cleaned_df = raw_df[nan_list]      \n",
    "    final_shape = cleaned_df.shape\n",
    "\n",
    "    cleaned_df.to_csv(output_name)    \n",
    "    \n",
    "    print 'imported ' + csv_name\n",
    "    print 'original size is: ' + str(original_shape)\n",
    "    print 'without golden size is: ' + str(no_golden_shape)\n",
    "    print 'final size is: ' + str(final_shape)\n",
    "    print \n",
    "    print \n",
    "    \n",
    "    return "
   ]
  },
  {
   "cell_type": "code",
   "execution_count": 7,
   "metadata": {
    "collapsed": false
   },
   "outputs": [
    {
     "name": "stdout",
     "output_type": "stream",
     "text": [
      "imported f835051.csv\n",
      "original size is: (11522, 26)\n",
      "without golden size is: (9476, 26)\n",
      "final size is: (9058, 26)\n",
      "\n",
      "\n",
      "imported f853765.csv\n",
      "original size is: (11832, 25)\n",
      "without golden size is: (10084, 25)\n",
      "final size is: (9633, 25)\n",
      "\n",
      "\n"
     ]
    }
   ],
   "source": [
    "os.path.join(os.path.dirname(os.path.realpath(__file__)), 'data', 'myrawfile.txt')\n",
    "\n",
    "# import and clean original experimental data\n",
    "import_and_ignore_golden('f835051.csv', 'experiment1_data.csv')\n",
    "\n",
    "# import and clean the second experimental data\n",
    "import_and_ignore_golden('f853765.csv','experiment2_data.csv')\n"
   ]
  }
 ],
 "metadata": {
  "kernelspec": {
   "display_name": "Python 2",
   "language": "python",
   "name": "python2"
  },
  "language_info": {
   "codemirror_mode": {
    "name": "ipython",
    "version": 2
   },
   "file_extension": ".py",
   "mimetype": "text/x-python",
   "name": "python",
   "nbconvert_exporter": "python",
   "pygments_lexer": "ipython2",
   "version": "2.7.11"
  }
 },
 "nbformat": 4,
 "nbformat_minor": 0
}
