{
 "cells": [
  {
   "cell_type": "code",
   "execution_count": 1,
   "metadata": {
    "collapsed": true
   },
   "outputs": [],
   "source": [
    "## import pertinent libraries\n",
    "import pandas as pd"
   ]
  },
  {
   "cell_type": "code",
   "execution_count": 3,
   "metadata": {
    "collapsed": false
   },
   "outputs": [
    {
     "name": "stdout",
     "output_type": "stream",
     "text": [
      "Index([u'Unnamed: 0', u'_unit_id', u'_created_at', u'_golden', u'_id',\n",
      "       u'_missed', u'_started_at', u'_tainted', u'_channel', u'_trust',\n",
      "       u'_worker_id', u'_country', u'_region', u'_city', u'_ip',\n",
      "       u'please_make_your_relevancy_judgment', u'orig__created_at',\n",
      "       u'orig__golden', u'orig__unit_id', u'_updated_at', u'endurl', u'nil',\n",
      "       u'please_make_your_relevancy_judgment_gold',\n",
      "       u'please_make_your_relevancy_judgment_gold_reason', u'query',\n",
      "       u'starturl', u'type'],\n",
      "      dtype='object')\n",
      "\n",
      "Index([u'Unnamed: 0', u'_unit_id', u'_created_at', u'_golden', u'_id',\n",
      "       u'_missed', u'_started_at', u'_tainted', u'_channel', u'_trust',\n",
      "       u'_worker_id', u'_country', u'_region', u'_city', u'_ip',\n",
      "       u'please_make_your_relevancy_judgment', u'orig__created_at',\n",
      "       u'orig__golden', u'orig__unit_id', u'_updated_at', u'endurl', u'nil',\n",
      "       u'please_make_your_relevancy_judgment_gold',\n",
      "       u'please_make_your_relevancy_judgment_gold_reason', u'starturl',\n",
      "       u'type'],\n",
      "      dtype='object')\n"
     ]
    }
   ],
   "source": [
    "# import the datasets (cleaned of golden rows and nan's)\n",
    "exp1 = pd.read_csv('experiment1_data.csv')\n",
    "exp2 = pd.read_csv('experiment2_data.csv')\n",
    "\n",
    "# print column names\n",
    "print exp1.columns\n",
    "print\n",
    "print exp2.columns"
   ]
  },
  {
   "cell_type": "code",
   "execution_count": 22,
   "metadata": {
    "collapsed": false
   },
   "outputs": [
    {
     "name": "stdout",
     "output_type": "stream",
     "text": [
      "492\n",
      "0\n"
     ]
    }
   ],
   "source": [
    "# double check that we're stll working with the same set of experiments \n",
    "starturl1 = set(exp1.starturl)\n",
    "starturl2 = set(exp2.starturl)\n",
    "print len(starturl1.intersection(starturl2))\n",
    "print len(starturl1.difference(starturl2))\n",
    "\n",
    "# they are the same"
   ]
  },
  {
   "cell_type": "code",
   "execution_count": 23,
   "metadata": {
    "collapsed": false
   },
   "outputs": [
    {
     "name": "stdout",
     "output_type": "stream",
     "text": [
      "0\n",
      "950\n"
     ]
    }
   ],
   "source": [
    "# see if the unit_id is actually consistent, or if that's recreated through crowd flower \n",
    "unitid1 = set(exp1._unit_id)\n",
    "unitid2 = set(exp2._unit_id)\n",
    "print len(unitid1.intersection(unitid2))\n",
    "print len(unitid1.difference(unitid2))\n",
    "\n",
    "# the unitid coding is created independently each time by the crowdflower people"
   ]
  },
  {
   "cell_type": "code",
   "execution_count": 144,
   "metadata": {
    "collapsed": false,
    "scrolled": false
   },
   "outputs": [],
   "source": [
    "# concatonate the objects \n",
    "# exp1 has a query column, which i do not want or need, so let's drop that to be same\n",
    "exp1 = exp1.drop('query',1)\n",
    "both_exps = pd.concat([exp1, exp2])"
   ]
  },
  {
   "cell_type": "code",
   "execution_count": 145,
   "metadata": {
    "collapsed": true
   },
   "outputs": [],
   "source": [
    "# export for analysis \n",
    "both_exps.to_csv('both_exps.csv')"
   ]
  },
  {
   "cell_type": "code",
   "execution_count": 17,
   "metadata": {
    "collapsed": false
   },
   "outputs": [],
   "source": [
    "from nltk.tag.stanford import StanfordNERTagger\n",
    "st = StanfordNERTagger('/Users/noahburbank/Python/stanford-ner/stanford-ner-2014-06-16/classifiers/english.all.3class.distsim.crf.ser.gz',\n",
    "                       '/Users/noahburbank/Python/stanford-ner/stanford-ner-2014-06-16/stanford-ner-3.4.jar')\n",
    "sent = 'Rami Eid is studying at Stony Brook University in NY'"
   ]
  },
  {
   "cell_type": "code",
   "execution_count": 18,
   "metadata": {
    "collapsed": false
   },
   "outputs": [],
   "source": [
    "sent_list = sent.split()"
   ]
  },
  {
   "cell_type": "code",
   "execution_count": 19,
   "metadata": {
    "collapsed": false
   },
   "outputs": [
    {
     "data": {
      "text/plain": [
       "[(u'Rami', u'PERSON'),\n",
       " (u'Eid', u'PERSON'),\n",
       " (u'is', u'O'),\n",
       " (u'studying', u'O'),\n",
       " (u'at', u'O'),\n",
       " (u'Stony', u'ORGANIZATION'),\n",
       " (u'Brook', u'ORGANIZATION'),\n",
       " (u'University', u'ORGANIZATION'),\n",
       " (u'in', u'O'),\n",
       " (u'NY', u'O')]"
      ]
     },
     "execution_count": 19,
     "metadata": {},
     "output_type": "execute_result"
    }
   ],
   "source": [
    "st.tag(sent_list)"
   ]
  },
  {
   "cell_type": "code",
   "execution_count": null,
   "metadata": {
    "collapsed": true
   },
   "outputs": [],
   "source": []
  },
  {
   "cell_type": "code",
   "execution_count": null,
   "metadata": {
    "collapsed": true
   },
   "outputs": [],
   "source": []
  },
  {
   "cell_type": "code",
   "execution_count": null,
   "metadata": {
    "collapsed": true
   },
   "outputs": [],
   "source": []
  },
  {
   "cell_type": "code",
   "execution_count": null,
   "metadata": {
    "collapsed": true
   },
   "outputs": [],
   "source": []
  }
 ],
 "metadata": {
  "kernelspec": {
   "display_name": "Python 2",
   "language": "python",
   "name": "python2"
  },
  "language_info": {
   "codemirror_mode": {
    "name": "ipython",
    "version": 2
   },
   "file_extension": ".py",
   "mimetype": "text/x-python",
   "name": "python",
   "nbconvert_exporter": "python",
   "pygments_lexer": "ipython2",
   "version": "2.7.11"
  }
 },
 "nbformat": 4,
 "nbformat_minor": 0
}
