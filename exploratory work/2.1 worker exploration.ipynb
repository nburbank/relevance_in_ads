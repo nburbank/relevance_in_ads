{
 "cells": [
  {
   "cell_type": "code",
   "execution_count": null,
   "metadata": {
    "collapsed": true
   },
   "outputs": [],
   "source": [
    "import pandas as pd\n",
    "%matplotlib inline\n",
    "import numpy as np\n",
    "import matplotlib as mpl\n",
    "from datetime import datetime, date, time, timedelta"
   ]
  },
  {
   "cell_type": "code",
   "execution_count": 5,
   "metadata": {
    "collapsed": true
   },
   "outputs": [],
   "source": [
    "# import data from scores table\n",
    "# import data from signal table\n",
    "#\n",
    "#\n",
    "#\n",
    "#\n",
    "#\n",
    "#\n",
    "#\n",
    "\n",
    "from sqlalchemy import create_engine\n",
    "from sqlalchemy_utils import database_exists, create_database\n",
    "import psycopg2\n",
    "\n",
    "dbname = 'urx'\n",
    "username = 'noahburbank'\n",
    "\n",
    "engine = create_engine('postgres://%s@localhost/%s'%(username,dbname))\n",
    "\n",
    "features = pd.read_csv('features.csv')\n",
    "scores = pd.read_csv('aggregated_scores.csv')"
   ]
  },
  {
   "cell_type": "code",
   "execution_count": 178,
   "metadata": {
    "collapsed": false
   },
   "outputs": [
    {
     "name": "stdout",
     "output_type": "stream",
     "text": [
      "Index([u'index', u'_worker_id', u'too_many_jobs', u'too_little_variance',\n",
      "       u'unreasonable_mean', u'suspicious_timestamps', u'_trust',\n",
      "       u'agg_score'],\n",
      "      dtype='object')\n"
     ]
    }
   ],
   "source": [
    "# import worker data \n",
    "# connect:\n",
    "con = None\n",
    "con = psycopg2.connect(database = dbname, user = username)\n",
    "\n",
    "# query:\n",
    "sql_query = \"\"\"\n",
    "SELECT * FROM worker_table;\n",
    "\"\"\"\n",
    "worker_table = pd.read_sql_query(sql_query,con)\n",
    "\n",
    "print worker_table.columns"
   ]
  },
  {
   "cell_type": "code",
   "execution_count": 378,
   "metadata": {
    "collapsed": true
   },
   "outputs": [],
   "source": [
    "raw_df = pd.read_csv('cleaned_urx_data.csv')"
   ]
  },
  {
   "cell_type": "code",
   "execution_count": null,
   "metadata": {
    "collapsed": true
   },
   "outputs": [],
   "source": []
  },
  {
   "cell_type": "code",
   "execution_count": null,
   "metadata": {
    "collapsed": true
   },
   "outputs": [],
   "source": []
  },
  {
   "cell_type": "code",
   "execution_count": 198,
   "metadata": {
    "collapsed": false
   },
   "outputs": [],
   "source": [
    "# sort a dictionary by country before putting into the dataframe\n",
    "def sort_by_country(unsorted_dict):\n",
    "    sorted_list = []\n",
    "    for country in country_df['_country']:\n",
    "        sorted_list.append(unsorted_dict[country])\n",
    "    return sorted_list"
   ]
  },
  {
   "cell_type": "code",
   "execution_count": 247,
   "metadata": {
    "collapsed": false,
    "scrolled": false
   },
   "outputs": [],
   "source": [
    "# masterlist of country information\n",
    "country_list = []\n",
    "country_scores_dict = dict()\n",
    "jobs_count = dict()\n",
    "mean_trust = dict()\n",
    "median_trust = dict()\n",
    "\n",
    "for entry in raw_df.groupby('_country'):\n",
    "    country_list.append(entry[0])\n",
    "    jobs_count[entry[0]] = len(entry[1]['please_make_your_relevancy_judgment'] )\n",
    "    mean_trust[entry[0]] = entry[1]['_trust'].mean()\n",
    "    median_trust[entry[0]] = entry[1]['_trust'].median()\n",
    "    \n",
    "jobs_list = []\n",
    "mean_trust_list = []\n",
    "median_trust_list = []\n",
    "\n",
    "for country in country_df['_country']:\n",
    "    jobs_list.append(jobs_count[country])\n",
    "    mean_trust_list.append(mean_trust[country])\n",
    "    median_trust_list.append(median_trust[country])"
   ]
  },
  {
   "cell_type": "code",
   "execution_count": 248,
   "metadata": {
    "collapsed": false
   },
   "outputs": [],
   "source": [
    "# consolidate into a dataframe\n",
    "\n",
    "country_df = pd.DataFrame()\n",
    "country_df['_country'] = country_list\n",
    "country_df['jobs_count'] = jobs_list\n",
    "country_df['mean_trust'] = mean_trust_list\n",
    "country_df['median_trust'] = median_trust_list"
   ]
  },
  {
   "cell_type": "code",
   "execution_count": null,
   "metadata": {
    "collapsed": true
   },
   "outputs": [],
   "source": []
  },
  {
   "cell_type": "code",
   "execution_count": null,
   "metadata": {
    "collapsed": true
   },
   "outputs": [],
   "source": []
  },
  {
   "cell_type": "code",
   "execution_count": 1,
   "metadata": {
    "collapsed": true
   },
   "outputs": [],
   "source": []
  },
  {
   "cell_type": "code",
   "execution_count": null,
   "metadata": {
    "collapsed": true
   },
   "outputs": [],
   "source": []
  },
  {
   "cell_type": "code",
   "execution_count": null,
   "metadata": {
    "collapsed": true
   },
   "outputs": [],
   "source": []
  },
  {
   "cell_type": "code",
   "execution_count": 236,
   "metadata": {
    "collapsed": false
   },
   "outputs": [],
   "source": [
    "# dict of country and ids\n",
    "country_dict = dict()\n",
    "worker_job_count = dict()\n",
    "trust_dict = dict()\n",
    "\n",
    "for line in raw_df.groupby('_worker_id'):\n",
    "    country_key = line[1]['_country'].keys()[1]\n",
    "    country_dict[line[0]] = line[1]['_country'][country_key] \n",
    "    worker_job_count[line[0]] = line[1]['please_make_your_relevancy_judgment'].count()\n",
    "    trust_key = line[1]['_trust'].keys()[1]\n",
    "    trust_dict[line[0]] = line[1]['_trust'][trust_key]"
   ]
  },
  {
   "cell_type": "code",
   "execution_count": 237,
   "metadata": {
    "collapsed": true
   },
   "outputs": [],
   "source": [
    "# basic information about workers and countries \n",
    "worker_df = pd.DataFrame()\n",
    "worker_df['_worker_id'] = country_dict.keys()\n",
    "worker_df['_country'] = country_dict.values()\n",
    "worker_df['job_count'] = worker_job_count.values()\n",
    "worker_df['_trust'] = trust_dict.values()"
   ]
  },
  {
   "cell_type": "code",
   "execution_count": 238,
   "metadata": {
    "collapsed": false
   },
   "outputs": [
    {
     "data": {
      "text/plain": [
       "<matplotlib.axes._subplots.AxesSubplot at 0x10fa62610>"
      ]
     },
     "execution_count": 238,
     "metadata": {},
     "output_type": "execute_result"
    },
    {
     "data": {
      "image/png": "[encoded data removed]",
      "text/plain": [
       "<matplotlib.figure.Figure at 0x10fa41a10>"
      ]
     },
     "metadata": {},
     "output_type": "display_data"
    }
   ],
   "source": [
    "## detect majority judgments (and how much of a majority)\n",
    "\n",
    "modes = []\n",
    "mode_counts = []\n",
    "judgment_counts = []\n",
    "plurality_percentages = []\n",
    "plurality_judgment = dict()\n",
    "\n",
    "for line in raw_df.groupby('_unit_id'):\n",
    "    unit_id = line[0]\n",
    "    judgments = line[1]['please_make_your_relevancy_judgment']\n",
    "    mode = judgments.mode()\n",
    "    mode = int(mode[0])\n",
    "    modes.append(mode)\n",
    "    mode_count = 0\n",
    "    for judgment in judgments:\n",
    "        if judgment == mode:\n",
    "            mode_count += 1\n",
    "    mode_counts.append(mode_count)\n",
    "    judgment_count = len(judgments)\n",
    "    judgment_counts.append(judgment_count)\n",
    "    plurality_percentage = (mode_count +0.0)/judgment_count\n",
    "    plurality_percentages.append(plurality_percentage)\n",
    "    plurality_judgment[line[0]] = mode, plurality_percentage\n",
    "    \n",
    "\n",
    "pd.Series(data= plurality_percentages).hist(bins=30)"
   ]
  },
  {
   "cell_type": "code",
   "execution_count": 239,
   "metadata": {
    "collapsed": true
   },
   "outputs": [],
   "source": [
    "# detect minority judgments by worker\n",
    "worker_is_in_the_minority = dict()\n",
    "\n",
    "for line in raw_df.iterrows():\n",
    "    worker_id = line[1]['_worker_id']\n",
    "    worker_judgment = line[1]['please_make_your_relevancy_judgment']\n",
    "    unit_id = line[1]['_unit_id']\n",
    "    \n",
    "    majority_judgment = plurality_judgment[unit_id][0]\n",
    "    # in the first pass i don't take into account how much of a majority/plurality it is\n",
    "    \n",
    "    is_minority =  (worker_judgment != majority_judgment)\n",
    "    if is_minority == 1:\n",
    "        if worker_id not in worker_is_in_the_minority.keys():\n",
    "            worker_is_in_the_minority[worker_id] = 1\n",
    "        else:\n",
    "            worker_is_in_the_minority[worker_id] += 1        \n",
    "\n",
    "# fill out for the three remaining majority voters\n",
    "for worker in worker_df['_worker_id']:\n",
    "    if worker not in worker_is_in_the_minority.keys():\n",
    "        worker_is_in_the_minority[worker] = 0\n",
    "\n",
    "is_minority_ordered = []\n",
    "# reorder for the order that the worker df is in \n",
    "for worker in worker_df['_worker_id']:\n",
    "    is_minority_ordered.append(worker_is_in_the_minority[worker])\n",
    "    \n",
    "# add to the data frame\n",
    "worker_df['minority_judgments'] = is_minority_ordered\n",
    "\n",
    "# add a column with the minority precentage as a \n",
    "worker_df['minority_percentage'] = worker_df['minority_judgments'] / worker_df['job_count']"
   ]
  },
  {
   "cell_type": "code",
   "execution_count": 240,
   "metadata": {
    "collapsed": false
   },
   "outputs": [],
   "source": [
    "# bring this up to the country level, aggregating there, and not subaggregating by worker first \n",
    "country_minority_dict = dict()\n",
    "\n",
    "for country in worker_df.groupby('_country'):\n",
    "    total_judgments = country[1]['job_count'].sum()\n",
    "    total_minority_judgments = country[1]['minority_judgments'].sum()\n",
    "    total_minority_percentage = (total_minority_judgments + 0.0) / total_judgments\n",
    "    country_minority_dict[country[0]] = total_minority_percentage\n",
    "\n",
    "## bring this up to the country level, but aggregate on the worker first \n",
    "country_minority_by_worker_dict = dict()\n",
    "\n",
    "for country in worker_df.groupby('_country'):\n",
    "    minority_average = country[1]['minority_percentage'].mean()\n",
    "    country_minority_by_worker_dict[country[0]] = minority_average\n",
    "\n",
    "# these are not meaningfully different, so let's just take the country one, without the worker sub-aggregation"
   ]
  },
  {
   "cell_type": "code",
   "execution_count": 382,
   "metadata": {
    "collapsed": true
   },
   "outputs": [],
   "source": [
    "# can you sort through people by the minority judgments?\n",
    "\n",
    "ordered_country_minority_list = []\n",
    "for country in country_df['_country']:\n",
    "    ordered_country_minority_list.append(country_minority_dict[country])\n",
    "\n",
    "country_df['percent_minority_judgments'] = ordered_country_minority_list"
   ]
  },
  {
   "cell_type": "code",
   "execution_count": null,
   "metadata": {
    "collapsed": false
   },
   "outputs": [],
   "source": []
  },
  {
   "cell_type": "code",
   "execution_count": 249,
   "metadata": {
    "collapsed": false
   },
   "outputs": [
    {
     "name": "stdout",
     "output_type": "stream",
     "text": [
      "Index([u'_country', u'jobs_count', u'mean_trust', u'median_trust'], dtype='object')\n"
     ]
    }
   ],
   "source": []
  },
  {
   "cell_type": "code",
   "execution_count": 383,
   "metadata": {
    "collapsed": false
   },
   "outputs": [
    {
     "name": "stderr",
     "output_type": "stream",
     "text": [
      "/Users/noahburbank/anaconda/envs/py2/lib/python2.7/site-packages/ipykernel/__main__.py:1: FutureWarning: sort(columns=....) is deprecated, use sort_values(by=.....)\n",
      "  if __name__ == '__main__':\n"
     ]
    },
    {
     "data": {
      "text/html": [
       "<div>\n",
       "<table border=\"1\" class=\"dataframe\">\n",
       "  <thead>\n",
       "    <tr style=\"text-align: right;\">\n",
       "      <th></th>\n",
       "      <th>_country</th>\n",
       "      <th>jobs_count</th>\n",
       "      <th>mean_trust</th>\n",
       "      <th>median_trust</th>\n",
       "      <th>percent_minority_judgments</th>\n",
       "      <th>is_bad</th>\n",
       "    </tr>\n",
       "  </thead>\n",
       "  <tbody>\n",
       "    <tr>\n",
       "      <th>29</th>\n",
       "      <td>VNM</td>\n",
       "      <td>25</td>\n",
       "      <td>0.923100</td>\n",
       "      <td>0.9231</td>\n",
       "      <td>0.040000</td>\n",
       "      <td>0</td>\n",
       "    </tr>\n",
       "    <tr>\n",
       "      <th>2</th>\n",
       "      <td>BGR</td>\n",
       "      <td>94</td>\n",
       "      <td>0.904800</td>\n",
       "      <td>0.9048</td>\n",
       "      <td>0.063830</td>\n",
       "      <td>0</td>\n",
       "    </tr>\n",
       "    <tr>\n",
       "      <th>17</th>\n",
       "      <td>MYS</td>\n",
       "      <td>103</td>\n",
       "      <td>0.954500</td>\n",
       "      <td>0.9545</td>\n",
       "      <td>0.067961</td>\n",
       "      <td>0</td>\n",
       "    </tr>\n",
       "    <tr>\n",
       "      <th>8</th>\n",
       "      <td>DEU</td>\n",
       "      <td>26</td>\n",
       "      <td>0.923100</td>\n",
       "      <td>0.9231</td>\n",
       "      <td>0.076923</td>\n",
       "      <td>0</td>\n",
       "    </tr>\n",
       "    <tr>\n",
       "      <th>24</th>\n",
       "      <td>SVN</td>\n",
       "      <td>61</td>\n",
       "      <td>0.941200</td>\n",
       "      <td>0.9412</td>\n",
       "      <td>0.081967</td>\n",
       "      <td>0</td>\n",
       "    </tr>\n",
       "    <tr>\n",
       "      <th>6</th>\n",
       "      <td>COL</td>\n",
       "      <td>21</td>\n",
       "      <td>1.000000</td>\n",
       "      <td>1.0000</td>\n",
       "      <td>0.095238</td>\n",
       "      <td>0</td>\n",
       "    </tr>\n",
       "    <tr>\n",
       "      <th>10</th>\n",
       "      <td>HND</td>\n",
       "      <td>129</td>\n",
       "      <td>1.000000</td>\n",
       "      <td>1.0000</td>\n",
       "      <td>0.100775</td>\n",
       "      <td>0</td>\n",
       "    </tr>\n",
       "    <tr>\n",
       "      <th>11</th>\n",
       "      <td>HRV</td>\n",
       "      <td>260</td>\n",
       "      <td>0.825000</td>\n",
       "      <td>0.8250</td>\n",
       "      <td>0.103846</td>\n",
       "      <td>0</td>\n",
       "    </tr>\n",
       "    <tr>\n",
       "      <th>7</th>\n",
       "      <td>CZE</td>\n",
       "      <td>9</td>\n",
       "      <td>1.000000</td>\n",
       "      <td>1.0000</td>\n",
       "      <td>0.111111</td>\n",
       "      <td>0</td>\n",
       "    </tr>\n",
       "    <tr>\n",
       "      <th>14</th>\n",
       "      <td>ITA</td>\n",
       "      <td>450</td>\n",
       "      <td>0.909356</td>\n",
       "      <td>0.9310</td>\n",
       "      <td>0.113333</td>\n",
       "      <td>0</td>\n",
       "    </tr>\n",
       "    <tr>\n",
       "      <th>25</th>\n",
       "      <td>TUR</td>\n",
       "      <td>1253</td>\n",
       "      <td>0.861958</td>\n",
       "      <td>0.8500</td>\n",
       "      <td>0.127694</td>\n",
       "      <td>0</td>\n",
       "    </tr>\n",
       "    <tr>\n",
       "      <th>3</th>\n",
       "      <td>BIH</td>\n",
       "      <td>217</td>\n",
       "      <td>0.955624</td>\n",
       "      <td>1.0000</td>\n",
       "      <td>0.138249</td>\n",
       "      <td>0</td>\n",
       "    </tr>\n",
       "    <tr>\n",
       "      <th>23</th>\n",
       "      <td>SRB</td>\n",
       "      <td>768</td>\n",
       "      <td>0.912320</td>\n",
       "      <td>0.8788</td>\n",
       "      <td>0.140625</td>\n",
       "      <td>0</td>\n",
       "    </tr>\n",
       "    <tr>\n",
       "      <th>15</th>\n",
       "      <td>MEX</td>\n",
       "      <td>70</td>\n",
       "      <td>0.858036</td>\n",
       "      <td>0.8125</td>\n",
       "      <td>0.142857</td>\n",
       "      <td>0</td>\n",
       "    </tr>\n",
       "    <tr>\n",
       "      <th>16</th>\n",
       "      <td>MKD</td>\n",
       "      <td>35</td>\n",
       "      <td>0.857100</td>\n",
       "      <td>0.8571</td>\n",
       "      <td>0.142857</td>\n",
       "      <td>0</td>\n",
       "    </tr>\n",
       "    <tr>\n",
       "      <th>20</th>\n",
       "      <td>POL</td>\n",
       "      <td>515</td>\n",
       "      <td>0.937621</td>\n",
       "      <td>1.0000</td>\n",
       "      <td>0.147573</td>\n",
       "      <td>0</td>\n",
       "    </tr>\n",
       "    <tr>\n",
       "      <th>13</th>\n",
       "      <td>IND</td>\n",
       "      <td>630</td>\n",
       "      <td>0.803580</td>\n",
       "      <td>0.8250</td>\n",
       "      <td>0.147619</td>\n",
       "      <td>0</td>\n",
       "    </tr>\n",
       "    <tr>\n",
       "      <th>28</th>\n",
       "      <td>VEN</td>\n",
       "      <td>1235</td>\n",
       "      <td>0.926687</td>\n",
       "      <td>0.9394</td>\n",
       "      <td>0.153846</td>\n",
       "      <td>0</td>\n",
       "    </tr>\n",
       "    <tr>\n",
       "      <th>0</th>\n",
       "      <td>ARG</td>\n",
       "      <td>317</td>\n",
       "      <td>0.901926</td>\n",
       "      <td>0.9130</td>\n",
       "      <td>0.173502</td>\n",
       "      <td>0</td>\n",
       "    </tr>\n",
       "    <tr>\n",
       "      <th>21</th>\n",
       "      <td>PRT</td>\n",
       "      <td>429</td>\n",
       "      <td>0.839761</td>\n",
       "      <td>0.8250</td>\n",
       "      <td>0.184149</td>\n",
       "      <td>0</td>\n",
       "    </tr>\n",
       "    <tr>\n",
       "      <th>1</th>\n",
       "      <td>BGD</td>\n",
       "      <td>254</td>\n",
       "      <td>0.825000</td>\n",
       "      <td>0.8250</td>\n",
       "      <td>0.192913</td>\n",
       "      <td>0</td>\n",
       "    </tr>\n",
       "    <tr>\n",
       "      <th>12</th>\n",
       "      <td>IDN</td>\n",
       "      <td>338</td>\n",
       "      <td>0.961538</td>\n",
       "      <td>0.9500</td>\n",
       "      <td>0.210059</td>\n",
       "      <td>0</td>\n",
       "    </tr>\n",
       "    <tr>\n",
       "      <th>5</th>\n",
       "      <td>BRA</td>\n",
       "      <td>302</td>\n",
       "      <td>0.852645</td>\n",
       "      <td>0.8788</td>\n",
       "      <td>0.218543</td>\n",
       "      <td>0</td>\n",
       "    </tr>\n",
       "    <tr>\n",
       "      <th>19</th>\n",
       "      <td>PHL</td>\n",
       "      <td>113</td>\n",
       "      <td>0.956500</td>\n",
       "      <td>0.9565</td>\n",
       "      <td>0.230088</td>\n",
       "      <td>0</td>\n",
       "    </tr>\n",
       "    <tr>\n",
       "      <th>18</th>\n",
       "      <td>PER</td>\n",
       "      <td>67</td>\n",
       "      <td>0.944400</td>\n",
       "      <td>0.9444</td>\n",
       "      <td>0.268657</td>\n",
       "      <td>1</td>\n",
       "    </tr>\n",
       "    <tr>\n",
       "      <th>4</th>\n",
       "      <td>BOL</td>\n",
       "      <td>9</td>\n",
       "      <td>1.000000</td>\n",
       "      <td>1.0000</td>\n",
       "      <td>0.333333</td>\n",
       "      <td>1</td>\n",
       "    </tr>\n",
       "    <tr>\n",
       "      <th>22</th>\n",
       "      <td>ROU</td>\n",
       "      <td>258</td>\n",
       "      <td>0.925000</td>\n",
       "      <td>0.9250</td>\n",
       "      <td>0.422481</td>\n",
       "      <td>1</td>\n",
       "    </tr>\n",
       "    <tr>\n",
       "      <th>27</th>\n",
       "      <td>USA</td>\n",
       "      <td>552</td>\n",
       "      <td>0.813038</td>\n",
       "      <td>0.8000</td>\n",
       "      <td>0.577899</td>\n",
       "      <td>1</td>\n",
       "    </tr>\n",
       "    <tr>\n",
       "      <th>9</th>\n",
       "      <td>ESP</td>\n",
       "      <td>260</td>\n",
       "      <td>0.800000</td>\n",
       "      <td>0.8000</td>\n",
       "      <td>0.761538</td>\n",
       "      <td>1</td>\n",
       "    </tr>\n",
       "    <tr>\n",
       "      <th>26</th>\n",
       "      <td>TWN</td>\n",
       "      <td>258</td>\n",
       "      <td>0.800000</td>\n",
       "      <td>0.8000</td>\n",
       "      <td>0.821705</td>\n",
       "      <td>1</td>\n",
       "    </tr>\n",
       "  </tbody>\n",
       "</table>\n",
       "</div>"
      ],
      "text/plain": [
       "   _country  jobs_count  mean_trust  median_trust  percent_minority_judgments  \\\n",
       "29      VNM          25    0.923100        0.9231                    0.040000   \n",
       "2       BGR          94    0.904800        0.9048                    0.063830   \n",
       "17      MYS         103    0.954500        0.9545                    0.067961   \n",
       "8       DEU          26    0.923100        0.9231                    0.076923   \n",
       "24      SVN          61    0.941200        0.9412                    0.081967   \n",
       "6       COL          21    1.000000        1.0000                    0.095238   \n",
       "10      HND         129    1.000000        1.0000                    0.100775   \n",
       "11      HRV         260    0.825000        0.8250                    0.103846   \n",
       "7       CZE           9    1.000000        1.0000                    0.111111   \n",
       "14      ITA         450    0.909356        0.9310                    0.113333   \n",
       "25      TUR        1253    0.861958        0.8500                    0.127694   \n",
       "3       BIH         217    0.955624        1.0000                    0.138249   \n",
       "23      SRB         768    0.912320        0.8788                    0.140625   \n",
       "15      MEX          70    0.858036        0.8125                    0.142857   \n",
       "16      MKD          35    0.857100        0.8571                    0.142857   \n",
       "20      POL         515    0.937621        1.0000                    0.147573   \n",
       "13      IND         630    0.803580        0.8250                    0.147619   \n",
       "28      VEN        1235    0.926687        0.9394                    0.153846   \n",
       "0       ARG         317    0.901926        0.9130                    0.173502   \n",
       "21      PRT         429    0.839761        0.8250                    0.184149   \n",
       "1       BGD         254    0.825000        0.8250                    0.192913   \n",
       "12      IDN         338    0.961538        0.9500                    0.210059   \n",
       "5       BRA         302    0.852645        0.8788                    0.218543   \n",
       "19      PHL         113    0.956500        0.9565                    0.230088   \n",
       "18      PER          67    0.944400        0.9444                    0.268657   \n",
       "4       BOL           9    1.000000        1.0000                    0.333333   \n",
       "22      ROU         258    0.925000        0.9250                    0.422481   \n",
       "27      USA         552    0.813038        0.8000                    0.577899   \n",
       "9       ESP         260    0.800000        0.8000                    0.761538   \n",
       "26      TWN         258    0.800000        0.8000                    0.821705   \n",
       "\n",
       "    is_bad  \n",
       "29       0  \n",
       "2        0  \n",
       "17       0  \n",
       "8        0  \n",
       "24       0  \n",
       "6        0  \n",
       "10       0  \n",
       "11       0  \n",
       "7        0  \n",
       "14       0  \n",
       "25       0  \n",
       "3        0  \n",
       "23       0  \n",
       "15       0  \n",
       "16       0  \n",
       "20       0  \n",
       "13       0  \n",
       "28       0  \n",
       "0        0  \n",
       "21       0  \n",
       "1        0  \n",
       "12       0  \n",
       "5        0  \n",
       "19       0  \n",
       "18       1  \n",
       "4        1  \n",
       "22       1  \n",
       "27       1  \n",
       "9        1  \n",
       "26       1  "
      ]
     },
     "execution_count": 383,
     "metadata": {},
     "output_type": "execute_result"
    }
   ],
   "source": [
    "country_df.sort(columns = 'percent_minority_judgments')"
   ]
  },
  {
   "cell_type": "code",
   "execution_count": 385,
   "metadata": {
    "collapsed": false,
    "scrolled": false
   },
   "outputs": [],
   "source": [
    "# see the corresponde of low trust and minority judgments \n",
    "minority_judgments = country_df['percent_minority_judgments']\n",
    "\n",
    "## remove the contradictory countries: \n",
    "mu = np.mean(minority_judgments)\n",
    "z = 1.96\n",
    "other_part = (mu)*(1-mu)/len(scores)\n",
    "other_part = other_part ** .5\n",
    "low_ci_val = mu - z*other_part\n",
    "high_ci_val = mu + z*other_part\n",
    "\n",
    "\n",
    "bad_countries = []\n",
    "for country in country_df['_country']:\n",
    "    is_bad = float(country_df['percent_minority_judgments'][country_df['_country'] == country])  > high_ci_val\n",
    "    bad_countries.append(int(is_bad))\n",
    "country_df['is_bad'] = bad_countries"
   ]
  },
  {
   "cell_type": "code",
   "execution_count": 358,
   "metadata": {
    "collapsed": true
   },
   "outputs": [],
   "source": [
    "# remove the bad countries from the master df (raw df, but renamed to good_countries_only)\n",
    "good_countries = []\n",
    "for line in raw_df.iterrows():\n",
    "    country_val = int(line[1]['_country'] in set(country_df[country_df['is_bad'] != 1]['_country']))\n",
    "    good_countries.append(country_val)\n",
    "\n",
    "temp_df = raw_df\n",
    "temp_df['good_country'] = good_countries\n",
    "good_countries_only = temp_df[raw_df['good_country'] == 1]"
   ]
  },
  {
   "cell_type": "code",
   "execution_count": 359,
   "metadata": {
    "collapsed": false
   },
   "outputs": [],
   "source": []
  },
  {
   "cell_type": "code",
   "execution_count": 360,
   "metadata": {
    "collapsed": false
   },
   "outputs": [],
   "source": []
  },
  {
   "cell_type": "code",
   "execution_count": 361,
   "metadata": {
    "collapsed": true
   },
   "outputs": [],
   "source": []
  },
  {
   "cell_type": "code",
   "execution_count": 362,
   "metadata": {
    "collapsed": true
   },
   "outputs": [],
   "source": [
    "## normalize\n",
    "##\n",
    "\n",
    "def normalize(list_of_numbers):\n",
    "    min_value = min(list_of_numbers)\n",
    "    list_less_min = list_of_numbers - min_value\n",
    "    max_value = max(list_less_min)\n",
    "    normalized_values = list_less_min / max_value\n",
    "    return normalized_values\n",
    "\n"
   ]
  },
  {
   "cell_type": "code",
   "execution_count": 363,
   "metadata": {
    "collapsed": false,
    "scrolled": false
   },
   "outputs": [],
   "source": [
    "# get the unit ides for the key for the data frame\n",
    "unit_ids = []\n",
    "mean_scores_list = []\n",
    "mode_scores_list = []\n",
    "\n",
    "for group in raw_df.groupby('_unit_id')['please_make_your_relevancy_judgment']:\n",
    "    unit_ids.append(group[0])\n",
    "    mean_scores_list.append(np.mean(group[1]))\n",
    "    \n",
    "\n",
    "unit_id_scores = pd.DataFrame()\n",
    "unit_id_scores['_unit_id'] = unit_ids\n",
    "unit_id_scores['mean_score'] = mean_scores_list\n",
    "unit_id_scores['normalized_mean_score'] = normalize(mean_scores_list)\n",
    "unit_id_scores['rounded_normalized_mean_scores'] = unit_id_scores['normalized_mean_score'].apply(lambda x: int(x > .5))"
   ]
  },
  {
   "cell_type": "code",
   "execution_count": 364,
   "metadata": {
    "collapsed": false
   },
   "outputs": [
    {
     "data": {
      "text/plain": [
       "<matplotlib.axes._subplots.AxesSubplot at 0x10fead690>"
      ]
     },
     "execution_count": 364,
     "metadata": {},
     "output_type": "execute_result"
    },
    {
     "data": {
      "image/png": "[encoded data removed]",
      "text/plain": [
       "<matplotlib.figure.Figure at 0x11272c0d0>"
      ]
     },
     "metadata": {},
     "output_type": "display_data"
    }
   ],
   "source": [
    "unit_id_scores['normalized_mean_score'].hist(bins = 50, figsize= (20,10), normed = True)\n",
    "unit_id_scores['normalized_mean_score'].plot(kind = 'kde')"
   ]
  },
  {
   "cell_type": "code",
   "execution_count": 365,
   "metadata": {
    "collapsed": false
   },
   "outputs": [
    {
     "data": {
      "text/plain": [
       "<matplotlib.axes._subplots.AxesSubplot at 0x110496f50>"
      ]
     },
     "execution_count": 365,
     "metadata": {},
     "output_type": "execute_result"
    },
    {
     "data": {
      "image/png": "[encoded data removed]",
      "text/plain": [
       "<matplotlib.figure.Figure at 0x113864950>"
      ]
     },
     "metadata": {},
     "output_type": "display_data"
    }
   ],
   "source": [
    "unit_id_scores['normalized_mean_score'][unit_id_scores['normalized_mean_score'] > .01].hist(bins = 30)"
   ]
  },
  {
   "cell_type": "code",
   "execution_count": null,
   "metadata": {
    "collapsed": true
   },
   "outputs": [],
   "source": []
  },
  {
   "cell_type": "code",
   "execution_count": null,
   "metadata": {
    "collapsed": true
   },
   "outputs": [],
   "source": [
    "### can i cluster countries together?\n",
    "\n",
    "\n",
    "country_cluster_df = raw_df[['_country', '_unit_id', 'please_make_your_relevancy_judgment']]"
   ]
  },
  {
   "cell_type": "code",
   "execution_count": 381,
   "metadata": {
    "collapsed": false
   },
   "outputs": [
    {
     "data": {
      "text/plain": [
       "_country\n",
       "ARG    1.545741\n",
       "BGD    1.456693\n",
       "BGR    1.085106\n",
       "BIH    1.695853\n",
       "BOL    1.666667\n",
       "BRA    1.735099\n",
       "COL    1.666667\n",
       "CZE    1.222222\n",
       "DEU    1.461538\n",
       "ESP    2.915385\n",
       "HND    1.480620\n",
       "HRV    1.284615\n",
       "IDN    1.242604\n",
       "IND    1.152381\n",
       "ITA    1.535556\n",
       "MEX    1.314286\n",
       "MKD    1.800000\n",
       "MYS    1.563107\n",
       "PER    1.567164\n",
       "PHL    1.840708\n",
       "POL    1.504854\n",
       "PRT    1.361305\n",
       "ROU    1.988372\n",
       "SRB    1.574219\n",
       "SVN    1.688525\n",
       "TUR    1.265762\n",
       "TWN    3.000000\n",
       "USA    2.244565\n",
       "VEN    1.572470\n",
       "VNM    1.960000\n",
       "Name: please_make_your_relevancy_judgment, dtype: float64"
      ]
     },
     "execution_count": 381,
     "metadata": {},
     "output_type": "execute_result"
    }
   ],
   "source": [
    "raw_df.groupby('_country')['please_make_your_relevancy_judgment'].mean()"
   ]
  },
  {
   "cell_type": "code",
   "execution_count": null,
   "metadata": {
    "collapsed": true
   },
   "outputs": [],
   "source": []
  },
  {
   "cell_type": "code",
   "execution_count": null,
   "metadata": {
    "collapsed": true
   },
   "outputs": [],
   "source": []
  }
 ],
 "metadata": {
  "kernelspec": {
   "display_name": "Python 2",
   "language": "python",
   "name": "python2"
  },
  "language_info": {
   "codemirror_mode": {
    "name": "ipython",
    "version": 2
   },
   "file_extension": ".py",
   "mimetype": "text/x-python",
   "name": "python",
   "nbconvert_exporter": "python",
   "pygments_lexer": "ipython2",
   "version": "2.7.11"
  }
 },
 "nbformat": 4,
 "nbformat_minor": 0
}
